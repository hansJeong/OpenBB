{
 "cells": [
  {
   "attachments": {},
   "cell_type": "markdown",
   "metadata": {},
   "source": [
    "# Import"
   ]
  },
  {
   "cell_type": "code",
   "execution_count": 1,
   "metadata": {},
   "outputs": [
    {
     "data": {
      "text/html": [
       "        <script type=\"text/javascript\">\n",
       "        window.PlotlyConfig = {MathJaxConfig: 'local'};\n",
       "        if (window.MathJax && window.MathJax.Hub && window.MathJax.Hub.Config) {window.MathJax.Hub.Config({SVG: {font: \"STIX-Web\"}});}\n",
       "        if (typeof require !== 'undefined') {\n",
       "        require.undef(\"plotly\");\n",
       "        requirejs.config({\n",
       "            paths: {\n",
       "                'plotly': ['https://cdn.plot.ly/plotly-2.20.0.min']\n",
       "            }\n",
       "        });\n",
       "        require(['plotly'], function(Plotly) {\n",
       "            window._Plotly = Plotly;\n",
       "        });\n",
       "        }\n",
       "        </script>\n",
       "        "
      ]
     },
     "metadata": {},
     "output_type": "display_data"
    }
   ],
   "source": [
    "import pandas as pd\n",
    "import warnings\n",
    "warnings.filterwarnings('ignore')\n",
    "import numpy as np\n",
    "from datetime import datetime as dt\n",
    "from dateutil.relativedelta import relativedelta\n",
    "\n",
    "from openbb_terminal.sdk import openbb, TerminalStyle\n",
    "theme = TerminalStyle(\"dark\", \"dark\", \"dark\")\n",
    "## 가이드 문서 https://docs.openbb.co/sdk/usage/intros\n",
    "\n",
    "\n",
    "# 시각화 도구\n",
    "import plotly_express as px\n",
    "import plotly.figure_factory as ff\n",
    "import cufflinks as cf\n",
    "cf.go_offline(connected=True)\n",
    "cf.set_config_file(theme='space')\n",
    "import plotly.graph_objects as go\n",
    "\n",
    "import matplotlib\n",
    "%matplotlib inline\n",
    "import matplotlib.pyplot as plt\n",
    "import seaborn as sns\n",
    "plt.rcParams['font.family'] = 'Malgun Gothic'\n",
    "plt.rcParams['axes.unicode_minus'] = False\n",
    "plt.rcParams[\"figure.figsize\"] = (5,3)"
   ]
  },
  {
   "attachments": {},
   "cell_type": "markdown",
   "metadata": {},
   "source": [
    "# APIs"
   ]
  },
  {
   "cell_type": "code",
   "execution_count": 46,
   "metadata": {},
   "outputs": [
    {
     "data": {
      "text/plain": [
       "'Defined, test passed'"
      ]
     },
     "execution_count": 46,
     "metadata": {},
     "output_type": "execute_result"
    }
   ],
   "source": [
    "API_key_quandl = 'M6KuKMhwUZNBVECkLswK'\n",
    "openbb.keys.quandl(key = API_key_quandl, persist = True)"
   ]
  },
  {
   "cell_type": "code",
   "execution_count": 47,
   "metadata": {},
   "outputs": [
    {
     "data": {
      "text/plain": [
       "'Defined, test passed'"
      ]
     },
     "execution_count": 47,
     "metadata": {},
     "output_type": "execute_result"
    }
   ],
   "source": [
    "API_key_fred = 'cfb4f49f5c1a9396f671b8049d992e56'\n",
    "openbb.keys.fred(key = API_key_fred, persist = True)"
   ]
  },
  {
   "attachments": {},
   "cell_type": "markdown",
   "metadata": {},
   "source": [
    "# Dashboard"
   ]
  },
  {
   "attachments": {},
   "cell_type": "markdown",
   "metadata": {},
   "source": [
    "## Macro"
   ]
  },
  {
   "cell_type": "code",
   "execution_count": 3,
   "metadata": {},
   "outputs": [],
   "source": [
    "indexes = pd.DataFrame.from_dict(openbb.economy.available_indices()).transpose()\n",
    "## 상시조회 X\n",
    "macro_prams = openbb.economy.macro_parameters() ## 메크로 조회가능 파라미터\n",
    "macro_countries = openbb.economy.macro_countries() ## 메크로 조회가능 국가\n",
    "## data, units, denomination = openbb.economy.macro([pram for pram in macro_prams])\n",
    "\n",
    "## Government Defict/Suplus\n",
    "## openbb.economy.balance_chart(['united_states', 'korea'])\n",
    "## Government Dep to GDP\n",
    "## openbb.economy.debt_chart(['united_states', 'korea'])\n",
    "\n",
    "### Consumer Price Index(CPI)\n",
    "## ccpi = openbb.economy.ccpi(['united_states', 'korea'], frequency = 'M', start_date = '1970-01-01')\n",
    "## cpi = openbb.economy.cpi(['united_states', 'korea'], frequency = 'monthly') ## Long Term\n",
    "## ccpi.iplot()"
   ]
  },
  {
   "attachments": {},
   "cell_type": "markdown",
   "metadata": {},
   "source": [
    "### Forecast of GDP"
   ]
  },
  {
   "cell_type": "code",
   "execution_count": 4,
   "metadata": {},
   "outputs": [],
   "source": [
    "fgdp = openbb.economy.fgdp(['united_states', 'korea'])"
   ]
  },
  {
   "cell_type": "code",
   "execution_count": 5,
   "metadata": {},
   "outputs": [
    {
     "data": {
      "application/vnd.plotly.v1+json": {
       "config": {
        "linkText": "Export to plot.ly",
        "plotlyServerURL": "https://plot.ly",
        "showLink": true
       },
       "data": [
        {
         "line": {
          "color": "rgba(255, 153, 51, 1.0)",
          "dash": "solid",
          "shape": "linear",
          "width": 1.3
         },
         "mode": "lines",
         "name": "united_states",
         "text": "",
         "type": "scatter",
         "x": [
          "2022-07-01",
          "2022-10-01",
          "2023-01-01",
          "2023-04-01",
          "2023-07-01",
          "2023-10-01",
          "2024-01-01",
          "2024-04-01",
          "2024-07-01",
          "2024-10-01"
         ],
         "y": [
          2.56665313251622,
          0.495711903434155,
          0.255565818900577,
          0.220363844093972,
          0.221031874706486,
          0.597536320009314,
          0.944017707674826,
          1.35669676704529,
          1.98634583234328,
          2.2493665388559
         ]
        },
        {
         "line": {
          "color": "rgba(55, 128, 191, 1.0)",
          "dash": "solid",
          "shape": "linear",
          "width": 1.3
         },
         "mode": "lines",
         "name": "korea",
         "text": "",
         "type": "scatter",
         "x": [
          "2022-07-01",
          "2022-10-01",
          "2023-01-01",
          "2023-04-01",
          "2023-07-01",
          "2023-10-01",
          "2024-01-01",
          "2024-04-01",
          "2024-07-01",
          "2024-10-01"
         ],
         "y": [
          1.09078171331679,
          1.25861044653457,
          1.46817142484451,
          2.00280129061278,
          2.48060196634592,
          2.58850236358577,
          1.76434584694502,
          1.42041614598893,
          1.58336158703742,
          1.71709241607632
         ]
        }
       ],
       "layout": {
        "legend": {
         "bgcolor": "#1A1A1C",
         "font": {
          "color": "#D9D9D9"
         }
        },
        "paper_bgcolor": "#1A1A1C",
        "plot_bgcolor": "#1A1A1C",
        "template": {
         "data": {
          "bar": [
           {
            "error_x": {
             "color": "#f2f5fa"
            },
            "error_y": {
             "color": "#f2f5fa"
            },
            "marker": {
             "line": {
              "color": "rgb(17,17,17)",
              "width": 0.5
             },
             "pattern": {
              "fillmode": "overlay",
              "size": 10,
              "solidity": 0.2
             }
            },
            "type": "bar"
           }
          ],
          "barpolar": [
           {
            "marker": {
             "line": {
              "color": "rgb(17,17,17)",
              "width": 0.5
             },
             "pattern": {
              "fillmode": "overlay",
              "size": 10,
              "solidity": 0.2
             }
            },
            "type": "barpolar"
           }
          ],
          "candlestick": [
           {
            "decreasing": {
             "fillcolor": "#e4003a",
             "line": {
              "color": "#e4003a"
             }
            },
            "increasing": {
             "fillcolor": "#00ACFF",
             "line": {
              "color": "#00ACFF"
             }
            },
            "type": "candlestick"
           }
          ],
          "carpet": [
           {
            "aaxis": {
             "endlinecolor": "#A2B1C6",
             "gridcolor": "#506784",
             "linecolor": "#506784",
             "minorgridcolor": "#506784",
             "startlinecolor": "#A2B1C6"
            },
            "baxis": {
             "endlinecolor": "#A2B1C6",
             "gridcolor": "#506784",
             "linecolor": "#506784",
             "minorgridcolor": "#506784",
             "startlinecolor": "#A2B1C6"
            },
            "type": "carpet"
           }
          ],
          "choropleth": [
           {
            "colorbar": {
             "outlinewidth": 0,
             "ticks": ""
            },
            "type": "choropleth"
           }
          ],
          "contour": [
           {
            "colorbar": {
             "outlinewidth": 0,
             "ticks": ""
            },
            "colorscale": [
             [
              0,
              "#0d0887"
             ],
             [
              0.1111111111111111,
              "#46039f"
             ],
             [
              0.2222222222222222,
              "#7201a8"
             ],
             [
              0.3333333333333333,
              "#9c179e"
             ],
             [
              0.4444444444444444,
              "#bd3786"
             ],
             [
              0.5555555555555556,
              "#d8576b"
             ],
             [
              0.6666666666666666,
              "#ed7953"
             ],
             [
              0.7777777777777778,
              "#fb9f3a"
             ],
             [
              0.8888888888888888,
              "#fdca26"
             ],
             [
              1,
              "#f0f921"
             ]
            ],
            "type": "contour"
           }
          ],
          "contourcarpet": [
           {
            "colorbar": {
             "outlinewidth": 0,
             "ticks": ""
            },
            "type": "contourcarpet"
           }
          ],
          "heatmap": [
           {
            "colorbar": {
             "outlinewidth": 0,
             "ticks": ""
            },
            "colorscale": [
             [
              0,
              "#0d0887"
             ],
             [
              0.1111111111111111,
              "#46039f"
             ],
             [
              0.2222222222222222,
              "#7201a8"
             ],
             [
              0.3333333333333333,
              "#9c179e"
             ],
             [
              0.4444444444444444,
              "#bd3786"
             ],
             [
              0.5555555555555556,
              "#d8576b"
             ],
             [
              0.6666666666666666,
              "#ed7953"
             ],
             [
              0.7777777777777778,
              "#fb9f3a"
             ],
             [
              0.8888888888888888,
              "#fdca26"
             ],
             [
              1,
              "#f0f921"
             ]
            ],
            "type": "heatmap"
           }
          ],
          "heatmapgl": [
           {
            "colorbar": {
             "outlinewidth": 0,
             "ticks": ""
            },
            "colorscale": [
             [
              0,
              "#0d0887"
             ],
             [
              0.1111111111111111,
              "#46039f"
             ],
             [
              0.2222222222222222,
              "#7201a8"
             ],
             [
              0.3333333333333333,
              "#9c179e"
             ],
             [
              0.4444444444444444,
              "#bd3786"
             ],
             [
              0.5555555555555556,
              "#d8576b"
             ],
             [
              0.6666666666666666,
              "#ed7953"
             ],
             [
              0.7777777777777778,
              "#fb9f3a"
             ],
             [
              0.8888888888888888,
              "#fdca26"
             ],
             [
              1,
              "#f0f921"
             ]
            ],
            "type": "heatmapgl"
           }
          ],
          "histogram": [
           {
            "marker": {
             "pattern": {
              "fillmode": "overlay",
              "size": 10,
              "solidity": 0.2
             }
            },
            "type": "histogram"
           }
          ],
          "histogram2d": [
           {
            "colorbar": {
             "outlinewidth": 0,
             "ticks": ""
            },
            "colorscale": [
             [
              0,
              "#0d0887"
             ],
             [
              0.1111111111111111,
              "#46039f"
             ],
             [
              0.2222222222222222,
              "#7201a8"
             ],
             [
              0.3333333333333333,
              "#9c179e"
             ],
             [
              0.4444444444444444,
              "#bd3786"
             ],
             [
              0.5555555555555556,
              "#d8576b"
             ],
             [
              0.6666666666666666,
              "#ed7953"
             ],
             [
              0.7777777777777778,
              "#fb9f3a"
             ],
             [
              0.8888888888888888,
              "#fdca26"
             ],
             [
              1,
              "#f0f921"
             ]
            ],
            "type": "histogram2d"
           }
          ],
          "histogram2dcontour": [
           {
            "colorbar": {
             "outlinewidth": 0,
             "ticks": ""
            },
            "colorscale": [
             [
              0,
              "#0d0887"
             ],
             [
              0.1111111111111111,
              "#46039f"
             ],
             [
              0.2222222222222222,
              "#7201a8"
             ],
             [
              0.3333333333333333,
              "#9c179e"
             ],
             [
              0.4444444444444444,
              "#bd3786"
             ],
             [
              0.5555555555555556,
              "#d8576b"
             ],
             [
              0.6666666666666666,
              "#ed7953"
             ],
             [
              0.7777777777777778,
              "#fb9f3a"
             ],
             [
              0.8888888888888888,
              "#fdca26"
             ],
             [
              1,
              "#f0f921"
             ]
            ],
            "type": "histogram2dcontour"
           }
          ],
          "mesh3d": [
           {
            "colorbar": {
             "outlinewidth": 0,
             "ticks": ""
            },
            "type": "mesh3d"
           }
          ],
          "parcoords": [
           {
            "line": {
             "colorbar": {
              "outlinewidth": 0,
              "ticks": ""
             }
            },
            "type": "parcoords"
           }
          ],
          "pie": [
           {
            "automargin": true,
            "type": "pie"
           }
          ],
          "scatter": [
           {
            "marker": {
             "line": {
              "color": "#283442"
             }
            },
            "type": "scatter"
           }
          ],
          "scatter3d": [
           {
            "line": {
             "colorbar": {
              "outlinewidth": 0,
              "ticks": ""
             }
            },
            "marker": {
             "colorbar": {
              "outlinewidth": 0,
              "ticks": ""
             }
            },
            "type": "scatter3d"
           }
          ],
          "scattercarpet": [
           {
            "marker": {
             "colorbar": {
              "outlinewidth": 0,
              "ticks": ""
             }
            },
            "type": "scattercarpet"
           }
          ],
          "scattergeo": [
           {
            "marker": {
             "colorbar": {
              "outlinewidth": 0,
              "ticks": ""
             }
            },
            "type": "scattergeo"
           }
          ],
          "scattergl": [
           {
            "marker": {
             "line": {
              "color": "#283442"
             }
            },
            "type": "scattergl"
           }
          ],
          "scattermapbox": [
           {
            "marker": {
             "colorbar": {
              "outlinewidth": 0,
              "ticks": ""
             }
            },
            "type": "scattermapbox"
           }
          ],
          "scatterpolar": [
           {
            "marker": {
             "colorbar": {
              "outlinewidth": 0,
              "ticks": ""
             }
            },
            "type": "scatterpolar"
           }
          ],
          "scatterpolargl": [
           {
            "marker": {
             "colorbar": {
              "outlinewidth": 0,
              "ticks": ""
             }
            },
            "type": "scatterpolargl"
           }
          ],
          "scatterternary": [
           {
            "marker": {
             "colorbar": {
              "outlinewidth": 0,
              "ticks": ""
             }
            },
            "type": "scatterternary"
           }
          ],
          "surface": [
           {
            "colorbar": {
             "outlinewidth": 0,
             "ticks": ""
            },
            "colorscale": [
             [
              0,
              "#0d0887"
             ],
             [
              0.1111111111111111,
              "#46039f"
             ],
             [
              0.2222222222222222,
              "#7201a8"
             ],
             [
              0.3333333333333333,
              "#9c179e"
             ],
             [
              0.4444444444444444,
              "#bd3786"
             ],
             [
              0.5555555555555556,
              "#d8576b"
             ],
             [
              0.6666666666666666,
              "#ed7953"
             ],
             [
              0.7777777777777778,
              "#fb9f3a"
             ],
             [
              0.8888888888888888,
              "#fdca26"
             ],
             [
              1,
              "#f0f921"
             ]
            ],
            "type": "surface"
           }
          ],
          "table": [
           {
            "cells": {
             "fill": {
              "color": "#506784"
             },
             "line": {
              "color": "rgb(17,17,17)"
             }
            },
            "header": {
             "fill": {
              "color": "#2a3f5f"
             },
             "line": {
              "color": "rgb(17,17,17)"
             }
            },
            "type": "table"
           }
          ]
         },
         "layout": {
          "annotationdefaults": {
           "arrowcolor": "#f2f5fa",
           "arrowhead": 0,
           "arrowwidth": 1,
           "showarrow": false
          },
          "autotypenumbers": "strict",
          "coloraxis": {
           "colorbar": {
            "outlinewidth": 0,
            "ticks": ""
           }
          },
          "colorscale": {
           "diverging": [
            [
             0,
             "#8e0152"
            ],
            [
             0.1,
             "#c51b7d"
            ],
            [
             0.2,
             "#de77ae"
            ],
            [
             0.3,
             "#f1b6da"
            ],
            [
             0.4,
             "#fde0ef"
            ],
            [
             0.5,
             "#f7f7f7"
            ],
            [
             0.6,
             "#e6f5d0"
            ],
            [
             0.7,
             "#b8e186"
            ],
            [
             0.8,
             "#7fbc41"
            ],
            [
             0.9,
             "#4d9221"
            ],
            [
             1,
             "#276419"
            ]
           ],
           "sequential": [
            [
             0,
             "#0d0887"
            ],
            [
             0.1111111111111111,
             "#46039f"
            ],
            [
             0.2222222222222222,
             "#7201a8"
            ],
            [
             0.3333333333333333,
             "#9c179e"
            ],
            [
             0.4444444444444444,
             "#bd3786"
            ],
            [
             0.5555555555555556,
             "#d8576b"
            ],
            [
             0.6666666666666666,
             "#ed7953"
            ],
            [
             0.7777777777777778,
             "#fb9f3a"
            ],
            [
             0.8888888888888888,
             "#fdca26"
            ],
            [
             1,
             "#f0f921"
            ]
           ],
           "sequentialminus": [
            [
             0,
             "#0d0887"
            ],
            [
             0.1111111111111111,
             "#46039f"
            ],
            [
             0.2222222222222222,
             "#7201a8"
            ],
            [
             0.3333333333333333,
             "#9c179e"
            ],
            [
             0.4444444444444444,
             "#bd3786"
            ],
            [
             0.5555555555555556,
             "#d8576b"
            ],
            [
             0.6666666666666666,
             "#ed7953"
            ],
            [
             0.7777777777777778,
             "#fb9f3a"
            ],
            [
             0.8888888888888888,
             "#fdca26"
            ],
            [
             1,
             "#f0f921"
            ]
           ]
          },
          "colorway": [
           "#ffed00",
           "#ef7d00",
           "#e4003a",
           "#c13246",
           "#822661",
           "#48277c",
           "#005ca9",
           "#00aaff",
           "#9b30d9",
           "#af005f",
           "#5f00af",
           "#af87ff"
          ],
          "dragmode": "pan",
          "font": {
           "color": "#f2f5fa",
           "family": "Fira Code",
           "size": 18
          },
          "geo": {
           "bgcolor": "rgb(17,17,17)",
           "lakecolor": "rgb(17,17,17)",
           "landcolor": "rgb(17,17,17)",
           "showlakes": true,
           "showland": true,
           "subunitcolor": "#506784"
          },
          "hoverlabel": {
           "align": "left"
          },
          "hovermode": "x",
          "legend": {
           "bgcolor": "rgba(0, 0, 0, 0)",
           "font": {
            "size": 15
           },
           "x": 0.01,
           "xanchor": "left",
           "y": 0.99,
           "yanchor": "top"
          },
          "mapbox": {
           "style": "dark"
          },
          "paper_bgcolor": "#000000",
          "plot_bgcolor": "#000000",
          "polar": {
           "angularaxis": {
            "gridcolor": "#506784",
            "linecolor": "#506784",
            "ticks": ""
           },
           "bgcolor": "rgb(17,17,17)",
           "radialaxis": {
            "gridcolor": "#506784",
            "linecolor": "#506784",
            "ticks": ""
           }
          },
          "scene": {
           "xaxis": {
            "backgroundcolor": "rgb(17,17,17)",
            "gridcolor": "#506784",
            "gridwidth": 2,
            "linecolor": "#506784",
            "showbackground": true,
            "ticks": "",
            "zerolinecolor": "#C8D4E3"
           },
           "yaxis": {
            "backgroundcolor": "rgb(17,17,17)",
            "gridcolor": "#506784",
            "gridwidth": 2,
            "linecolor": "#506784",
            "showbackground": true,
            "ticks": "",
            "zerolinecolor": "#C8D4E3"
           },
           "zaxis": {
            "backgroundcolor": "rgb(17,17,17)",
            "gridcolor": "#506784",
            "gridwidth": 2,
            "linecolor": "#506784",
            "showbackground": true,
            "ticks": "",
            "zerolinecolor": "#C8D4E3"
           }
          },
          "shapedefaults": {
           "line": {
            "color": "#f2f5fa"
           }
          },
          "sliderdefaults": {
           "bgcolor": "#C8D4E3",
           "bordercolor": "rgb(17,17,17)",
           "borderwidth": 1,
           "tickwidth": 0
          },
          "ternary": {
           "aaxis": {
            "gridcolor": "#506784",
            "linecolor": "#506784",
            "ticks": ""
           },
           "baxis": {
            "gridcolor": "#506784",
            "linecolor": "#506784",
            "ticks": ""
           },
           "bgcolor": "rgb(17,17,17)",
           "caxis": {
            "gridcolor": "#506784",
            "linecolor": "#506784",
            "ticks": ""
           }
          },
          "title": {
           "x": 0.05
          },
          "updatemenudefaults": {
           "bgcolor": "#506784",
           "borderwidth": 0
          },
          "xaxis": {
           "automargin": true,
           "autorange": true,
           "gridcolor": "#283442",
           "linecolor": "#F5EFF3",
           "mirror": true,
           "rangeslider": {
            "visible": false
           },
           "showgrid": true,
           "showline": true,
           "tick0": 1,
           "tickfont": {
            "size": 14
           },
           "ticks": "outside",
           "title": {
            "standoff": 20
           },
           "zeroline": false,
           "zerolinecolor": "#283442",
           "zerolinewidth": 2
          },
          "yaxis": {
           "anchor": "x",
           "automargin": true,
           "fixedrange": false,
           "gridcolor": "#283442",
           "linecolor": "#F5EFF3",
           "mirror": true,
           "showgrid": true,
           "showline": true,
           "side": "right",
           "tick0": 0.5,
           "ticks": "outside",
           "title": {
            "standoff": 20
           },
           "zeroline": false,
           "zerolinecolor": "#283442",
           "zerolinewidth": 2
          }
         }
        },
        "title": {
         "font": {
          "color": "#D9D9D9"
         }
        },
        "xaxis": {
         "gridcolor": "#434343",
         "showgrid": true,
         "tickfont": {
          "color": "#C2C2C2"
         },
         "title": {
          "font": {
           "color": "#D9D9D9"
          },
          "text": ""
         },
         "zerolinecolor": "#666570"
        },
        "yaxis": {
         "gridcolor": "#434343",
         "showgrid": true,
         "tickfont": {
          "color": "#C2C2C2"
         },
         "title": {
          "font": {
           "color": "#D9D9D9"
          },
          "text": ""
         },
         "zerolinecolor": "#666570"
        }
       }
      },
      "text/html": [
       "<div>                            <div id=\"fb11299e-1e0b-473a-803d-7390866fed61\" class=\"plotly-graph-div\" style=\"height:525px; width:100%;\"></div>            <script type=\"text/javascript\">                require([\"plotly\"], function(Plotly) {                    window.PLOTLYENV=window.PLOTLYENV || {};\n",
       "                    window.PLOTLYENV.BASE_URL='https://plot.ly';                                    if (document.getElementById(\"fb11299e-1e0b-473a-803d-7390866fed61\")) {                    Plotly.newPlot(                        \"fb11299e-1e0b-473a-803d-7390866fed61\",                        [{\"line\":{\"color\":\"rgba(255, 153, 51, 1.0)\",\"dash\":\"solid\",\"shape\":\"linear\",\"width\":1.3},\"mode\":\"lines\",\"name\":\"united_states\",\"text\":\"\",\"x\":[\"2022-07-01\",\"2022-10-01\",\"2023-01-01\",\"2023-04-01\",\"2023-07-01\",\"2023-10-01\",\"2024-01-01\",\"2024-04-01\",\"2024-07-01\",\"2024-10-01\"],\"y\":[2.56665313251622,0.495711903434155,0.255565818900577,0.220363844093972,0.221031874706486,0.597536320009314,0.944017707674826,1.35669676704529,1.98634583234328,2.2493665388559],\"type\":\"scatter\"},{\"line\":{\"color\":\"rgba(55, 128, 191, 1.0)\",\"dash\":\"solid\",\"shape\":\"linear\",\"width\":1.3},\"mode\":\"lines\",\"name\":\"korea\",\"text\":\"\",\"x\":[\"2022-07-01\",\"2022-10-01\",\"2023-01-01\",\"2023-04-01\",\"2023-07-01\",\"2023-10-01\",\"2024-01-01\",\"2024-04-01\",\"2024-07-01\",\"2024-10-01\"],\"y\":[1.09078171331679,1.25861044653457,1.46817142484451,2.00280129061278,2.48060196634592,2.58850236358577,1.76434584694502,1.42041614598893,1.58336158703742,1.71709241607632],\"type\":\"scatter\"}],                        {\"legend\":{\"bgcolor\":\"#1A1A1C\",\"font\":{\"color\":\"#D9D9D9\"}},\"paper_bgcolor\":\"#1A1A1C\",\"plot_bgcolor\":\"#1A1A1C\",\"template\":{\"data\":{\"barpolar\":[{\"marker\":{\"line\":{\"color\":\"rgb(17,17,17)\",\"width\":0.5},\"pattern\":{\"fillmode\":\"overlay\",\"size\":10,\"solidity\":0.2}},\"type\":\"barpolar\"}],\"bar\":[{\"error_x\":{\"color\":\"#f2f5fa\"},\"error_y\":{\"color\":\"#f2f5fa\"},\"marker\":{\"line\":{\"color\":\"rgb(17,17,17)\",\"width\":0.5},\"pattern\":{\"fillmode\":\"overlay\",\"size\":10,\"solidity\":0.2}},\"type\":\"bar\"}],\"candlestick\":[{\"decreasing\":{\"fillcolor\":\"#e4003a\",\"line\":{\"color\":\"#e4003a\"}},\"increasing\":{\"fillcolor\":\"#00ACFF\",\"line\":{\"color\":\"#00ACFF\"}},\"type\":\"candlestick\"}],\"carpet\":[{\"aaxis\":{\"endlinecolor\":\"#A2B1C6\",\"gridcolor\":\"#506784\",\"linecolor\":\"#506784\",\"minorgridcolor\":\"#506784\",\"startlinecolor\":\"#A2B1C6\"},\"baxis\":{\"endlinecolor\":\"#A2B1C6\",\"gridcolor\":\"#506784\",\"linecolor\":\"#506784\",\"minorgridcolor\":\"#506784\",\"startlinecolor\":\"#A2B1C6\"},\"type\":\"carpet\"}],\"choropleth\":[{\"colorbar\":{\"outlinewidth\":0,\"ticks\":\"\"},\"type\":\"choropleth\"}],\"contourcarpet\":[{\"colorbar\":{\"outlinewidth\":0,\"ticks\":\"\"},\"type\":\"contourcarpet\"}],\"contour\":[{\"colorbar\":{\"outlinewidth\":0,\"ticks\":\"\"},\"colorscale\":[[0.0,\"#0d0887\"],[0.1111111111111111,\"#46039f\"],[0.2222222222222222,\"#7201a8\"],[0.3333333333333333,\"#9c179e\"],[0.4444444444444444,\"#bd3786\"],[0.5555555555555556,\"#d8576b\"],[0.6666666666666666,\"#ed7953\"],[0.7777777777777778,\"#fb9f3a\"],[0.8888888888888888,\"#fdca26\"],[1.0,\"#f0f921\"]],\"type\":\"contour\"}],\"heatmapgl\":[{\"colorbar\":{\"outlinewidth\":0,\"ticks\":\"\"},\"colorscale\":[[0.0,\"#0d0887\"],[0.1111111111111111,\"#46039f\"],[0.2222222222222222,\"#7201a8\"],[0.3333333333333333,\"#9c179e\"],[0.4444444444444444,\"#bd3786\"],[0.5555555555555556,\"#d8576b\"],[0.6666666666666666,\"#ed7953\"],[0.7777777777777778,\"#fb9f3a\"],[0.8888888888888888,\"#fdca26\"],[1.0,\"#f0f921\"]],\"type\":\"heatmapgl\"}],\"heatmap\":[{\"colorbar\":{\"outlinewidth\":0,\"ticks\":\"\"},\"colorscale\":[[0.0,\"#0d0887\"],[0.1111111111111111,\"#46039f\"],[0.2222222222222222,\"#7201a8\"],[0.3333333333333333,\"#9c179e\"],[0.4444444444444444,\"#bd3786\"],[0.5555555555555556,\"#d8576b\"],[0.6666666666666666,\"#ed7953\"],[0.7777777777777778,\"#fb9f3a\"],[0.8888888888888888,\"#fdca26\"],[1.0,\"#f0f921\"]],\"type\":\"heatmap\"}],\"histogram2dcontour\":[{\"colorbar\":{\"outlinewidth\":0,\"ticks\":\"\"},\"colorscale\":[[0.0,\"#0d0887\"],[0.1111111111111111,\"#46039f\"],[0.2222222222222222,\"#7201a8\"],[0.3333333333333333,\"#9c179e\"],[0.4444444444444444,\"#bd3786\"],[0.5555555555555556,\"#d8576b\"],[0.6666666666666666,\"#ed7953\"],[0.7777777777777778,\"#fb9f3a\"],[0.8888888888888888,\"#fdca26\"],[1.0,\"#f0f921\"]],\"type\":\"histogram2dcontour\"}],\"histogram2d\":[{\"colorbar\":{\"outlinewidth\":0,\"ticks\":\"\"},\"colorscale\":[[0.0,\"#0d0887\"],[0.1111111111111111,\"#46039f\"],[0.2222222222222222,\"#7201a8\"],[0.3333333333333333,\"#9c179e\"],[0.4444444444444444,\"#bd3786\"],[0.5555555555555556,\"#d8576b\"],[0.6666666666666666,\"#ed7953\"],[0.7777777777777778,\"#fb9f3a\"],[0.8888888888888888,\"#fdca26\"],[1.0,\"#f0f921\"]],\"type\":\"histogram2d\"}],\"histogram\":[{\"marker\":{\"pattern\":{\"fillmode\":\"overlay\",\"size\":10,\"solidity\":0.2}},\"type\":\"histogram\"}],\"mesh3d\":[{\"colorbar\":{\"outlinewidth\":0,\"ticks\":\"\"},\"type\":\"mesh3d\"}],\"parcoords\":[{\"line\":{\"colorbar\":{\"outlinewidth\":0,\"ticks\":\"\"}},\"type\":\"parcoords\"}],\"pie\":[{\"automargin\":true,\"type\":\"pie\"}],\"scatter3d\":[{\"line\":{\"colorbar\":{\"outlinewidth\":0,\"ticks\":\"\"}},\"marker\":{\"colorbar\":{\"outlinewidth\":0,\"ticks\":\"\"}},\"type\":\"scatter3d\"}],\"scattercarpet\":[{\"marker\":{\"colorbar\":{\"outlinewidth\":0,\"ticks\":\"\"}},\"type\":\"scattercarpet\"}],\"scattergeo\":[{\"marker\":{\"colorbar\":{\"outlinewidth\":0,\"ticks\":\"\"}},\"type\":\"scattergeo\"}],\"scattergl\":[{\"marker\":{\"line\":{\"color\":\"#283442\"}},\"type\":\"scattergl\"}],\"scattermapbox\":[{\"marker\":{\"colorbar\":{\"outlinewidth\":0,\"ticks\":\"\"}},\"type\":\"scattermapbox\"}],\"scatterpolargl\":[{\"marker\":{\"colorbar\":{\"outlinewidth\":0,\"ticks\":\"\"}},\"type\":\"scatterpolargl\"}],\"scatterpolar\":[{\"marker\":{\"colorbar\":{\"outlinewidth\":0,\"ticks\":\"\"}},\"type\":\"scatterpolar\"}],\"scatter\":[{\"marker\":{\"line\":{\"color\":\"#283442\"}},\"type\":\"scatter\"}],\"scatterternary\":[{\"marker\":{\"colorbar\":{\"outlinewidth\":0,\"ticks\":\"\"}},\"type\":\"scatterternary\"}],\"surface\":[{\"colorbar\":{\"outlinewidth\":0,\"ticks\":\"\"},\"colorscale\":[[0.0,\"#0d0887\"],[0.1111111111111111,\"#46039f\"],[0.2222222222222222,\"#7201a8\"],[0.3333333333333333,\"#9c179e\"],[0.4444444444444444,\"#bd3786\"],[0.5555555555555556,\"#d8576b\"],[0.6666666666666666,\"#ed7953\"],[0.7777777777777778,\"#fb9f3a\"],[0.8888888888888888,\"#fdca26\"],[1.0,\"#f0f921\"]],\"type\":\"surface\"}],\"table\":[{\"cells\":{\"fill\":{\"color\":\"#506784\"},\"line\":{\"color\":\"rgb(17,17,17)\"}},\"header\":{\"fill\":{\"color\":\"#2a3f5f\"},\"line\":{\"color\":\"rgb(17,17,17)\"}},\"type\":\"table\"}]},\"layout\":{\"annotationdefaults\":{\"arrowcolor\":\"#f2f5fa\",\"arrowhead\":0,\"arrowwidth\":1,\"showarrow\":false},\"autotypenumbers\":\"strict\",\"coloraxis\":{\"colorbar\":{\"outlinewidth\":0,\"ticks\":\"\"}},\"colorscale\":{\"diverging\":[[0,\"#8e0152\"],[0.1,\"#c51b7d\"],[0.2,\"#de77ae\"],[0.3,\"#f1b6da\"],[0.4,\"#fde0ef\"],[0.5,\"#f7f7f7\"],[0.6,\"#e6f5d0\"],[0.7,\"#b8e186\"],[0.8,\"#7fbc41\"],[0.9,\"#4d9221\"],[1,\"#276419\"]],\"sequential\":[[0.0,\"#0d0887\"],[0.1111111111111111,\"#46039f\"],[0.2222222222222222,\"#7201a8\"],[0.3333333333333333,\"#9c179e\"],[0.4444444444444444,\"#bd3786\"],[0.5555555555555556,\"#d8576b\"],[0.6666666666666666,\"#ed7953\"],[0.7777777777777778,\"#fb9f3a\"],[0.8888888888888888,\"#fdca26\"],[1.0,\"#f0f921\"]],\"sequentialminus\":[[0.0,\"#0d0887\"],[0.1111111111111111,\"#46039f\"],[0.2222222222222222,\"#7201a8\"],[0.3333333333333333,\"#9c179e\"],[0.4444444444444444,\"#bd3786\"],[0.5555555555555556,\"#d8576b\"],[0.6666666666666666,\"#ed7953\"],[0.7777777777777778,\"#fb9f3a\"],[0.8888888888888888,\"#fdca26\"],[1.0,\"#f0f921\"]]},\"colorway\":[\"#ffed00\",\"#ef7d00\",\"#e4003a\",\"#c13246\",\"#822661\",\"#48277c\",\"#005ca9\",\"#00aaff\",\"#9b30d9\",\"#af005f\",\"#5f00af\",\"#af87ff\"],\"dragmode\":\"pan\",\"font\":{\"color\":\"#f2f5fa\",\"family\":\"Fira Code\",\"size\":18},\"geo\":{\"bgcolor\":\"rgb(17,17,17)\",\"lakecolor\":\"rgb(17,17,17)\",\"landcolor\":\"rgb(17,17,17)\",\"showlakes\":true,\"showland\":true,\"subunitcolor\":\"#506784\"},\"hoverlabel\":{\"align\":\"left\"},\"hovermode\":\"x\",\"legend\":{\"bgcolor\":\"rgba(0, 0, 0, 0)\",\"font\":{\"size\":15},\"x\":0.01,\"xanchor\":\"left\",\"y\":0.99,\"yanchor\":\"top\"},\"mapbox\":{\"style\":\"dark\"},\"paper_bgcolor\":\"#000000\",\"plot_bgcolor\":\"#000000\",\"polar\":{\"angularaxis\":{\"gridcolor\":\"#506784\",\"linecolor\":\"#506784\",\"ticks\":\"\"},\"bgcolor\":\"rgb(17,17,17)\",\"radialaxis\":{\"gridcolor\":\"#506784\",\"linecolor\":\"#506784\",\"ticks\":\"\"}},\"scene\":{\"xaxis\":{\"backgroundcolor\":\"rgb(17,17,17)\",\"gridcolor\":\"#506784\",\"gridwidth\":2,\"linecolor\":\"#506784\",\"showbackground\":true,\"ticks\":\"\",\"zerolinecolor\":\"#C8D4E3\"},\"yaxis\":{\"backgroundcolor\":\"rgb(17,17,17)\",\"gridcolor\":\"#506784\",\"gridwidth\":2,\"linecolor\":\"#506784\",\"showbackground\":true,\"ticks\":\"\",\"zerolinecolor\":\"#C8D4E3\"},\"zaxis\":{\"backgroundcolor\":\"rgb(17,17,17)\",\"gridcolor\":\"#506784\",\"gridwidth\":2,\"linecolor\":\"#506784\",\"showbackground\":true,\"ticks\":\"\",\"zerolinecolor\":\"#C8D4E3\"}},\"shapedefaults\":{\"line\":{\"color\":\"#f2f5fa\"}},\"sliderdefaults\":{\"bgcolor\":\"#C8D4E3\",\"bordercolor\":\"rgb(17,17,17)\",\"borderwidth\":1,\"tickwidth\":0},\"ternary\":{\"aaxis\":{\"gridcolor\":\"#506784\",\"linecolor\":\"#506784\",\"ticks\":\"\"},\"baxis\":{\"gridcolor\":\"#506784\",\"linecolor\":\"#506784\",\"ticks\":\"\"},\"bgcolor\":\"rgb(17,17,17)\",\"caxis\":{\"gridcolor\":\"#506784\",\"linecolor\":\"#506784\",\"ticks\":\"\"}},\"title\":{\"x\":0.05},\"updatemenudefaults\":{\"bgcolor\":\"#506784\",\"borderwidth\":0},\"xaxis\":{\"automargin\":true,\"autorange\":true,\"gridcolor\":\"#283442\",\"linecolor\":\"#F5EFF3\",\"mirror\":true,\"rangeslider\":{\"visible\":false},\"showgrid\":true,\"showline\":true,\"tick0\":1,\"tickfont\":{\"size\":14},\"ticks\":\"outside\",\"title\":{\"standoff\":20},\"zeroline\":false,\"zerolinecolor\":\"#283442\",\"zerolinewidth\":2},\"yaxis\":{\"anchor\":\"x\",\"automargin\":true,\"fixedrange\":false,\"gridcolor\":\"#283442\",\"linecolor\":\"#F5EFF3\",\"mirror\":true,\"showgrid\":true,\"showline\":true,\"side\":\"right\",\"tick0\":0.5,\"ticks\":\"outside\",\"title\":{\"standoff\":20},\"zeroline\":false,\"zerolinecolor\":\"#283442\",\"zerolinewidth\":2}}},\"title\":{\"font\":{\"color\":\"#D9D9D9\"}},\"xaxis\":{\"gridcolor\":\"#434343\",\"showgrid\":true,\"tickfont\":{\"color\":\"#C2C2C2\"},\"title\":{\"font\":{\"color\":\"#D9D9D9\"},\"text\":\"\"},\"zerolinecolor\":\"#666570\"},\"yaxis\":{\"gridcolor\":\"#434343\",\"showgrid\":true,\"tickfont\":{\"color\":\"#C2C2C2\"},\"title\":{\"font\":{\"color\":\"#D9D9D9\"},\"text\":\"\"},\"zerolinecolor\":\"#666570\"}},                        {\"showLink\": true, \"linkText\": \"Export to plot.ly\", \"plotlyServerURL\": \"https://plot.ly\", \"responsive\": true}                    ).then(function(){\n",
       "                            \n",
       "var gd = document.getElementById('fb11299e-1e0b-473a-803d-7390866fed61');\n",
       "var x = new MutationObserver(function (mutations, observer) {{\n",
       "        var display = window.getComputedStyle(gd).display;\n",
       "        if (!display || display === 'none') {{\n",
       "            console.log([gd, 'removed!']);\n",
       "            Plotly.purge(gd);\n",
       "            observer.disconnect();\n",
       "        }}\n",
       "}});\n",
       "\n",
       "// Listen for the removal of the full notebook cells\n",
       "var notebookContainer = gd.closest('#notebook-container');\n",
       "if (notebookContainer) {{\n",
       "    x.observe(notebookContainer, {childList: true});\n",
       "}}\n",
       "\n",
       "// Listen for the clearing of the current output cell\n",
       "var outputEl = gd.closest('.output');\n",
       "if (outputEl) {{\n",
       "    x.observe(outputEl, {childList: true});\n",
       "}}\n",
       "\n",
       "                        })                };                });            </script>        </div>"
      ]
     },
     "metadata": {},
     "output_type": "display_data"
    }
   ],
   "source": [
    "fgdp.tail(10).iplot()"
   ]
  },
  {
   "attachments": {},
   "cell_type": "markdown",
   "metadata": {},
   "source": [
    "## Market"
   ]
  },
  {
   "attachments": {},
   "cell_type": "markdown",
   "metadata": {},
   "source": [
    "### Bonds"
   ]
  },
  {
   "cell_type": "code",
   "execution_count": 6,
   "metadata": {},
   "outputs": [
    {
     "data": {
      "text/plain": [
       "<Axes: ylabel=' '>"
      ]
     },
     "execution_count": 6,
     "metadata": {},
     "output_type": "execute_result"
    },
    {
     "data": {
      "image/png": "[encoded data removed]",
      "text/plain": [
       "<Figure size 500x300 with 1 Axes>"
      ]
     },
     "metadata": {},
     "output_type": "display_data"
    }
   ],
   "source": [
    "bonds = openbb.economy.glbonds().set_index(' ')\n",
    "bonds['Yld (%)'].astype(float).plot(kind = 'barh')"
   ]
  },
  {
   "cell_type": "code",
   "execution_count": 7,
   "metadata": {},
   "outputs": [],
   "source": [
    "## treasury_maturities = openbb.economy.treasury_maturities() ## treasury 조회가능 대상\n",
    "## treasury = openbb.economy.treasury(instruments = ['nominal', 'inflation'], maturities = ['5y'], frequency = 'daily')"
   ]
  },
  {
   "cell_type": "code",
   "execution_count": 8,
   "metadata": {},
   "outputs": [
    {
     "data": {
      "application/vnd.plotly.v1+json": {
       "config": {
        "linkText": "Export to plot.ly",
        "plotlyServerURL": "https://plot.ly",
        "showLink": true
       },
       "data": [
        {
         "line": {
          "color": "rgba(255, 153, 51, 1.0)",
          "dash": "solid",
          "shape": "linear",
          "width": 1.3
         },
         "mode": "lines",
         "name": "D240",
         "text": "",
         "type": "scatter",
         "x": [
          480,
          96,
          12,
          1
         ],
         "y": [
          3.43,
          3.4,
          1.69,
          0.83
         ]
        },
        {
         "line": {
          "color": "rgba(55, 128, 191, 1.0)",
          "dash": "solid",
          "shape": "linear",
          "width": 1.3
         },
         "mode": "lines",
         "name": "D239",
         "text": "",
         "type": "scatter",
         "x": [
          480,
          96,
          12,
          1
         ],
         "y": [
          3.49,
          3.45,
          1.78,
          0.83
         ]
        },
        {
         "line": {
          "color": "rgba(50, 171, 96, 1.0)",
          "dash": "solid",
          "shape": "linear",
          "width": 1.3
         },
         "mode": "lines",
         "name": "D238",
         "text": "",
         "type": "scatter",
         "x": [
          480,
          96,
          12,
          1
         ],
         "y": [
          3.33,
          3.2,
          1.69,
          0.83
         ]
        },
        {
         "line": {
          "color": "rgba(128, 0, 128, 1.0)",
          "dash": "solid",
          "shape": "linear",
          "width": 1.3
         },
         "mode": "lines",
         "name": "D237",
         "text": "",
         "type": "scatter",
         "x": [
          480,
          96,
          12,
          1
         ],
         "y": [
          3.28,
          3.14,
          1.54,
          1.58
         ]
        },
        {
         "line": {
          "color": "rgba(219, 64, 82, 1.0)",
          "dash": "solid",
          "shape": "linear",
          "width": 1.3
         },
         "mode": "lines",
         "name": "D236",
         "text": "",
         "type": "scatter",
         "x": [
          480,
          96,
          12,
          1
         ],
         "y": [
          3.25,
          3.17,
          1.58,
          1.58
         ]
        },
        {
         "line": {
          "color": "rgba(0, 128, 128, 1.0)",
          "dash": "solid",
          "shape": "linear",
          "width": 1.3
         },
         "mode": "lines",
         "name": "D235",
         "text": "",
         "type": "scatter",
         "x": [
          480,
          96,
          12,
          1
         ],
         "y": [
          3.31,
          3.21,
          1.66,
          1.58
         ]
        },
        {
         "line": {
          "color": "rgba(255, 255, 51, 1.0)",
          "dash": "solid",
          "shape": "linear",
          "width": 1.3
         },
         "mode": "lines",
         "name": "D234",
         "text": "",
         "type": "scatter",
         "x": [
          480,
          96,
          12,
          1
         ],
         "y": [
          3.16,
          3.06,
          1.57,
          1.58
         ]
        },
        {
         "line": {
          "color": "rgba(128, 128, 0, 1.0)",
          "dash": "solid",
          "shape": "linear",
          "width": 1.3
         },
         "mode": "lines",
         "name": "D233",
         "text": "",
         "type": "scatter",
         "x": [
          480,
          96,
          12,
          1
         ],
         "y": [
          3.09,
          3.01,
          1.59,
          1.58
         ]
        },
        {
         "line": {
          "color": "rgba(251, 128, 114, 1.0)",
          "dash": "solid",
          "shape": "linear",
          "width": 1.3
         },
         "mode": "lines",
         "name": "D232",
         "text": "",
         "type": "scatter",
         "x": [
          480,
          96,
          12,
          1
         ],
         "y": [
          3.13,
          3.04,
          1.66,
          1.58
         ]
        },
        {
         "line": {
          "color": "rgba(128, 177, 211, 1.0)",
          "dash": "solid",
          "shape": "linear",
          "width": 1.3
         },
         "mode": "lines",
         "name": "D231",
         "text": "",
         "type": "scatter",
         "x": [
          480,
          96,
          12,
          1
         ],
         "y": [
          3.2,
          3.08,
          1.75,
          1.58
         ]
        },
        {
         "line": {
          "color": "rgba(128, 177, 211, 0.9666666666666666)",
          "dash": "solid",
          "shape": "linear",
          "width": 1.3
         },
         "mode": "lines",
         "name": "D230",
         "text": "",
         "type": "scatter",
         "x": [
          480,
          96,
          12,
          1
         ],
         "y": [
          3.2,
          3.1,
          1.75,
          1.58
         ]
        },
        {
         "line": {
          "color": "rgba(255, 153, 51, 0.9666666666666666)",
          "dash": "solid",
          "shape": "linear",
          "width": 1.3
         },
         "mode": "lines",
         "name": "D229",
         "text": "",
         "type": "scatter",
         "x": [
          480,
          96,
          12,
          1
         ],
         "y": [
          3.1,
          3.06,
          1.73,
          1.58
         ]
        },
        {
         "line": {
          "color": "rgba(55, 128, 191, 0.9666666666666666)",
          "dash": "solid",
          "shape": "linear",
          "width": 1.3
         },
         "mode": "lines",
         "name": "D228",
         "text": "",
         "type": "scatter",
         "x": [
          480,
          96,
          12,
          1
         ],
         "y": [
          2.98,
          2.92,
          1.66,
          1.58
         ]
        },
        {
         "line": {
          "color": "rgba(50, 171, 96, 0.9666666666666666)",
          "dash": "solid",
          "shape": "linear",
          "width": 1.3
         },
         "mode": "lines",
         "name": "D227",
         "text": "",
         "type": "scatter",
         "x": [
          480,
          96,
          12,
          1
         ],
         "y": [
          2.88,
          2.84,
          1.66,
          1.58
         ]
        },
        {
         "line": {
          "color": "rgba(128, 0, 128, 0.9666666666666666)",
          "dash": "solid",
          "shape": "linear",
          "width": 1.3
         },
         "mode": "lines",
         "name": "D226",
         "text": "",
         "type": "scatter",
         "x": [
          480,
          96,
          12,
          1
         ],
         "y": [
          2.82,
          2.82,
          1.86,
          1.58
         ]
        },
        {
         "line": {
          "color": "rgba(219, 64, 82, 0.9666666666666666)",
          "dash": "solid",
          "shape": "linear",
          "width": 1.3
         },
         "mode": "lines",
         "name": "D225",
         "text": "",
         "type": "scatter",
         "x": [
          480,
          96,
          12,
          1
         ],
         "y": [
          2.93,
          2.97,
          1.85,
          1.58
         ]
        },
        {
         "line": {
          "color": "rgba(0, 128, 128, 0.9666666666666666)",
          "dash": "solid",
          "shape": "linear",
          "width": 1.3
         },
         "mode": "lines",
         "name": "D224",
         "text": "",
         "type": "scatter",
         "x": [
          480,
          96,
          12,
          1
         ],
         "y": [
          3.01,
          3.03,
          1.89,
          1.58
         ]
        },
        {
         "line": {
          "color": "rgba(255, 255, 51, 0.9666666666666666)",
          "dash": "solid",
          "shape": "linear",
          "width": 1.3
         },
         "mode": "lines",
         "name": "D223",
         "text": "",
         "type": "scatter",
         "x": [
          480,
          96,
          12,
          1
         ],
         "y": [
          3.09,
          3.12,
          1.91,
          1.58
         ]
        },
        {
         "line": {
          "color": "rgba(128, 128, 0, 0.9666666666666666)",
          "dash": "solid",
          "shape": "linear",
          "width": 1.3
         },
         "mode": "lines",
         "name": "D222",
         "text": "",
         "type": "scatter",
         "x": [
          480,
          96,
          12,
          1
         ],
         "y": [
          2.99,
          3.07,
          2.13,
          1.58
         ]
        },
        {
         "line": {
          "color": "rgba(251, 128, 114, 0.9666666666666666)",
          "dash": "solid",
          "shape": "linear",
          "width": 1.3
         },
         "mode": "lines",
         "name": "D221",
         "text": "",
         "type": "scatter",
         "x": [
          480,
          96,
          12,
          1
         ],
         "y": [
          2.96,
          3.03,
          2.16,
          1.58
         ]
        },
        {
         "line": {
          "color": "rgba(251, 128, 114, 0.9333333333333333)",
          "dash": "solid",
          "shape": "linear",
          "width": 1.3
         },
         "mode": "lines",
         "name": "D220",
         "text": "",
         "type": "scatter",
         "x": [
          480,
          96,
          12,
          1
         ],
         "y": [
          2.91,
          3.13,
          2.33,
          1.58
         ]
        },
        {
         "line": {
          "color": "rgba(128, 177, 211, 0.9333333333333333)",
          "dash": "solid",
          "shape": "linear",
          "width": 1.3
         },
         "mode": "lines",
         "name": "D219",
         "text": "",
         "type": "scatter",
         "x": [
          480,
          96,
          12,
          1
         ],
         "y": [
          2.96,
          3.15,
          2.33,
          1.58
         ]
        },
        {
         "line": {
          "color": "rgba(255, 153, 51, 0.9333333333333333)",
          "dash": "solid",
          "shape": "linear",
          "width": 1.3
         },
         "mode": "lines",
         "name": "D218",
         "text": "",
         "type": "scatter",
         "x": [
          480,
          96,
          12,
          1
         ],
         "y": [
          2.93,
          3.13,
          2.29,
          1.58
         ]
        },
        {
         "line": {
          "color": "rgba(55, 128, 191, 0.9333333333333333)",
          "dash": "solid",
          "shape": "linear",
          "width": 1.3
         },
         "mode": "lines",
         "name": "D217",
         "text": "",
         "type": "scatter",
         "x": [
          480,
          96,
          12,
          1
         ],
         "y": [
          2.96,
          3.15,
          2.44,
          1.58
         ]
        },
        {
         "line": {
          "color": "rgba(50, 171, 96, 0.9333333333333333)",
          "dash": "solid",
          "shape": "linear",
          "width": 1.3
         },
         "mode": "lines",
         "name": "D216",
         "text": "",
         "type": "scatter",
         "x": [
          480,
          96,
          12,
          1
         ],
         "y": [
          3.01,
          3.23,
          2.46,
          1.58
         ]
        },
        {
         "line": {
          "color": "rgba(128, 0, 128, 0.9333333333333333)",
          "dash": "solid",
          "shape": "linear",
          "width": 1.3
         },
         "mode": "lines",
         "name": "D215",
         "text": "",
         "type": "scatter",
         "x": [
          480,
          96,
          12,
          1
         ],
         "y": [
          3.04,
          3.25,
          2.44,
          1.58
         ]
        },
        {
         "line": {
          "color": "rgba(219, 64, 82, 0.9333333333333333)",
          "dash": "solid",
          "shape": "linear",
          "width": 1.3
         },
         "mode": "lines",
         "name": "D214",
         "text": "",
         "type": "scatter",
         "x": [
          480,
          96,
          12,
          1
         ],
         "y": [
          2.91,
          3.1,
          2.4,
          1.58
         ]
        },
        {
         "line": {
          "color": "rgba(0, 128, 128, 0.9333333333333333)",
          "dash": "solid",
          "shape": "linear",
          "width": 1.3
         },
         "mode": "lines",
         "name": "D213",
         "text": "",
         "type": "scatter",
         "x": [
          480,
          96,
          12,
          1
         ],
         "y": [
          2.77,
          2.98,
          2.41,
          1.58
         ]
        },
        {
         "line": {
          "color": "rgba(255, 255, 51, 0.9333333333333333)",
          "dash": "solid",
          "shape": "linear",
          "width": 1.3
         },
         "mode": "lines",
         "name": "D212",
         "text": "",
         "type": "scatter",
         "x": [
          480,
          96,
          12,
          1
         ],
         "y": [
          2.81,
          3,
          2.55,
          1.58
         ]
        },
        {
         "line": {
          "color": "rgba(128, 128, 0, 0.9333333333333333)",
          "dash": "solid",
          "shape": "linear",
          "width": 1.3
         },
         "mode": "lines",
         "name": "D211",
         "text": "",
         "type": "scatter",
         "x": [
          480,
          96,
          12,
          1
         ],
         "y": [
          2.81,
          3.02,
          2.48,
          1.58
         ]
        },
        {
         "line": {
          "color": "rgba(128, 128, 0, 0.8999999999999999)",
          "dash": "solid",
          "shape": "linear",
          "width": 1.3
         },
         "mode": "lines",
         "name": "D210",
         "text": "",
         "type": "scatter",
         "x": [
          480,
          96,
          12,
          1
         ],
         "y": [
          2.78,
          2.96,
          2.37,
          1.58
         ]
        },
        {
         "line": {
          "color": "rgba(251, 128, 114, 0.8999999999999999)",
          "dash": "solid",
          "shape": "linear",
          "width": 1.3
         },
         "mode": "lines",
         "name": "D209",
         "text": "",
         "type": "scatter",
         "x": [
          480,
          96,
          12,
          1
         ],
         "y": [
          2.68,
          2.85,
          2.35,
          2.33
         ]
        },
        {
         "line": {
          "color": "rgba(128, 177, 211, 0.8999999999999999)",
          "dash": "solid",
          "shape": "linear",
          "width": 1.3
         },
         "mode": "lines",
         "name": "D208",
         "text": "",
         "type": "scatter",
         "x": [
          480,
          96,
          12,
          1
         ],
         "y": [
          2.67,
          2.89,
          2.34,
          2.32
         ]
        },
        {
         "line": {
          "color": "rgba(255, 153, 51, 0.8999999999999999)",
          "dash": "solid",
          "shape": "linear",
          "width": 1.3
         },
         "mode": "lines",
         "name": "D207",
         "text": "",
         "type": "scatter",
         "x": [
          480,
          96,
          12,
          1
         ],
         "y": [
          2.6,
          2.9,
          2.48,
          2.33
         ]
        },
        {
         "line": {
          "color": "rgba(55, 128, 191, 0.8999999999999999)",
          "dash": "solid",
          "shape": "linear",
          "width": 1.3
         },
         "mode": "lines",
         "name": "D206",
         "text": "",
         "type": "scatter",
         "x": [
          480,
          96,
          12,
          1
         ],
         "y": [
          2.75,
          3.06,
          2.48,
          2.33
         ]
        },
        {
         "line": {
          "color": "rgba(50, 171, 96, 0.8999999999999999)",
          "dash": "solid",
          "shape": "linear",
          "width": 1.3
         },
         "mode": "lines",
         "name": "D205",
         "text": "",
         "type": "scatter",
         "x": [
          480,
          96,
          12,
          1
         ],
         "y": [
          2.73,
          3.1,
          2.44,
          2.33
         ]
        },
        {
         "line": {
          "color": "rgba(128, 0, 128, 0.8999999999999999)",
          "dash": "solid",
          "shape": "linear",
          "width": 1.3
         },
         "mode": "lines",
         "name": "D204",
         "text": "",
         "type": "scatter",
         "x": [
          480,
          96,
          12,
          1
         ],
         "y": [
          2.68,
          3.03,
          2.41,
          2.33
         ]
        },
        {
         "line": {
          "color": "rgba(219, 64, 82, 0.8999999999999999)",
          "dash": "solid",
          "shape": "linear",
          "width": 1.3
         },
         "mode": "lines",
         "name": "D203",
         "text": "",
         "type": "scatter",
         "x": [
          480,
          96,
          12,
          1
         ],
         "y": [
          2.83,
          3.24,
          2.48,
          2.33
         ]
        },
        {
         "line": {
          "color": "rgba(0, 128, 128, 0.8999999999999999)",
          "dash": "solid",
          "shape": "linear",
          "width": 1.3
         },
         "mode": "lines",
         "name": "D202",
         "text": "",
         "type": "scatter",
         "x": [
          480,
          96,
          12,
          1
         ],
         "y": [
          2.77,
          3.21,
          2.57,
          2.33
         ]
        },
        {
         "line": {
          "color": "rgba(255, 255, 51, 0.8999999999999999)",
          "dash": "solid",
          "shape": "linear",
          "width": 1.3
         },
         "mode": "lines",
         "name": "D201",
         "text": "",
         "type": "scatter",
         "x": [
          480,
          96,
          12,
          1
         ],
         "y": [
          2.8,
          3.28,
          2.58,
          2.33
         ]
        },
        {
         "line": {
          "color": "rgba(255, 255, 51, 0.8666666666666667)",
          "dash": "solid",
          "shape": "linear",
          "width": 1.3
         },
         "mode": "lines",
         "name": "D200",
         "text": "",
         "type": "scatter",
         "x": [
          480,
          96,
          12,
          1
         ],
         "y": [
          2.78,
          3.23,
          2.56,
          2.33
         ]
        },
        {
         "line": {
          "color": "rgba(128, 128, 0, 0.8666666666666667)",
          "dash": "solid",
          "shape": "linear",
          "width": 1.3
         },
         "mode": "lines",
         "name": "D199",
         "text": "",
         "type": "scatter",
         "x": [
          480,
          96,
          12,
          1
         ],
         "y": [
          2.87,
          3.23,
          2.52,
          2.33
         ]
        },
        {
         "line": {
          "color": "rgba(251, 128, 114, 0.8666666666666667)",
          "dash": "solid",
          "shape": "linear",
          "width": 1.3
         },
         "mode": "lines",
         "name": "D198",
         "text": "",
         "type": "scatter",
         "x": [
          480,
          96,
          12,
          1
         ],
         "y": [
          2.84,
          3.25,
          2.53,
          2.33
         ]
        },
        {
         "line": {
          "color": "rgba(128, 177, 211, 0.8666666666666667)",
          "dash": "solid",
          "shape": "linear",
          "width": 1.3
         },
         "mode": "lines",
         "name": "D197",
         "text": "",
         "type": "scatter",
         "x": [
          480,
          96,
          12,
          1
         ],
         "y": [
          2.79,
          3.2,
          2.63,
          2.33
         ]
        },
        {
         "line": {
          "color": "rgba(255, 153, 51, 0.8666666666666667)",
          "dash": "solid",
          "shape": "linear",
          "width": 1.3
         },
         "mode": "lines",
         "name": "D196",
         "text": "",
         "type": "scatter",
         "x": [
          480,
          96,
          12,
          1
         ],
         "y": [
          2.82,
          3.25,
          2.61,
          2.33
         ]
        },
        {
         "line": {
          "color": "rgba(55, 128, 191, 0.8666666666666667)",
          "dash": "solid",
          "shape": "linear",
          "width": 1.3
         },
         "mode": "lines",
         "name": "D195",
         "text": "",
         "type": "scatter",
         "x": [
          480,
          96,
          12,
          1
         ],
         "y": [
          2.89,
          3.28,
          2.59,
          2.33
         ]
        },
        {
         "line": {
          "color": "rgba(50, 171, 96, 0.8666666666666667)",
          "dash": "solid",
          "shape": "linear",
          "width": 1.3
         },
         "mode": "lines",
         "name": "D194",
         "text": "",
         "type": "scatter",
         "x": [
          480,
          96,
          12,
          1
         ],
         "y": [
          2.88,
          3.22,
          2.61,
          2.33
         ]
        },
        {
         "line": {
          "color": "rgba(128, 0, 128, 0.8666666666666667)",
          "dash": "solid",
          "shape": "linear",
          "width": 1.3
         },
         "mode": "lines",
         "name": "D193",
         "text": "",
         "type": "scatter",
         "x": [
          480,
          96,
          12,
          1
         ],
         "y": [
          2.98,
          3.25,
          2.64,
          2.33
         ]
        },
        {
         "line": {
          "color": "rgba(219, 64, 82, 0.8666666666666667)",
          "dash": "solid",
          "shape": "linear",
          "width": 1.3
         },
         "mode": "lines",
         "name": "D192",
         "text": "",
         "type": "scatter",
         "x": [
          480,
          96,
          12,
          1
         ],
         "y": [
          3.03,
          3.32,
          2.74,
          2.33
         ]
        },
        {
         "line": {
          "color": "rgba(0, 128, 128, 0.8666666666666667)",
          "dash": "solid",
          "shape": "linear",
          "width": 1.3
         },
         "mode": "lines",
         "name": "D191",
         "text": "",
         "type": "scatter",
         "x": [
          480,
          96,
          12,
          1
         ],
         "y": [
          3.05,
          3.29,
          2.71,
          2.33
         ]
        },
        {
         "line": {
          "color": "rgba(0, 128, 128, 0.8333333333333333)",
          "dash": "solid",
          "shape": "linear",
          "width": 1.3
         },
         "mode": "lines",
         "name": "D190",
         "text": "",
         "type": "scatter",
         "x": [
          480,
          96,
          12,
          1
         ],
         "y": [
          3.11,
          3.36,
          2.73,
          2.33
         ]
        },
        {
         "line": {
          "color": "rgba(255, 255, 51, 0.8333333333333333)",
          "dash": "solid",
          "shape": "linear",
          "width": 1.3
         },
         "mode": "lines",
         "name": "D189",
         "text": "",
         "type": "scatter",
         "x": [
          480,
          96,
          12,
          1
         ],
         "y": [
          3.03,
          3.35,
          2.78,
          2.33
         ]
        },
        {
         "line": {
          "color": "rgba(128, 128, 0, 0.8333333333333333)",
          "dash": "solid",
          "shape": "linear",
          "width": 1.3
         },
         "mode": "lines",
         "name": "D188",
         "text": "",
         "type": "scatter",
         "x": [
          480,
          96,
          12,
          1
         ],
         "y": [
          3.04,
          3.37,
          2.78,
          2.33
         ]
        },
        {
         "line": {
          "color": "rgba(251, 128, 114, 0.8333333333333333)",
          "dash": "solid",
          "shape": "linear",
          "width": 1.3
         },
         "mode": "lines",
         "name": "D187",
         "text": "",
         "type": "scatter",
         "x": [
          480,
          96,
          12,
          1
         ],
         "y": [
          3.12,
          3.42,
          2.89,
          2.33
         ]
        },
        {
         "line": {
          "color": "rgba(128, 177, 211, 0.8333333333333333)",
          "dash": "solid",
          "shape": "linear",
          "width": 1.3
         },
         "mode": "lines",
         "name": "D186",
         "text": "",
         "type": "scatter",
         "x": [
          480,
          96,
          12,
          1
         ],
         "y": [
          3.11,
          3.46,
          2.88,
          2.33
         ]
        },
        {
         "line": {
          "color": "rgba(255, 153, 51, 0.8333333333333333)",
          "dash": "solid",
          "shape": "linear",
          "width": 1.3
         },
         "mode": "lines",
         "name": "D185",
         "text": "",
         "type": "scatter",
         "x": [
          480,
          96,
          12,
          1
         ],
         "y": [
          3.15,
          3.45,
          2.87,
          2.33
         ]
        },
        {
         "line": {
          "color": "rgba(55, 128, 191, 0.8333333333333333)",
          "dash": "solid",
          "shape": "linear",
          "width": 1.3
         },
         "mode": "lines",
         "name": "D184",
         "text": "",
         "type": "scatter",
         "x": [
          480,
          96,
          12,
          1
         ],
         "y": [
          3.26,
          3.51,
          2.88,
          2.33
         ]
        },
        {
         "line": {
          "color": "rgba(50, 171, 96, 0.8333333333333333)",
          "dash": "solid",
          "shape": "linear",
          "width": 1.3
         },
         "mode": "lines",
         "name": "D183",
         "text": "",
         "type": "scatter",
         "x": [
          480,
          96,
          12,
          1
         ],
         "y": [
          3.2,
          3.4,
          2.85,
          2.33
         ]
        },
        {
         "line": {
          "color": "rgba(128, 0, 128, 0.8333333333333333)",
          "dash": "solid",
          "shape": "linear",
          "width": 1.3
         },
         "mode": "lines",
         "name": "D182",
         "text": "",
         "type": "scatter",
         "x": [
          480,
          96,
          12,
          1
         ],
         "y": [
          3.33,
          3.5,
          2.96,
          2.33
         ]
        },
        {
         "line": {
          "color": "rgba(219, 64, 82, 0.8333333333333333)",
          "dash": "solid",
          "shape": "linear",
          "width": 1.3
         },
         "mode": "lines",
         "name": "D181",
         "text": "",
         "type": "scatter",
         "x": [
          480,
          96,
          12,
          1
         ],
         "y": [
          3.27,
          3.45,
          2.98,
          2.33
         ]
        },
        {
         "line": {
          "color": "rgba(219, 64, 82, 0.8)",
          "dash": "solid",
          "shape": "linear",
          "width": 1.3
         },
         "mode": "lines",
         "name": "D180",
         "text": "",
         "type": "scatter",
         "x": [
          480,
          96,
          12,
          1
         ],
         "y": [
          3.29,
          3.48,
          2.97,
          2.33
         ]
        },
        {
         "line": {
          "color": "rgba(0, 128, 128, 0.8)",
          "dash": "solid",
          "shape": "linear",
          "width": 1.3
         },
         "mode": "lines",
         "name": "D179",
         "text": "",
         "type": "scatter",
         "x": [
          480,
          96,
          12,
          1
         ],
         "y": [
          3.33,
          3.56,
          2.98,
          2.33
         ]
        },
        {
         "line": {
          "color": "rgba(255, 255, 51, 0.8)",
          "dash": "solid",
          "shape": "linear",
          "width": 1.3
         },
         "mode": "lines",
         "name": "D178",
         "text": "",
         "type": "scatter",
         "x": [
          480,
          96,
          12,
          1
         ],
         "y": [
          3.37,
          3.58,
          3.09,
          2.33
         ]
        },
        {
         "line": {
          "color": "rgba(128, 128, 0, 0.8)",
          "dash": "solid",
          "shape": "linear",
          "width": 1.3
         },
         "mode": "lines",
         "name": "D177",
         "text": "",
         "type": "scatter",
         "x": [
          480,
          96,
          12,
          1
         ],
         "y": [
          3.42,
          3.75,
          3.19,
          2.33
         ]
        },
        {
         "line": {
          "color": "rgba(251, 128, 114, 0.8)",
          "dash": "solid",
          "shape": "linear",
          "width": 1.3
         },
         "mode": "lines",
         "name": "D176",
         "text": "",
         "type": "scatter",
         "x": [
          480,
          96,
          12,
          1
         ],
         "y": [
          3.41,
          3.78,
          3.14,
          2.33
         ]
        },
        {
         "line": {
          "color": "rgba(128, 177, 211, 0.8)",
          "dash": "solid",
          "shape": "linear",
          "width": 1.3
         },
         "mode": "lines",
         "name": "D175",
         "text": "",
         "type": "scatter",
         "x": [
          480,
          96,
          12,
          1
         ],
         "y": [
          3.45,
          3.87,
          3.12,
          2.33
         ]
        },
        {
         "line": {
          "color": "rgba(255, 153, 51, 0.8)",
          "dash": "solid",
          "shape": "linear",
          "width": 1.3
         },
         "mode": "lines",
         "name": "D174",
         "text": "",
         "type": "scatter",
         "x": [
          480,
          96,
          12,
          1
         ],
         "y": [
          3.45,
          3.85,
          3.1,
          2.33
         ]
        },
        {
         "line": {
          "color": "rgba(55, 128, 191, 0.8)",
          "dash": "solid",
          "shape": "linear",
          "width": 1.3
         },
         "mode": "lines",
         "name": "D173",
         "text": "",
         "type": "scatter",
         "x": [
          480,
          96,
          12,
          1
         ],
         "y": [
          3.49,
          3.95,
          3.29,
          2.33
         ]
        },
        {
         "line": {
          "color": "rgba(50, 171, 96, 0.8)",
          "dash": "solid",
          "shape": "linear",
          "width": 1.3
         },
         "mode": "lines",
         "name": "D172",
         "text": "",
         "type": "scatter",
         "x": [
          480,
          96,
          12,
          1
         ],
         "y": [
          3.57,
          3.96,
          3.26,
          2.33
         ]
        },
        {
         "line": {
          "color": "rgba(128, 0, 128, 0.8)",
          "dash": "solid",
          "shape": "linear",
          "width": 1.3
         },
         "mode": "lines",
         "name": "D171",
         "text": "",
         "type": "scatter",
         "x": [
          480,
          96,
          12,
          1
         ],
         "y": [
          3.51,
          4.02,
          3.21,
          2.33
         ]
        },
        {
         "line": {
          "color": "rgba(128, 0, 128, 0.7666666666666666)",
          "dash": "solid",
          "shape": "linear",
          "width": 1.3
         },
         "mode": "lines",
         "name": "D170",
         "text": "",
         "type": "scatter",
         "x": [
          480,
          96,
          12,
          1
         ],
         "y": [
          3.7,
          4.11,
          3.19,
          3.08
         ]
        },
        {
         "line": {
          "color": "rgba(219, 64, 82, 0.7666666666666666)",
          "dash": "solid",
          "shape": "linear",
          "width": 1.3
         },
         "mode": "lines",
         "name": "D169",
         "text": "",
         "type": "scatter",
         "x": [
          480,
          96,
          12,
          1
         ],
         "y": [
          3.69,
          4.2,
          3.12,
          3.08
         ]
        },
        {
         "line": {
          "color": "rgba(0, 128, 128, 0.7666666666666666)",
          "dash": "solid",
          "shape": "linear",
          "width": 1.3
         },
         "mode": "lines",
         "name": "D168",
         "text": "",
         "type": "scatter",
         "x": [
          480,
          96,
          12,
          1
         ],
         "y": [
          3.88,
          4.27,
          3.3,
          3.08
         ]
        },
        {
         "line": {
          "color": "rgba(255, 255, 51, 0.7666666666666666)",
          "dash": "solid",
          "shape": "linear",
          "width": 1.3
         },
         "mode": "lines",
         "name": "D167",
         "text": "",
         "type": "scatter",
         "x": [
          480,
          96,
          12,
          1
         ],
         "y": [
          3.97,
          4.3,
          3.26,
          3.08
         ]
        },
        {
         "line": {
          "color": "rgba(128, 128, 0, 0.7666666666666666)",
          "dash": "solid",
          "shape": "linear",
          "width": 1.3
         },
         "mode": "lines",
         "name": "D166",
         "text": "",
         "type": "scatter",
         "x": [
          480,
          96,
          12,
          1
         ],
         "y": [
          3.72,
          4.07,
          3.29,
          3.08
         ]
        },
        {
         "line": {
          "color": "rgba(251, 128, 114, 0.7666666666666666)",
          "dash": "solid",
          "shape": "linear",
          "width": 1.3
         },
         "mode": "lines",
         "name": "D165",
         "text": "",
         "type": "scatter",
         "x": [
          480,
          96,
          12,
          1
         ],
         "y": [
          3.76,
          4.16,
          3.26,
          3.08
         ]
        },
        {
         "line": {
          "color": "rgba(128, 177, 211, 0.7666666666666666)",
          "dash": "solid",
          "shape": "linear",
          "width": 1.3
         },
         "mode": "lines",
         "name": "D164",
         "text": "",
         "type": "scatter",
         "x": [
          480,
          96,
          12,
          1
         ],
         "y": [
          3.83,
          4.22,
          3.22,
          3.08
         ]
        },
        {
         "line": {
          "color": "rgba(255, 153, 51, 0.7666666666666666)",
          "dash": "solid",
          "shape": "linear",
          "width": 1.3
         },
         "mode": "lines",
         "name": "D163",
         "text": "",
         "type": "scatter",
         "x": [
          480,
          96,
          12,
          1
         ],
         "y": [
          3.67,
          4.12,
          3.34,
          3.08
         ]
        },
        {
         "line": {
          "color": "rgba(55, 128, 191, 0.7666666666666666)",
          "dash": "solid",
          "shape": "linear",
          "width": 1.3
         },
         "mode": "lines",
         "name": "D162",
         "text": "",
         "type": "scatter",
         "x": [
          480,
          96,
          12,
          1
         ],
         "y": [
          3.62,
          4.1,
          3.32,
          3.08
         ]
        },
        {
         "line": {
          "color": "rgba(50, 171, 96, 0.7666666666666666)",
          "dash": "solid",
          "shape": "linear",
          "width": 1.3
         },
         "mode": "lines",
         "name": "D161",
         "text": "",
         "type": "scatter",
         "x": [
          480,
          96,
          12,
          1
         ],
         "y": [
          3.76,
          4.15,
          3.33,
          3.08
         ]
        },
        {
         "line": {
          "color": "rgba(50, 171, 96, 0.7333333333333334)",
          "dash": "solid",
          "shape": "linear",
          "width": 1.3
         },
         "mode": "lines",
         "name": "D160",
         "text": "",
         "type": "scatter",
         "x": [
          480,
          96,
          12,
          1
         ],
         "y": [
          3.83,
          4.23,
          3.32,
          3.08
         ]
        },
        {
         "line": {
          "color": "rgba(128, 0, 128, 0.7333333333333334)",
          "dash": "solid",
          "shape": "linear",
          "width": 1.3
         },
         "mode": "lines",
         "name": "D159",
         "text": "",
         "type": "scatter",
         "x": [
          480,
          96,
          12,
          1
         ],
         "y": [
          3.89,
          4.3,
          3.31,
          3.08
         ]
        },
        {
         "line": {
          "color": "rgba(219, 64, 82, 0.7333333333333334)",
          "dash": "solid",
          "shape": "linear",
          "width": 1.3
         },
         "mode": "lines",
         "name": "D158",
         "text": "",
         "type": "scatter",
         "x": [
          480,
          96,
          12,
          1
         ],
         "y": [
          3.93,
          4.3,
          3.53,
          3.08
         ]
        },
        {
         "line": {
          "color": "rgba(0, 128, 128, 0.7333333333333334)",
          "dash": "solid",
          "shape": "linear",
          "width": 1.3
         },
         "mode": "lines",
         "name": "D157",
         "text": "",
         "type": "scatter",
         "x": [
          480,
          96,
          12,
          1
         ],
         "y": [
          3.91,
          4.28,
          3.56,
          3.08
         ]
        },
        {
         "line": {
          "color": "rgba(255, 255, 51, 0.7333333333333334)",
          "dash": "solid",
          "shape": "linear",
          "width": 1.3
         },
         "mode": "lines",
         "name": "D156",
         "text": "",
         "type": "scatter",
         "x": [
          480,
          96,
          12,
          1
         ],
         "y": [
          3.97,
          4.47,
          3.64,
          3.08
         ]
        },
        {
         "line": {
          "color": "rgba(128, 128, 0, 0.7333333333333334)",
          "dash": "solid",
          "shape": "linear",
          "width": 1.3
         },
         "mode": "lines",
         "name": "D155",
         "text": "",
         "type": "scatter",
         "x": [
          480,
          96,
          12,
          1
         ],
         "y": [
          4,
          4.48,
          3.65,
          3.08
         ]
        },
        {
         "line": {
          "color": "rgba(251, 128, 114, 0.7333333333333334)",
          "dash": "solid",
          "shape": "linear",
          "width": 1.3
         },
         "mode": "lines",
         "name": "D154",
         "text": "",
         "type": "scatter",
         "x": [
          480,
          96,
          12,
          1
         ],
         "y": [
          4.02,
          4.45,
          3.82,
          3.08
         ]
        },
        {
         "line": {
          "color": "rgba(128, 177, 211, 0.7333333333333334)",
          "dash": "solid",
          "shape": "linear",
          "width": 1.3
         },
         "mode": "lines",
         "name": "D153",
         "text": "",
         "type": "scatter",
         "x": [
          480,
          96,
          12,
          1
         ],
         "y": [
          4.01,
          4.43,
          3.89,
          3.08
         ]
        },
        {
         "line": {
          "color": "rgba(255, 153, 51, 0.7333333333333334)",
          "dash": "solid",
          "shape": "linear",
          "width": 1.3
         },
         "mode": "lines",
         "name": "D152",
         "text": "",
         "type": "scatter",
         "x": [
          480,
          96,
          12,
          1
         ],
         "y": [
          4.14,
          4.55,
          3.91,
          3.08
         ]
        },
        {
         "line": {
          "color": "rgba(55, 128, 191, 0.7333333333333334)",
          "dash": "solid",
          "shape": "linear",
          "width": 1.3
         },
         "mode": "lines",
         "name": "D151",
         "text": "",
         "type": "scatter",
         "x": [
          480,
          96,
          12,
          1
         ],
         "y": [
          4.24,
          4.62,
          3.91,
          3.08
         ]
        },
        {
         "line": {
          "color": "rgba(55, 128, 191, 0.7)",
          "dash": "solid",
          "shape": "linear",
          "width": 1.3
         },
         "mode": "lines",
         "name": "D150",
         "text": "",
         "type": "scatter",
         "x": [
          480,
          96,
          12,
          1
         ],
         "y": [
          4.21,
          4.49,
          3.9,
          3.08
         ]
        },
        {
         "line": {
          "color": "rgba(50, 171, 96, 0.7)",
          "dash": "solid",
          "shape": "linear",
          "width": 1.3
         },
         "mode": "lines",
         "name": "D149",
         "text": "",
         "type": "scatter",
         "x": [
          480,
          96,
          12,
          1
         ],
         "y": [
          4.25,
          4.5,
          4,
          3.08
         ]
        },
        {
         "line": {
          "color": "rgba(128, 0, 128, 0.7)",
          "dash": "solid",
          "shape": "linear",
          "width": 1.3
         },
         "mode": "lines",
         "name": "D148",
         "text": "",
         "type": "scatter",
         "x": [
          480,
          96,
          12,
          1
         ],
         "y": [
          4.1,
          4.42,
          3.97,
          3.08
         ]
        },
        {
         "line": {
          "color": "rgba(219, 64, 82, 0.7)",
          "dash": "solid",
          "shape": "linear",
          "width": 1.3
         },
         "mode": "lines",
         "name": "D147",
         "text": "",
         "type": "scatter",
         "x": [
          480,
          96,
          12,
          1
         ],
         "y": [
          4.04,
          4.39,
          3.94,
          3.08
         ]
        },
        {
         "line": {
          "color": "rgba(0, 128, 128, 0.7)",
          "dash": "solid",
          "shape": "linear",
          "width": 1.3
         },
         "mode": "lines",
         "name": "D146",
         "text": "",
         "type": "scatter",
         "x": [
          480,
          96,
          12,
          1
         ],
         "y": [
          3.96,
          4.3,
          3.95,
          3.08
         ]
        },
        {
         "line": {
          "color": "rgba(255, 255, 51, 0.7)",
          "dash": "solid",
          "shape": "linear",
          "width": 1.3
         },
         "mode": "lines",
         "name": "D145",
         "text": "",
         "type": "scatter",
         "x": [
          480,
          96,
          12,
          1
         ],
         "y": [
          4.02,
          4.41,
          3.99,
          3.08
         ]
        },
        {
         "line": {
          "color": "rgba(128, 128, 0, 0.7)",
          "dash": "solid",
          "shape": "linear",
          "width": 1.3
         },
         "mode": "lines",
         "name": "D144",
         "text": "",
         "type": "scatter",
         "x": [
          480,
          96,
          12,
          1
         ],
         "y": [
          4.1,
          4.51,
          4.06,
          3.08
         ]
        },
        {
         "line": {
          "color": "rgba(251, 128, 114, 0.7)",
          "dash": "solid",
          "shape": "linear",
          "width": 1.3
         },
         "mode": "lines",
         "name": "D143",
         "text": "",
         "type": "scatter",
         "x": [
          480,
          96,
          12,
          1
         ],
         "y": [
          4.07,
          4.54,
          4.06,
          3.08
         ]
        },
        {
         "line": {
          "color": "rgba(128, 177, 211, 0.7)",
          "dash": "solid",
          "shape": "linear",
          "width": 1.3
         },
         "mode": "lines",
         "name": "D142",
         "text": "",
         "type": "scatter",
         "x": [
          480,
          96,
          12,
          1
         ],
         "y": [
          4.1,
          4.61,
          4.04,
          3.08
         ]
        },
        {
         "line": {
          "color": "rgba(255, 153, 51, 0.7)",
          "dash": "solid",
          "shape": "linear",
          "width": 1.3
         },
         "mode": "lines",
         "name": "D141",
         "text": "",
         "type": "scatter",
         "x": [
          480,
          96,
          12,
          1
         ],
         "y": [
          4.14,
          4.71,
          4.06,
          3.83
         ]
        },
        {
         "line": {
          "color": "rgba(255, 153, 51, 0.6666666666666667)",
          "dash": "solid",
          "shape": "linear",
          "width": 1.3
         },
         "mode": "lines",
         "name": "D140",
         "text": "",
         "type": "scatter",
         "x": [
          480,
          96,
          12,
          1
         ],
         "y": [
          4.17,
          4.66,
          4.02,
          3.83
         ]
        },
        {
         "line": {
          "color": "rgba(55, 128, 191, 0.6666666666666667)",
          "dash": "solid",
          "shape": "linear",
          "width": 1.3
         },
         "mode": "lines",
         "name": "D139",
         "text": "",
         "type": "scatter",
         "x": [
          480,
          96,
          12,
          1
         ],
         "y": [
          4.22,
          4.72,
          4.12,
          3.83
         ]
        },
        {
         "line": {
          "color": "rgba(50, 171, 96, 0.6666666666666667)",
          "dash": "solid",
          "shape": "linear",
          "width": 1.3
         },
         "mode": "lines",
         "name": "D138",
         "text": "",
         "type": "scatter",
         "x": [
          480,
          96,
          12,
          1
         ],
         "y": [
          4.14,
          4.67,
          4.1,
          3.83
         ]
        },
        {
         "line": {
          "color": "rgba(128, 0, 128, 0.6666666666666667)",
          "dash": "solid",
          "shape": "linear",
          "width": 1.3
         },
         "mode": "lines",
         "name": "D137",
         "text": "",
         "type": "scatter",
         "x": [
          480,
          96,
          12,
          1
         ],
         "y": [
          4.12,
          4.61,
          4.11,
          3.83
         ]
        },
        {
         "line": {
          "color": "rgba(219, 64, 82, 0.6666666666666667)",
          "dash": "solid",
          "shape": "linear",
          "width": 1.3
         },
         "mode": "lines",
         "name": "D136",
         "text": "",
         "type": "scatter",
         "x": [
          480,
          96,
          12,
          1
         ],
         "y": [
          3.82,
          4.34,
          4.09,
          3.83
         ]
        },
        {
         "line": {
          "color": "rgba(0, 128, 128, 0.6666666666666667)",
          "dash": "solid",
          "shape": "linear",
          "width": 1.3
         },
         "mode": "lines",
         "name": "D135",
         "text": "",
         "type": "scatter",
         "x": [
          480,
          96,
          12,
          1
         ],
         "y": [
          3.88,
          4.4,
          4.16,
          3.83
         ]
        },
        {
         "line": {
          "color": "rgba(255, 255, 51, 0.6666666666666667)",
          "dash": "solid",
          "shape": "linear",
          "width": 1.3
         },
         "mode": "lines",
         "name": "D134",
         "text": "",
         "type": "scatter",
         "x": [
          480,
          96,
          12,
          1
         ],
         "y": [
          3.8,
          4.37,
          4.14,
          3.83
         ]
        },
        {
         "line": {
          "color": "rgba(128, 128, 0, 0.6666666666666667)",
          "dash": "solid",
          "shape": "linear",
          "width": 1.3
         },
         "mode": "lines",
         "name": "D133",
         "text": "",
         "type": "scatter",
         "x": [
          480,
          96,
          12,
          1
         ],
         "y": [
          3.67,
          4.35,
          4.14,
          3.83
         ]
        },
        {
         "line": {
          "color": "rgba(251, 128, 114, 0.6666666666666667)",
          "dash": "solid",
          "shape": "linear",
          "width": 1.3
         },
         "mode": "lines",
         "name": "D132",
         "text": "",
         "type": "scatter",
         "x": [
          480,
          96,
          12,
          1
         ],
         "y": [
          3.77,
          4.43,
          4.13,
          3.83
         ]
        },
        {
         "line": {
          "color": "rgba(128, 177, 211, 0.6666666666666667)",
          "dash": "solid",
          "shape": "linear",
          "width": 1.3
         },
         "mode": "lines",
         "name": "D131",
         "text": "",
         "type": "scatter",
         "x": [
          480,
          96,
          12,
          1
         ],
         "y": [
          3.82,
          4.51,
          4.15,
          3.83
         ]
        },
        {
         "line": {
          "color": "rgba(128, 177, 211, 0.6333333333333333)",
          "dash": "solid",
          "shape": "linear",
          "width": 1.3
         },
         "mode": "lines",
         "name": "D130",
         "text": "",
         "type": "scatter",
         "x": [
          480,
          96,
          12,
          1
         ],
         "y": [
          3.83,
          4.48,
          4.23,
          3.83
         ]
        },
        {
         "line": {
          "color": "rgba(255, 153, 51, 0.6333333333333333)",
          "dash": "solid",
          "shape": "linear",
          "width": 1.3
         },
         "mode": "lines",
         "name": "D129",
         "text": "",
         "type": "scatter",
         "x": [
          480,
          96,
          12,
          1
         ],
         "y": [
          3.76,
          4.47,
          4.21,
          3.83
         ]
        },
        {
         "line": {
          "color": "rgba(55, 128, 191, 0.6333333333333333)",
          "dash": "solid",
          "shape": "linear",
          "width": 1.3
         },
         "mode": "lines",
         "name": "D128",
         "text": "",
         "type": "scatter",
         "x": [
          480,
          96,
          12,
          1
         ],
         "y": [
          3.71,
          4.46,
          4.21,
          3.83
         ]
        },
        {
         "line": {
          "color": "rgba(50, 171, 96, 0.6333333333333333)",
          "dash": "solid",
          "shape": "linear",
          "width": 1.3
         },
         "mode": "lines",
         "name": "D127",
         "text": "",
         "type": "scatter",
         "x": [
          480,
          96,
          12,
          1
         ],
         "y": [
          3.68,
          4.42,
          4.22,
          3.83
         ]
        },
        {
         "line": {
          "color": "rgba(128, 0, 128, 0.6333333333333333)",
          "dash": "solid",
          "shape": "linear",
          "width": 1.3
         },
         "mode": "lines",
         "name": "D126",
         "text": "",
         "type": "scatter",
         "x": [
          480,
          96,
          12,
          1
         ],
         "y": [
          3.69,
          4.46,
          4.3,
          3.83
         ]
        },
        {
         "line": {
          "color": "rgba(219, 64, 82, 0.6333333333333333)",
          "dash": "solid",
          "shape": "linear",
          "width": 1.3
         },
         "mode": "lines",
         "name": "D125",
         "text": "",
         "type": "scatter",
         "x": [
          480,
          96,
          12,
          1
         ],
         "y": [
          3.75,
          4.48,
          4.27,
          3.83
         ]
        },
        {
         "line": {
          "color": "rgba(0, 128, 128, 0.6333333333333333)",
          "dash": "solid",
          "shape": "linear",
          "width": 1.3
         },
         "mode": "lines",
         "name": "D124",
         "text": "",
         "type": "scatter",
         "x": [
          480,
          96,
          12,
          1
         ],
         "y": [
          3.68,
          4.38,
          4.27,
          3.83
         ]
        },
        {
         "line": {
          "color": "rgba(255, 255, 51, 0.6333333333333333)",
          "dash": "solid",
          "shape": "linear",
          "width": 1.3
         },
         "mode": "lines",
         "name": "D123",
         "text": "",
         "type": "scatter",
         "x": [
          480,
          96,
          12,
          1
         ],
         "y": [
          3.53,
          4.25,
          4.22,
          3.83
         ]
        },
        {
         "line": {
          "color": "rgba(128, 128, 0, 0.6333333333333333)",
          "dash": "solid",
          "shape": "linear",
          "width": 1.3
         },
         "mode": "lines",
         "name": "D122",
         "text": "",
         "type": "scatter",
         "x": [
          480,
          96,
          12,
          1
         ],
         "y": [
          3.51,
          4.28,
          4.22,
          3.83
         ]
        },
        {
         "line": {
          "color": "rgba(251, 128, 114, 0.6333333333333333)",
          "dash": "solid",
          "shape": "linear",
          "width": 1.3
         },
         "mode": "lines",
         "name": "D121",
         "text": "",
         "type": "scatter",
         "x": [
          480,
          96,
          12,
          1
         ],
         "y": [
          3.6,
          4.41,
          4.27,
          3.83
         ]
        },
        {
         "line": {
          "color": "rgba(251, 128, 114, 0.6000000000000001)",
          "dash": "solid",
          "shape": "linear",
          "width": 1.3
         },
         "mode": "lines",
         "name": "D120",
         "text": "",
         "type": "scatter",
         "x": [
          480,
          96,
          12,
          1
         ],
         "y": [
          3.51,
          4.34,
          4.27,
          3.83
         ]
        },
        {
         "line": {
          "color": "rgba(128, 177, 211, 0.6000000000000001)",
          "dash": "solid",
          "shape": "linear",
          "width": 1.3
         },
         "mode": "lines",
         "name": "D119",
         "text": "",
         "type": "scatter",
         "x": [
          480,
          96,
          12,
          1
         ],
         "y": [
          3.42,
          4.26,
          4.2,
          3.83
         ]
        },
        {
         "line": {
          "color": "rgba(255, 153, 51, 0.6000000000000001)",
          "dash": "solid",
          "shape": "linear",
          "width": 1.3
         },
         "mode": "lines",
         "name": "D118",
         "text": "",
         "type": "scatter",
         "x": [
          480,
          96,
          12,
          1
         ],
         "y": [
          3.48,
          4.31,
          4.17,
          3.83
         ]
        },
        {
         "line": {
          "color": "rgba(55, 128, 191, 0.6000000000000001)",
          "dash": "solid",
          "shape": "linear",
          "width": 1.3
         },
         "mode": "lines",
         "name": "D117",
         "text": "",
         "type": "scatter",
         "x": [
          480,
          96,
          12,
          1
         ],
         "y": [
          3.57,
          4.33,
          4.19,
          3.83
         ]
        },
        {
         "line": {
          "color": "rgba(50, 171, 96, 0.6000000000000001)",
          "dash": "solid",
          "shape": "linear",
          "width": 1.3
         },
         "mode": "lines",
         "name": "D116",
         "text": "",
         "type": "scatter",
         "x": [
          480,
          96,
          12,
          1
         ],
         "y": [
          3.61,
          4.39,
          4.29,
          3.83
         ]
        },
        {
         "line": {
          "color": "rgba(128, 0, 128, 0.6000000000000001)",
          "dash": "solid",
          "shape": "linear",
          "width": 1.3
         },
         "mode": "lines",
         "name": "D115",
         "text": "",
         "type": "scatter",
         "x": [
          480,
          96,
          12,
          1
         ],
         "y": [
          3.51,
          4.22,
          4.26,
          3.83
         ]
        },
        {
         "line": {
          "color": "rgba(219, 64, 82, 0.6000000000000001)",
          "dash": "solid",
          "shape": "linear",
          "width": 1.3
         },
         "mode": "lines",
         "name": "D114",
         "text": "",
         "type": "scatter",
         "x": [
          480,
          96,
          12,
          1
         ],
         "y": [
          3.49,
          4.23,
          4.23,
          3.83
         ]
        },
        {
         "line": {
          "color": "rgba(0, 128, 128, 0.6000000000000001)",
          "dash": "solid",
          "shape": "linear",
          "width": 1.3
         },
         "mode": "lines",
         "name": "D113",
         "text": "",
         "type": "scatter",
         "x": [
          480,
          96,
          12,
          1
         ],
         "y": [
          3.44,
          4.23,
          4.22,
          4.33
         ]
        },
        {
         "line": {
          "color": "rgba(255, 255, 51, 0.6000000000000001)",
          "dash": "solid",
          "shape": "linear",
          "width": 1.3
         },
         "mode": "lines",
         "name": "D112",
         "text": "",
         "type": "scatter",
         "x": [
          480,
          96,
          12,
          1
         ],
         "y": [
          3.48,
          4.17,
          4.2,
          4.33
         ]
        },
        {
         "line": {
          "color": "rgba(128, 128, 0, 0.6000000000000001)",
          "dash": "solid",
          "shape": "linear",
          "width": 1.3
         },
         "mode": "lines",
         "name": "D111",
         "text": "",
         "type": "scatter",
         "x": [
          480,
          96,
          12,
          1
         ],
         "y": [
          3.57,
          4.25,
          4.28,
          4.33
         ]
        },
        {
         "line": {
          "color": "rgba(128, 128, 0, 0.5666666666666667)",
          "dash": "solid",
          "shape": "linear",
          "width": 1.3
         },
         "mode": "lines",
         "name": "D110",
         "text": "",
         "type": "scatter",
         "x": [
          480,
          96,
          12,
          1
         ],
         "y": [
          3.69,
          4.25,
          4.25,
          4.33
         ]
        },
        {
         "line": {
          "color": "rgba(251, 128, 114, 0.5666666666666667)",
          "dash": "solid",
          "shape": "linear",
          "width": 1.3
         },
         "mode": "lines",
         "name": "D109",
         "text": "",
         "type": "scatter",
         "x": [
          480,
          96,
          12,
          1
         ],
         "y": [
          3.68,
          4.21,
          4.22,
          4.33
         ]
        },
        {
         "line": {
          "color": "rgba(128, 177, 211, 0.5666666666666667)",
          "dash": "solid",
          "shape": "linear",
          "width": 1.3
         },
         "mode": "lines",
         "name": "D108",
         "text": "",
         "type": "scatter",
         "x": [
          480,
          96,
          12,
          1
         ],
         "y": [
          3.67,
          4.24,
          4.24,
          4.33
         ]
        },
        {
         "line": {
          "color": "rgba(255, 153, 51, 0.5666666666666667)",
          "dash": "solid",
          "shape": "linear",
          "width": 1.3
         },
         "mode": "lines",
         "name": "D107",
         "text": "",
         "type": "scatter",
         "x": [
          480,
          96,
          12,
          1
         ],
         "y": [
          3.75,
          4.31,
          4.23,
          4.33
         ]
        },
        {
         "line": {
          "color": "rgba(55, 128, 191, 0.5666666666666667)",
          "dash": "solid",
          "shape": "linear",
          "width": 1.3
         },
         "mode": "lines",
         "name": "D106",
         "text": "",
         "type": "scatter",
         "x": [
          480,
          96,
          12,
          1
         ],
         "y": [
          3.84,
          4.32,
          4.35,
          4.33
         ]
        },
        {
         "line": {
          "color": "rgba(50, 171, 96, 0.5666666666666667)",
          "dash": "solid",
          "shape": "linear",
          "width": 1.3
         },
         "mode": "lines",
         "name": "D105",
         "text": "",
         "type": "scatter",
         "x": [
          480,
          96,
          12,
          1
         ],
         "y": [
          3.88,
          4.31,
          4.35,
          4.33
         ]
        },
        {
         "line": {
          "color": "rgba(128, 0, 128, 0.5666666666666667)",
          "dash": "solid",
          "shape": "linear",
          "width": 1.3
         },
         "mode": "lines",
         "name": "D104",
         "text": "",
         "type": "scatter",
         "x": [
          480,
          96,
          12,
          1
         ],
         "y": [
          3.83,
          4.34,
          4.34,
          4.33
         ]
        },
        {
         "line": {
          "color": "rgba(219, 64, 82, 0.5666666666666667)",
          "dash": "solid",
          "shape": "linear",
          "width": 1.3
         },
         "mode": "lines",
         "name": "D103",
         "text": "",
         "type": "scatter",
         "x": [
          480,
          96,
          12,
          1
         ],
         "y": [
          3.88,
          4.41,
          4.3,
          4.33
         ]
        },
        {
         "line": {
          "color": "rgba(0, 128, 128, 0.5666666666666667)",
          "dash": "solid",
          "shape": "linear",
          "width": 1.3
         },
         "mode": "lines",
         "name": "D102",
         "text": "",
         "type": "scatter",
         "x": [
          480,
          96,
          12,
          1
         ],
         "y": [
          3.79,
          4.4,
          4.4,
          4.33
         ]
        },
        {
         "line": {
          "color": "rgba(255, 255, 51, 0.5666666666666667)",
          "dash": "solid",
          "shape": "linear",
          "width": 1.3
         },
         "mode": "lines",
         "name": "D101",
         "text": "",
         "type": "scatter",
         "x": [
          480,
          96,
          12,
          1
         ],
         "y": [
          3.69,
          4.36,
          4.41,
          4.33
         ]
        },
        {
         "line": {
          "color": "rgba(255, 255, 51, 0.5333333333333334)",
          "dash": "solid",
          "shape": "linear",
          "width": 1.3
         },
         "mode": "lines",
         "name": "D100",
         "text": "",
         "type": "scatter",
         "x": [
          480,
          96,
          12,
          1
         ],
         "y": [
          3.71,
          4.45,
          4.51,
          4.33
         ]
        },
        {
         "line": {
          "color": "rgba(128, 128, 0, 0.5333333333333334)",
          "dash": "solid",
          "shape": "linear",
          "width": 1.3
         },
         "mode": "lines",
         "name": "D99",
         "text": "",
         "type": "scatter",
         "x": [
          480,
          96,
          12,
          1
         ],
         "y": [
          3.55,
          4.24,
          4.51,
          4.33
         ]
        },
        {
         "line": {
          "color": "rgba(251, 128, 114, 0.5333333333333334)",
          "dash": "solid",
          "shape": "linear",
          "width": 1.3
         },
         "mode": "lines",
         "name": "D98",
         "text": "",
         "type": "scatter",
         "x": [
          480,
          96,
          12,
          1
         ],
         "y": [
          3.53,
          4.19,
          4.55,
          4.33
         ]
        },
        {
         "line": {
          "color": "rgba(128, 177, 211, 0.5333333333333334)",
          "dash": "solid",
          "shape": "linear",
          "width": 1.3
         },
         "mode": "lines",
         "name": "D97",
         "text": "",
         "type": "scatter",
         "x": [
          480,
          96,
          12,
          1
         ],
         "y": [
          3.61,
          4.24,
          4.57,
          4.33
         ]
        },
        {
         "line": {
          "color": "rgba(255, 153, 51, 0.5333333333333334)",
          "dash": "solid",
          "shape": "linear",
          "width": 1.3
         },
         "mode": "lines",
         "name": "D96",
         "text": "",
         "type": "scatter",
         "x": [
          480,
          96,
          12,
          1
         ],
         "y": [
          3.54,
          4.2,
          4.57,
          4.33
         ]
        },
        {
         "line": {
          "color": "rgba(55, 128, 191, 0.5333333333333334)",
          "dash": "solid",
          "shape": "linear",
          "width": 1.3
         },
         "mode": "lines",
         "name": "D95",
         "text": "",
         "type": "scatter",
         "x": [
          480,
          96,
          12,
          1
         ],
         "y": [
          3.43,
          4.12,
          4.5,
          4.33
         ]
        },
        {
         "line": {
          "color": "rgba(50, 171, 96, 0.5333333333333334)",
          "dash": "solid",
          "shape": "linear",
          "width": 1.3
         },
         "mode": "lines",
         "name": "D94",
         "text": "",
         "type": "scatter",
         "x": [
          480,
          96,
          12,
          1
         ],
         "y": [
          3.49,
          4.22,
          4.51,
          4.33
         ]
        },
        {
         "line": {
          "color": "rgba(128, 0, 128, 0.5333333333333334)",
          "dash": "solid",
          "shape": "linear",
          "width": 1.3
         },
         "mode": "lines",
         "name": "D93",
         "text": "",
         "type": "scatter",
         "x": [
          480,
          96,
          12,
          1
         ],
         "y": [
          3.53,
          4.18,
          4.56,
          4.33
         ]
        },
        {
         "line": {
          "color": "rgba(219, 64, 82, 0.5333333333333334)",
          "dash": "solid",
          "shape": "linear",
          "width": 1.3
         },
         "mode": "lines",
         "name": "D92",
         "text": "",
         "type": "scatter",
         "x": [
          480,
          96,
          12,
          1
         ],
         "y": [
          3.37,
          4.06,
          4.54,
          4.33
         ]
        },
        {
         "line": {
          "color": "rgba(0, 128, 128, 0.5333333333333334)",
          "dash": "solid",
          "shape": "linear",
          "width": 1.3
         },
         "mode": "lines",
         "name": "D91",
         "text": "",
         "type": "scatter",
         "x": [
          480,
          96,
          12,
          1
         ],
         "y": [
          3.39,
          4.09,
          4.55,
          4.33
         ]
        },
        {
         "line": {
          "color": "rgba(0, 128, 128, 0.5)",
          "dash": "solid",
          "shape": "linear",
          "width": 1.3
         },
         "mode": "lines",
         "name": "D90",
         "text": "",
         "type": "scatter",
         "x": [
          480,
          96,
          12,
          1
         ],
         "y": [
          3.48,
          4.14,
          4.57,
          4.33
         ]
        },
        {
         "line": {
          "color": "rgba(255, 255, 51, 0.5)",
          "dash": "solid",
          "shape": "linear",
          "width": 1.3
         },
         "mode": "lines",
         "name": "D89",
         "text": "",
         "type": "scatter",
         "x": [
          480,
          96,
          12,
          1
         ],
         "y": [
          3.52,
          4.21,
          4.58,
          4.33
         ]
        },
        {
         "line": {
          "color": "rgba(128, 128, 0, 0.5)",
          "dash": "solid",
          "shape": "linear",
          "width": 1.3
         },
         "mode": "lines",
         "name": "D88",
         "text": "",
         "type": "scatter",
         "x": [
          480,
          96,
          12,
          1
         ],
         "y": [
          3.46,
          4.12,
          4.57,
          4.33
         ]
        },
        {
         "line": {
          "color": "rgba(251, 128, 114, 0.5)",
          "dash": "solid",
          "shape": "linear",
          "width": 1.3
         },
         "mode": "lines",
         "name": "D87",
         "text": "",
         "type": "scatter",
         "x": [
          480,
          96,
          12,
          1
         ],
         "y": [
          3.46,
          4.11,
          4.56,
          4.33
         ]
        },
        {
         "line": {
          "color": "rgba(128, 177, 211, 0.5)",
          "dash": "solid",
          "shape": "linear",
          "width": 1.3
         },
         "mode": "lines",
         "name": "D86",
         "text": "",
         "type": "scatter",
         "x": [
          480,
          96,
          12,
          1
         ],
         "y": [
          3.49,
          4.17,
          4.55,
          4.33
         ]
        },
        {
         "line": {
          "color": "rgba(255, 153, 51, 0.5)",
          "dash": "solid",
          "shape": "linear",
          "width": 1.3
         },
         "mode": "lines",
         "name": "D85",
         "text": "",
         "type": "scatter",
         "x": [
          480,
          96,
          12,
          1
         ],
         "y": [
          3.52,
          4.19,
          4.57,
          4.33
         ]
        },
        {
         "line": {
          "color": "rgba(55, 128, 191, 0.5)",
          "dash": "solid",
          "shape": "linear",
          "width": 1.3
         },
         "mode": "lines",
         "name": "D84",
         "text": "",
         "type": "scatter",
         "x": [
          480,
          96,
          12,
          1
         ],
         "y": [
          3.55,
          4.25,
          4.59,
          4.33
         ]
        },
        {
         "line": {
          "color": "rgba(50, 171, 96, 0.5)",
          "dash": "solid",
          "shape": "linear",
          "width": 1.3
         },
         "mode": "lines",
         "name": "D83",
         "text": "",
         "type": "scatter",
         "x": [
          480,
          96,
          12,
          1
         ],
         "y": [
          3.52,
          4.21,
          4.58,
          4.33
         ]
        },
        {
         "line": {
          "color": "rgba(128, 0, 128, 0.5)",
          "dash": "solid",
          "shape": "linear",
          "width": 1.3
         },
         "mode": "lines",
         "name": "D82",
         "text": "",
         "type": "scatter",
         "x": [
          480,
          96,
          12,
          1
         ],
         "y": [
          3.39,
          4.09,
          4.54,
          4.33
         ]
        },
        {
         "line": {
          "color": "rgba(219, 64, 82, 0.5)",
          "dash": "solid",
          "shape": "linear",
          "width": 1.3
         },
         "mode": "lines",
         "name": "D81",
         "text": "",
         "type": "scatter",
         "x": [
          480,
          96,
          12,
          1
         ],
         "y": [
          3.4,
          4.09,
          4.53,
          4.58
         ]
        },
        {
         "line": {
          "color": "rgba(219, 64, 82, 0.46666666666666684)",
          "dash": "solid",
          "shape": "linear",
          "width": 1.3
         },
         "mode": "lines",
         "name": "D80",
         "text": "",
         "type": "scatter",
         "x": [
          480,
          96,
          12,
          1
         ],
         "y": [
          3.53,
          4.3,
          4.57,
          4.58
         ]
        },
        {
         "line": {
          "color": "rgba(0, 128, 128, 0.46666666666666684)",
          "dash": "solid",
          "shape": "linear",
          "width": 1.3
         },
         "mode": "lines",
         "name": "D79",
         "text": "",
         "type": "scatter",
         "x": [
          480,
          96,
          12,
          1
         ],
         "y": [
          3.63,
          4.44,
          4.59,
          4.58
         ]
        },
        {
         "line": {
          "color": "rgba(255, 255, 51, 0.46666666666666684)",
          "dash": "solid",
          "shape": "linear",
          "width": 1.3
         },
         "mode": "lines",
         "name": "D78",
         "text": "",
         "type": "scatter",
         "x": [
          480,
          96,
          12,
          1
         ],
         "y": [
          3.67,
          4.47,
          4.59,
          4.58
         ]
        },
        {
         "line": {
          "color": "rgba(128, 128, 0, 0.46666666666666684)",
          "dash": "solid",
          "shape": "linear",
          "width": 1.3
         },
         "mode": "lines",
         "name": "D77",
         "text": "",
         "type": "scatter",
         "x": [
          480,
          96,
          12,
          1
         ],
         "y": [
          3.63,
          4.45,
          4.59,
          4.58
         ]
        },
        {
         "line": {
          "color": "rgba(251, 128, 114, 0.46666666666666684)",
          "dash": "solid",
          "shape": "linear",
          "width": 1.3
         },
         "mode": "lines",
         "name": "D76",
         "text": "",
         "type": "scatter",
         "x": [
          480,
          96,
          12,
          1
         ],
         "y": [
          3.67,
          4.48,
          4.64,
          4.57
         ]
        },
        {
         "line": {
          "color": "rgba(128, 177, 211, 0.46666666666666684)",
          "dash": "solid",
          "shape": "linear",
          "width": 1.3
         },
         "mode": "lines",
         "name": "D75",
         "text": "",
         "type": "scatter",
         "x": [
          480,
          96,
          12,
          1
         ],
         "y": [
          3.74,
          4.5,
          4.66,
          4.58
         ]
        },
        {
         "line": {
          "color": "rgba(255, 153, 51, 0.46666666666666684)",
          "dash": "solid",
          "shape": "linear",
          "width": 1.3
         },
         "mode": "lines",
         "name": "D74",
         "text": "",
         "type": "scatter",
         "x": [
          480,
          96,
          12,
          1
         ],
         "y": [
          3.72,
          4.52,
          4.68,
          4.58
         ]
        },
        {
         "line": {
          "color": "rgba(55, 128, 191, 0.46666666666666684)",
          "dash": "solid",
          "shape": "linear",
          "width": 1.3
         },
         "mode": "lines",
         "name": "D73",
         "text": "",
         "type": "scatter",
         "x": [
          480,
          96,
          12,
          1
         ],
         "y": [
          3.77,
          4.6,
          4.67,
          4.58
         ]
        },
        {
         "line": {
          "color": "rgba(50, 171, 96, 0.46666666666666684)",
          "dash": "solid",
          "shape": "linear",
          "width": 1.3
         },
         "mode": "lines",
         "name": "D72",
         "text": "",
         "type": "scatter",
         "x": [
          480,
          96,
          12,
          1
         ],
         "y": [
          3.81,
          4.62,
          4.66,
          4.58
         ]
        },
        {
         "line": {
          "color": "rgba(128, 0, 128, 0.46666666666666684)",
          "dash": "solid",
          "shape": "linear",
          "width": 1.3
         },
         "mode": "lines",
         "name": "D71",
         "text": "",
         "type": "scatter",
         "x": [
          480,
          96,
          12,
          1
         ],
         "y": [
          3.86,
          4.62,
          4.7,
          4.58
         ]
        },
        {
         "line": {
          "color": "rgba(128, 0, 128, 0.4333333333333334)",
          "dash": "solid",
          "shape": "linear",
          "width": 1.3
         },
         "mode": "lines",
         "name": "D70",
         "text": "",
         "type": "scatter",
         "x": [
          480,
          96,
          12,
          1
         ],
         "y": [
          3.82,
          4.6,
          4.7,
          4.58
         ]
        },
        {
         "line": {
          "color": "rgba(219, 64, 82, 0.4333333333333334)",
          "dash": "solid",
          "shape": "linear",
          "width": 1.3
         },
         "mode": "lines",
         "name": "D69",
         "text": "",
         "type": "scatter",
         "x": [
          480,
          96,
          12,
          1
         ],
         "y": [
          3.95,
          4.67,
          4.72,
          4.58
         ]
        },
        {
         "line": {
          "color": "rgba(0, 128, 128, 0.4333333333333334)",
          "dash": "solid",
          "shape": "linear",
          "width": 1.3
         },
         "mode": "lines",
         "name": "D68",
         "text": "",
         "type": "scatter",
         "x": [
          480,
          96,
          12,
          1
         ],
         "y": [
          3.93,
          4.66,
          4.71,
          4.58
         ]
        },
        {
         "line": {
          "color": "rgba(255, 255, 51, 0.4333333333333334)",
          "dash": "solid",
          "shape": "linear",
          "width": 1.3
         },
         "mode": "lines",
         "name": "D67",
         "text": "",
         "type": "scatter",
         "x": [
          480,
          96,
          12,
          1
         ],
         "y": [
          3.88,
          4.66,
          4.71,
          4.58
         ]
        },
        {
         "line": {
          "color": "rgba(128, 128, 0, 0.4333333333333334)",
          "dash": "solid",
          "shape": "linear",
          "width": 1.3
         },
         "mode": "lines",
         "name": "D66",
         "text": "",
         "type": "scatter",
         "x": [
          480,
          96,
          12,
          1
         ],
         "y": [
          3.95,
          4.78,
          4.72,
          4.58
         ]
        },
        {
         "line": {
          "color": "rgba(251, 128, 114, 0.4333333333333334)",
          "dash": "solid",
          "shape": "linear",
          "width": 1.3
         },
         "mode": "lines",
         "name": "D65",
         "text": "",
         "type": "scatter",
         "x": [
          480,
          96,
          12,
          1
         ],
         "y": [
          3.92,
          4.78,
          4.74,
          4.57
         ]
        },
        {
         "line": {
          "color": "rgba(128, 177, 211, 0.4333333333333334)",
          "dash": "solid",
          "shape": "linear",
          "width": 1.3
         },
         "mode": "lines",
         "name": "D64",
         "text": "",
         "type": "scatter",
         "x": [
          480,
          96,
          12,
          1
         ],
         "y": [
          3.92,
          4.81,
          4.72,
          4.57
         ]
        },
        {
         "line": {
          "color": "rgba(255, 153, 51, 0.4333333333333334)",
          "dash": "solid",
          "shape": "linear",
          "width": 1.3
         },
         "mode": "lines",
         "name": "D63",
         "text": "",
         "type": "scatter",
         "x": [
          480,
          96,
          12,
          1
         ],
         "y": [
          4.01,
          4.89,
          4.73,
          4.58
         ]
        },
        {
         "line": {
          "color": "rgba(55, 128, 191, 0.4333333333333334)",
          "dash": "solid",
          "shape": "linear",
          "width": 1.3
         },
         "mode": "lines",
         "name": "D62",
         "text": "",
         "type": "scatter",
         "x": [
          480,
          96,
          12,
          1
         ],
         "y": [
          4.08,
          4.89,
          4.74,
          4.57
         ]
        },
        {
         "line": {
          "color": "rgba(50, 171, 96, 0.4333333333333334)",
          "dash": "solid",
          "shape": "linear",
          "width": 1.3
         },
         "mode": "lines",
         "name": "D61",
         "text": "",
         "type": "scatter",
         "x": [
          480,
          96,
          12,
          1
         ],
         "y": [
          3.97,
          4.86,
          4.74,
          4.57
         ]
        },
        {
         "line": {
          "color": "rgba(50, 171, 96, 0.4000000000000002)",
          "dash": "solid",
          "shape": "linear",
          "width": 1.3
         },
         "mode": "lines",
         "name": "D60",
         "text": "",
         "type": "scatter",
         "x": [
          480,
          96,
          12,
          1
         ],
         "y": [
          3.98,
          4.89,
          4.76,
          4.57
         ]
        },
        {
         "line": {
          "color": "rgba(128, 0, 128, 0.4000000000000002)",
          "dash": "solid",
          "shape": "linear",
          "width": 1.3
         },
         "mode": "lines",
         "name": "D59",
         "text": "",
         "type": "scatter",
         "x": [
          480,
          96,
          12,
          1
         ],
         "y": [
          3.97,
          5,
          4.87,
          4.57
         ]
        },
        {
         "line": {
          "color": "rgba(219, 64, 82, 0.4000000000000002)",
          "dash": "solid",
          "shape": "linear",
          "width": 1.3
         },
         "mode": "lines",
         "name": "D58",
         "text": "",
         "type": "scatter",
         "x": [
          480,
          96,
          12,
          1
         ],
         "y": [
          3.98,
          5.05,
          4.89,
          4.57
         ]
        },
        {
         "line": {
          "color": "rgba(0, 128, 128, 0.4000000000000002)",
          "dash": "solid",
          "shape": "linear",
          "width": 1.3
         },
         "mode": "lines",
         "name": "D57",
         "text": "",
         "type": "scatter",
         "x": [
          480,
          96,
          12,
          1
         ],
         "y": [
          3.93,
          4.9,
          4.87,
          4.57
         ]
        },
        {
         "line": {
          "color": "rgba(255, 255, 51, 0.4000000000000002)",
          "dash": "solid",
          "shape": "linear",
          "width": 1.3
         },
         "mode": "lines",
         "name": "D56",
         "text": "",
         "type": "scatter",
         "x": [
          480,
          96,
          12,
          1
         ],
         "y": [
          3.7,
          4.6,
          4.83,
          4.57
         ]
        },
        {
         "line": {
          "color": "rgba(128, 128, 0, 0.4000000000000002)",
          "dash": "solid",
          "shape": "linear",
          "width": 1.3
         },
         "mode": "lines",
         "name": "D55",
         "text": "",
         "type": "scatter",
         "x": [
          480,
          96,
          12,
          1
         ],
         "y": [
          3.55,
          4.03,
          4.7,
          4.58
         ]
        },
        {
         "line": {
          "color": "rgba(251, 128, 114, 0.4000000000000002)",
          "dash": "solid",
          "shape": "linear",
          "width": 1.3
         },
         "mode": "lines",
         "name": "D54",
         "text": "",
         "type": "scatter",
         "x": [
          480,
          96,
          12,
          1
         ],
         "y": [
          3.64,
          4.2,
          4.71,
          4.58
         ]
        },
        {
         "line": {
          "color": "rgba(128, 177, 211, 0.4000000000000002)",
          "dash": "solid",
          "shape": "linear",
          "width": 1.3
         },
         "mode": "lines",
         "name": "D53",
         "text": "",
         "type": "scatter",
         "x": [
          480,
          96,
          12,
          1
         ],
         "y": [
          3.51,
          3.93,
          4.59,
          4.58
         ]
        },
        {
         "line": {
          "color": "rgba(255, 153, 51, 0.4000000000000002)",
          "dash": "solid",
          "shape": "linear",
          "width": 1.3
         },
         "mode": "lines",
         "name": "D52",
         "text": "",
         "type": "scatter",
         "x": [
          480,
          96,
          12,
          1
         ],
         "y": [
          3.56,
          4.14,
          4.57,
          4.58
         ]
        },
        {
         "line": {
          "color": "rgba(55, 128, 191, 0.4000000000000002)",
          "dash": "solid",
          "shape": "linear",
          "width": 1.3
         },
         "mode": "lines",
         "name": "D51",
         "text": "",
         "type": "scatter",
         "x": [
          480,
          96,
          12,
          1
         ],
         "y": [
          3.39,
          3.81,
          4.36,
          4.58
         ]
        },
        {
         "line": {
          "color": "rgba(55, 128, 191, 0.36666666666666675)",
          "dash": "solid",
          "shape": "linear",
          "width": 1.3
         },
         "mode": "lines",
         "name": "D50",
         "text": "",
         "type": "scatter",
         "x": [
          480,
          96,
          12,
          1
         ],
         "y": [
          3.47,
          3.92,
          4.65,
          4.58
         ]
        },
        {
         "line": {
          "color": "rgba(50, 171, 96, 0.36666666666666675)",
          "dash": "solid",
          "shape": "linear",
          "width": 1.3
         },
         "mode": "lines",
         "name": "D49",
         "text": "",
         "type": "scatter",
         "x": [
          480,
          96,
          12,
          1
         ],
         "y": [
          3.59,
          4.17,
          4.62,
          4.58
         ]
        },
        {
         "line": {
          "color": "rgba(128, 0, 128, 0.36666666666666675)",
          "dash": "solid",
          "shape": "linear",
          "width": 1.3
         },
         "mode": "lines",
         "name": "D48",
         "text": "",
         "type": "scatter",
         "x": [
          480,
          96,
          12,
          1
         ],
         "y": [
          3.48,
          3.96,
          4.63,
          4.58
         ]
        },
        {
         "line": {
          "color": "rgba(219, 64, 82, 0.36666666666666675)",
          "dash": "solid",
          "shape": "linear",
          "width": 1.3
         },
         "mode": "lines",
         "name": "D47",
         "text": "",
         "type": "scatter",
         "x": [
          480,
          96,
          12,
          1
         ],
         "y": [
          3.38,
          3.76,
          4.57,
          4.83
         ]
        },
        {
         "line": {
          "color": "rgba(0, 128, 128, 0.36666666666666675)",
          "dash": "solid",
          "shape": "linear",
          "width": 1.3
         },
         "mode": "lines",
         "name": "D46",
         "text": "",
         "type": "scatter",
         "x": [
          480,
          96,
          12,
          1
         ],
         "y": [
          3.38,
          3.76,
          4.57,
          4.83
         ]
        },
        {
         "line": {
          "color": "rgba(255, 255, 51, 0.36666666666666675)",
          "dash": "solid",
          "shape": "linear",
          "width": 1.3
         },
         "mode": "lines",
         "name": "D45",
         "text": "",
         "type": "scatter",
         "x": [
          480,
          96,
          12,
          1
         ],
         "y": [
          3.53,
          3.94,
          4.75,
          4.83
         ]
        },
        {
         "line": {
          "color": "rgba(128, 128, 0, 0.36666666666666675)",
          "dash": "solid",
          "shape": "linear",
          "width": 1.3
         },
         "mode": "lines",
         "name": "D44",
         "text": "",
         "type": "scatter",
         "x": [
          480,
          96,
          12,
          1
         ],
         "y": [
          3.55,
          4.02,
          4.64,
          4.83
         ]
        },
        {
         "line": {
          "color": "rgba(251, 128, 114, 0.36666666666666675)",
          "dash": "solid",
          "shape": "linear",
          "width": 1.3
         },
         "mode": "lines",
         "name": "D43",
         "text": "",
         "type": "scatter",
         "x": [
          480,
          96,
          12,
          1
         ],
         "y": [
          3.57,
          4.08,
          4.64,
          4.83
         ]
        },
        {
         "line": {
          "color": "rgba(128, 177, 211, 0.36666666666666675)",
          "dash": "solid",
          "shape": "linear",
          "width": 1.3
         },
         "mode": "lines",
         "name": "D42",
         "text": "",
         "type": "scatter",
         "x": [
          480,
          96,
          12,
          1
         ],
         "y": [
          3.55,
          4.1,
          4.8,
          4.83
         ]
        },
        {
         "line": {
          "color": "rgba(255, 153, 51, 0.36666666666666675)",
          "dash": "solid",
          "shape": "linear",
          "width": 1.3
         },
         "mode": "lines",
         "name": "D41",
         "text": "",
         "type": "scatter",
         "x": [
          480,
          96,
          12,
          1
         ],
         "y": [
          3.48,
          4.06,
          4.68,
          4.83
         ]
        },
        {
         "line": {
          "color": "rgba(255, 153, 51, 0.33333333333333354)",
          "dash": "solid",
          "shape": "linear",
          "width": 1.3
         },
         "mode": "lines",
         "name": "D40",
         "text": "",
         "type": "scatter",
         "x": [
          480,
          96,
          12,
          1
         ],
         "y": [
          3.43,
          3.97,
          4.77,
          4.83
         ]
        },
        {
         "line": {
          "color": "rgba(55, 128, 191, 0.33333333333333354)",
          "dash": "solid",
          "shape": "linear",
          "width": 1.3
         },
         "mode": "lines",
         "name": "D39",
         "text": "",
         "type": "scatter",
         "x": [
          480,
          96,
          12,
          1
         ],
         "y": [
          3.35,
          3.84,
          4.74,
          4.83
         ]
        },
        {
         "line": {
          "color": "rgba(50, 171, 96, 0.33333333333333354)",
          "dash": "solid",
          "shape": "linear",
          "width": 1.3
         },
         "mode": "lines",
         "name": "D38",
         "text": "",
         "type": "scatter",
         "x": [
          480,
          96,
          12,
          1
         ],
         "y": [
          3.3,
          3.79,
          4.72,
          4.83
         ]
        },
        {
         "line": {
          "color": "rgba(128, 0, 128, 0.33333333333333354)",
          "dash": "solid",
          "shape": "linear",
          "width": 1.3
         },
         "mode": "lines",
         "name": "D37",
         "text": "",
         "type": "scatter",
         "x": [
          480,
          96,
          12,
          1
         ],
         "y": [
          3.3,
          3.82,
          4.77,
          4.83
         ]
        },
        {
         "line": {
          "color": "rgba(219, 64, 82, 0.33333333333333354)",
          "dash": "solid",
          "shape": "linear",
          "width": 1.3
         },
         "mode": "lines",
         "name": "D36",
         "text": "",
         "type": "scatter",
         "x": [
          480,
          96,
          12,
          1
         ],
         "y": [
          3.39,
          3.97,
          4.81,
          4.83
         ]
        },
        {
         "line": {
          "color": "rgba(0, 128, 128, 0.33333333333333354)",
          "dash": "solid",
          "shape": "linear",
          "width": 1.3
         },
         "mode": "lines",
         "name": "D35",
         "text": "",
         "type": "scatter",
         "x": [
          480,
          96,
          12,
          1
         ],
         "y": [
          3.41,
          4,
          4.94,
          4.83
         ]
        },
        {
         "line": {
          "color": "rgba(255, 255, 51, 0.33333333333333354)",
          "dash": "solid",
          "shape": "linear",
          "width": 1.3
         },
         "mode": "lines",
         "name": "D34",
         "text": "",
         "type": "scatter",
         "x": [
          480,
          96,
          12,
          1
         ],
         "y": [
          3.43,
          4.03,
          4.89,
          4.83
         ]
        },
        {
         "line": {
          "color": "rgba(128, 128, 0, 0.33333333333333354)",
          "dash": "solid",
          "shape": "linear",
          "width": 1.3
         },
         "mode": "lines",
         "name": "D33",
         "text": "",
         "type": "scatter",
         "x": [
          480,
          96,
          12,
          1
         ],
         "y": [
          3.41,
          3.95,
          4.87,
          4.83
         ]
        },
        {
         "line": {
          "color": "rgba(251, 128, 114, 0.33333333333333354)",
          "dash": "solid",
          "shape": "linear",
          "width": 1.3
         },
         "mode": "lines",
         "name": "D32",
         "text": "",
         "type": "scatter",
         "x": [
          480,
          96,
          12,
          1
         ],
         "y": [
          3.45,
          3.96,
          4.95,
          4.83
         ]
        },
        {
         "line": {
          "color": "rgba(128, 177, 211, 0.33333333333333354)",
          "dash": "solid",
          "shape": "linear",
          "width": 1.3
         },
         "mode": "lines",
         "name": "D31",
         "text": "",
         "type": "scatter",
         "x": [
          480,
          96,
          12,
          1
         ],
         "y": [
          3.52,
          4.08,
          4.98,
          4.83
         ]
        },
        {
         "line": {
          "color": "rgba(128, 177, 211, 0.3000000000000001)",
          "dash": "solid",
          "shape": "linear",
          "width": 1.3
         },
         "mode": "lines",
         "name": "D30",
         "text": "",
         "type": "scatter",
         "x": [
          480,
          96,
          12,
          1
         ],
         "y": [
          3.6,
          4.18,
          5.06,
          4.83
         ]
        },
        {
         "line": {
          "color": "rgba(255, 153, 51, 0.3000000000000001)",
          "dash": "solid",
          "shape": "linear",
          "width": 1.3
         },
         "mode": "lines",
         "name": "D29",
         "text": "",
         "type": "scatter",
         "x": [
          480,
          96,
          12,
          1
         ],
         "y": [
          3.58,
          4.19,
          5.04,
          4.83
         ]
        },
        {
         "line": {
          "color": "rgba(55, 128, 191, 0.3000000000000001)",
          "dash": "solid",
          "shape": "linear",
          "width": 1.3
         },
         "mode": "lines",
         "name": "D28",
         "text": "",
         "type": "scatter",
         "x": [
          480,
          96,
          12,
          1
         ],
         "y": [
          3.6,
          4.24,
          5.01,
          4.83
         ]
        },
        {
         "line": {
          "color": "rgba(50, 171, 96, 0.3000000000000001)",
          "dash": "solid",
          "shape": "linear",
          "width": 1.3
         },
         "mode": "lines",
         "name": "D27",
         "text": "",
         "type": "scatter",
         "x": [
          480,
          96,
          12,
          1
         ],
         "y": [
          3.54,
          4.14,
          4.97,
          4.83
         ]
        },
        {
         "line": {
          "color": "rgba(128, 0, 128, 0.3000000000000001)",
          "dash": "solid",
          "shape": "linear",
          "width": 1.3
         },
         "mode": "lines",
         "name": "D26",
         "text": "",
         "type": "scatter",
         "x": [
          480,
          96,
          12,
          1
         ],
         "y": [
          3.57,
          4.17,
          4.98,
          4.83
         ]
        },
        {
         "line": {
          "color": "rgba(219, 64, 82, 0.3000000000000001)",
          "dash": "solid",
          "shape": "linear",
          "width": 1.3
         },
         "mode": "lines",
         "name": "D25",
         "text": "",
         "type": "scatter",
         "x": [
          480,
          96,
          12,
          1
         ],
         "y": [
          3.52,
          4.12,
          5.04,
          4.83
         ]
        },
        {
         "line": {
          "color": "rgba(0, 128, 128, 0.3000000000000001)",
          "dash": "solid",
          "shape": "linear",
          "width": 1.3
         },
         "mode": "lines",
         "name": "D24",
         "text": "",
         "type": "scatter",
         "x": [
          480,
          96,
          12,
          1
         ],
         "y": [
          3.4,
          3.86,
          4.97,
          4.83
         ]
        },
        {
         "line": {
          "color": "rgba(255, 255, 51, 0.3000000000000001)",
          "dash": "solid",
          "shape": "linear",
          "width": 1.3
         },
         "mode": "lines",
         "name": "D23",
         "text": "",
         "type": "scatter",
         "x": [
          480,
          96,
          12,
          1
         ],
         "y": [
          3.43,
          3.9,
          5,
          4.83
         ]
        },
        {
         "line": {
          "color": "rgba(128, 128, 0, 0.3000000000000001)",
          "dash": "solid",
          "shape": "linear",
          "width": 1.3
         },
         "mode": "lines",
         "name": "D22",
         "text": "",
         "type": "scatter",
         "x": [
          480,
          96,
          12,
          1
         ],
         "y": [
          3.53,
          4.07,
          5.03,
          4.83
         ]
        },
        {
         "line": {
          "color": "rgba(251, 128, 114, 0.3000000000000001)",
          "dash": "solid",
          "shape": "linear",
          "width": 1.3
         },
         "mode": "lines",
         "name": "D21",
         "text": "",
         "type": "scatter",
         "x": [
          480,
          96,
          12,
          1
         ],
         "y": [
          3.44,
          4.04,
          4.95,
          4.83
         ]
        },
        {
         "line": {
          "color": "rgba(251, 128, 114, 0.2666666666666669)",
          "dash": "solid",
          "shape": "linear",
          "width": 1.3
         },
         "mode": "lines",
         "name": "D20",
         "text": "",
         "type": "scatter",
         "x": [
          480,
          96,
          12,
          1
         ],
         "y": [
          3.59,
          4.14,
          5.1,
          4.83
         ]
        },
        {
         "line": {
          "color": "rgba(128, 177, 211, 0.2666666666666669)",
          "dash": "solid",
          "shape": "linear",
          "width": 1.3
         },
         "mode": "lines",
         "name": "D19",
         "text": "",
         "type": "scatter",
         "x": [
          480,
          96,
          12,
          1
         ],
         "y": [
          3.44,
          3.97,
          5.08,
          4.83
         ]
        },
        {
         "line": {
          "color": "rgba(255, 153, 51, 0.2666666666666669)",
          "dash": "solid",
          "shape": "linear",
          "width": 1.3
         },
         "mode": "lines",
         "name": "D18",
         "text": "",
         "type": "scatter",
         "x": [
          480,
          96,
          12,
          1
         ],
         "y": [
          3.38,
          3.89,
          5.09,
          4.83
         ]
        },
        {
         "line": {
          "color": "rgba(55, 128, 191, 0.2666666666666669)",
          "dash": "solid",
          "shape": "linear",
          "width": 1.3
         },
         "mode": "lines",
         "name": "D17",
         "text": "",
         "type": "scatter",
         "x": [
          480,
          96,
          12,
          1
         ],
         "y": [
          3.37,
          3.75,
          5.1,
          5.08
         ]
        },
        {
         "line": {
          "color": "rgba(50, 171, 96, 0.2666666666666669)",
          "dash": "solid",
          "shape": "linear",
          "width": 1.3
         },
         "mode": "lines",
         "name": "D16",
         "text": "",
         "type": "scatter",
         "x": [
          480,
          96,
          12,
          1
         ],
         "y": [
          3.44,
          3.92,
          5.1,
          5.08
         ]
        },
        {
         "line": {
          "color": "rgba(128, 0, 128, 0.2666666666666669)",
          "dash": "solid",
          "shape": "linear",
          "width": 1.3
         },
         "mode": "lines",
         "name": "D15",
         "text": "",
         "type": "scatter",
         "x": [
          480,
          96,
          12,
          1
         ],
         "y": [
          3.52,
          4,
          5.15,
          5.08
         ]
        },
        {
         "line": {
          "color": "rgba(219, 64, 82, 0.2666666666666669)",
          "dash": "solid",
          "shape": "linear",
          "width": 1.3
         },
         "mode": "lines",
         "name": "D14",
         "text": "",
         "type": "scatter",
         "x": [
          480,
          96,
          12,
          1
         ],
         "y": [
          3.53,
          4.01,
          5.13,
          5.08
         ]
        },
        {
         "line": {
          "color": "rgba(0, 128, 128, 0.2666666666666669)",
          "dash": "solid",
          "shape": "linear",
          "width": 1.3
         },
         "mode": "lines",
         "name": "D13",
         "text": "",
         "type": "scatter",
         "x": [
          480,
          96,
          12,
          1
         ],
         "y": [
          3.43,
          3.9,
          5.08,
          5.08
         ]
        },
        {
         "line": {
          "color": "rgba(255, 255, 51, 0.2666666666666669)",
          "dash": "solid",
          "shape": "linear",
          "width": 1.3
         },
         "mode": "lines",
         "name": "D12",
         "text": "",
         "type": "scatter",
         "x": [
          480,
          96,
          12,
          1
         ],
         "y": [
          3.39,
          3.89,
          5.04,
          5.08
         ]
        },
        {
         "line": {
          "color": "rgba(128, 128, 0, 0.2666666666666669)",
          "dash": "solid",
          "shape": "linear",
          "width": 1.3
         },
         "mode": "lines",
         "name": "D11",
         "text": "",
         "type": "scatter",
         "x": [
          480,
          96,
          12,
          1
         ],
         "y": [
          3.46,
          3.98,
          5.08,
          5.08
         ]
        },
        {
         "line": {
          "color": "rgba(128, 128, 0, 0.23333333333333345)",
          "dash": "solid",
          "shape": "linear",
          "width": 1.3
         },
         "mode": "lines",
         "name": "D10",
         "text": "",
         "type": "scatter",
         "x": [
          480,
          96,
          12,
          1
         ],
         "y": [
          3.5,
          3.99,
          5.06,
          5.08
         ]
        },
        {
         "line": {
          "color": "rgba(251, 128, 114, 0.23333333333333345)",
          "dash": "solid",
          "shape": "linear",
          "width": 1.3
         },
         "mode": "lines",
         "name": "D9",
         "text": "",
         "type": "scatter",
         "x": [
          480,
          96,
          12,
          1
         ],
         "y": [
          3.54,
          4.06,
          5.07,
          5.08
         ]
        },
        {
         "line": {
          "color": "rgba(128, 177, 211, 0.23333333333333345)",
          "dash": "solid",
          "shape": "linear",
          "width": 1.3
         },
         "mode": "lines",
         "name": "D8",
         "text": "",
         "type": "scatter",
         "x": [
          480,
          96,
          12,
          1
         ],
         "y": [
          3.57,
          4.12,
          5.1,
          5.08
         ]
        },
        {
         "line": {
          "color": "rgba(255, 153, 51, 0.23333333333333345)",
          "dash": "solid",
          "shape": "linear",
          "width": 1.3
         },
         "mode": "lines",
         "name": "D7",
         "text": "",
         "type": "scatter",
         "x": [
          480,
          96,
          12,
          1
         ],
         "y": [
          3.65,
          4.24,
          5.14,
          5.08
         ]
        },
        {
         "line": {
          "color": "rgba(55, 128, 191, 0.23333333333333345)",
          "dash": "solid",
          "shape": "linear",
          "width": 1.3
         },
         "mode": "lines",
         "name": "D6",
         "text": "",
         "type": "scatter",
         "x": [
          480,
          96,
          12,
          1
         ],
         "y": [
          3.7,
          4.28,
          5.12,
          5.08
         ]
        },
        {
         "line": {
          "color": "rgba(50, 171, 96, 0.23333333333333345)",
          "dash": "solid",
          "shape": "linear",
          "width": 1.3
         },
         "mode": "lines",
         "name": "D5",
         "text": "",
         "type": "scatter",
         "x": [
          480,
          96,
          12,
          1
         ],
         "y": [
          3.72,
          4.29,
          5.24,
          5.08
         ]
        },
        {
         "line": {
          "color": "rgba(128, 0, 128, 0.23333333333333345)",
          "dash": "solid",
          "shape": "linear",
          "width": 1.3
         },
         "mode": "lines",
         "name": "D4",
         "text": "",
         "type": "scatter",
         "x": [
          480,
          96,
          12,
          1
         ],
         "y": [
          3.7,
          4.26,
          5.18,
          5.08
         ]
        },
        {
         "line": {
          "color": "rgba(219, 64, 82, 0.23333333333333345)",
          "dash": "solid",
          "shape": "linear",
          "width": 1.3
         },
         "mode": "lines",
         "name": "D3",
         "text": "",
         "type": "scatter",
         "x": [
          480,
          96,
          12,
          1
         ],
         "y": [
          3.73,
          4.31,
          5.21,
          5.08
         ]
        },
        {
         "line": {
          "color": "rgba(0, 128, 128, 0.23333333333333345)",
          "dash": "solid",
          "shape": "linear",
          "width": 1.3
         },
         "mode": "lines",
         "name": "D2",
         "text": "",
         "type": "scatter",
         "x": [
          480,
          96,
          12,
          1
         ],
         "y": [
          3.83,
          4.5,
          5.21,
          5.08
         ]
        },
        {
         "line": {
          "color": "rgba(255, 255, 51, 0.23333333333333345)",
          "dash": "solid",
          "shape": "linear",
          "width": 1.3
         },
         "mode": "lines",
         "name": "D1",
         "text": "",
         "type": "scatter",
         "x": [
          480,
          96,
          12,
          1
         ],
         "y": [
          3.8,
          4.54,
          5.16,
          5.08
         ]
        }
       ],
       "layout": {
        "legend": {
         "bgcolor": "#1A1A1C",
         "font": {
          "color": "#D9D9D9"
         }
        },
        "paper_bgcolor": "#1A1A1C",
        "plot_bgcolor": "#1A1A1C",
        "template": {
         "data": {
          "bar": [
           {
            "error_x": {
             "color": "#f2f5fa"
            },
            "error_y": {
             "color": "#f2f5fa"
            },
            "marker": {
             "line": {
              "color": "rgb(17,17,17)",
              "width": 0.5
             },
             "pattern": {
              "fillmode": "overlay",
              "size": 10,
              "solidity": 0.2
             }
            },
            "type": "bar"
           }
          ],
          "barpolar": [
           {
            "marker": {
             "line": {
              "color": "rgb(17,17,17)",
              "width": 0.5
             },
             "pattern": {
              "fillmode": "overlay",
              "size": 10,
              "solidity": 0.2
             }
            },
            "type": "barpolar"
           }
          ],
          "candlestick": [
           {
            "decreasing": {
             "fillcolor": "#e4003a",
             "line": {
              "color": "#e4003a"
             }
            },
            "increasing": {
             "fillcolor": "#00ACFF",
             "line": {
              "color": "#00ACFF"
             }
            },
            "type": "candlestick"
           }
          ],
          "carpet": [
           {
            "aaxis": {
             "endlinecolor": "#A2B1C6",
             "gridcolor": "#506784",
             "linecolor": "#506784",
             "minorgridcolor": "#506784",
             "startlinecolor": "#A2B1C6"
            },
            "baxis": {
             "endlinecolor": "#A2B1C6",
             "gridcolor": "#506784",
             "linecolor": "#506784",
             "minorgridcolor": "#506784",
             "startlinecolor": "#A2B1C6"
            },
            "type": "carpet"
           }
          ],
          "choropleth": [
           {
            "colorbar": {
             "outlinewidth": 0,
             "ticks": ""
            },
            "type": "choropleth"
           }
          ],
          "contour": [
           {
            "colorbar": {
             "outlinewidth": 0,
             "ticks": ""
            },
            "colorscale": [
             [
              0,
              "#0d0887"
             ],
             [
              0.1111111111111111,
              "#46039f"
             ],
             [
              0.2222222222222222,
              "#7201a8"
             ],
             [
              0.3333333333333333,
              "#9c179e"
             ],
             [
              0.4444444444444444,
              "#bd3786"
             ],
             [
              0.5555555555555556,
              "#d8576b"
             ],
             [
              0.6666666666666666,
              "#ed7953"
             ],
             [
              0.7777777777777778,
              "#fb9f3a"
             ],
             [
              0.8888888888888888,
              "#fdca26"
             ],
             [
              1,
              "#f0f921"
             ]
            ],
            "type": "contour"
           }
          ],
          "contourcarpet": [
           {
            "colorbar": {
             "outlinewidth": 0,
             "ticks": ""
            },
            "type": "contourcarpet"
           }
          ],
          "heatmap": [
           {
            "colorbar": {
             "outlinewidth": 0,
             "ticks": ""
            },
            "colorscale": [
             [
              0,
              "#0d0887"
             ],
             [
              0.1111111111111111,
              "#46039f"
             ],
             [
              0.2222222222222222,
              "#7201a8"
             ],
             [
              0.3333333333333333,
              "#9c179e"
             ],
             [
              0.4444444444444444,
              "#bd3786"
             ],
             [
              0.5555555555555556,
              "#d8576b"
             ],
             [
              0.6666666666666666,
              "#ed7953"
             ],
             [
              0.7777777777777778,
              "#fb9f3a"
             ],
             [
              0.8888888888888888,
              "#fdca26"
             ],
             [
              1,
              "#f0f921"
             ]
            ],
            "type": "heatmap"
           }
          ],
          "heatmapgl": [
           {
            "colorbar": {
             "outlinewidth": 0,
             "ticks": ""
            },
            "colorscale": [
             [
              0,
              "#0d0887"
             ],
             [
              0.1111111111111111,
              "#46039f"
             ],
             [
              0.2222222222222222,
              "#7201a8"
             ],
             [
              0.3333333333333333,
              "#9c179e"
             ],
             [
              0.4444444444444444,
              "#bd3786"
             ],
             [
              0.5555555555555556,
              "#d8576b"
             ],
             [
              0.6666666666666666,
              "#ed7953"
             ],
             [
              0.7777777777777778,
              "#fb9f3a"
             ],
             [
              0.8888888888888888,
              "#fdca26"
             ],
             [
              1,
              "#f0f921"
             ]
            ],
            "type": "heatmapgl"
           }
          ],
          "histogram": [
           {
            "marker": {
             "pattern": {
              "fillmode": "overlay",
              "size": 10,
              "solidity": 0.2
             }
            },
            "type": "histogram"
           }
          ],
          "histogram2d": [
           {
            "colorbar": {
             "outlinewidth": 0,
             "ticks": ""
            },
            "colorscale": [
             [
              0,
              "#0d0887"
             ],
             [
              0.1111111111111111,
              "#46039f"
             ],
             [
              0.2222222222222222,
              "#7201a8"
             ],
             [
              0.3333333333333333,
              "#9c179e"
             ],
             [
              0.4444444444444444,
              "#bd3786"
             ],
             [
              0.5555555555555556,
              "#d8576b"
             ],
             [
              0.6666666666666666,
              "#ed7953"
             ],
             [
              0.7777777777777778,
              "#fb9f3a"
             ],
             [
              0.8888888888888888,
              "#fdca26"
             ],
             [
              1,
              "#f0f921"
             ]
            ],
            "type": "histogram2d"
           }
          ],
          "histogram2dcontour": [
           {
            "colorbar": {
             "outlinewidth": 0,
             "ticks": ""
            },
            "colorscale": [
             [
              0,
              "#0d0887"
             ],
             [
              0.1111111111111111,
              "#46039f"
             ],
             [
              0.2222222222222222,
              "#7201a8"
             ],
             [
              0.3333333333333333,
              "#9c179e"
             ],
             [
              0.4444444444444444,
              "#bd3786"
             ],
             [
              0.5555555555555556,
              "#d8576b"
             ],
             [
              0.6666666666666666,
              "#ed7953"
             ],
             [
              0.7777777777777778,
              "#fb9f3a"
             ],
             [
              0.8888888888888888,
              "#fdca26"
             ],
             [
              1,
              "#f0f921"
             ]
            ],
            "type": "histogram2dcontour"
           }
          ],
          "mesh3d": [
           {
            "colorbar": {
             "outlinewidth": 0,
             "ticks": ""
            },
            "type": "mesh3d"
           }
          ],
          "parcoords": [
           {
            "line": {
             "colorbar": {
              "outlinewidth": 0,
              "ticks": ""
             }
            },
            "type": "parcoords"
           }
          ],
          "pie": [
           {
            "automargin": true,
            "type": "pie"
           }
          ],
          "scatter": [
           {
            "marker": {
             "line": {
              "color": "#283442"
             }
            },
            "type": "scatter"
           }
          ],
          "scatter3d": [
           {
            "line": {
             "colorbar": {
              "outlinewidth": 0,
              "ticks": ""
             }
            },
            "marker": {
             "colorbar": {
              "outlinewidth": 0,
              "ticks": ""
             }
            },
            "type": "scatter3d"
           }
          ],
          "scattercarpet": [
           {
            "marker": {
             "colorbar": {
              "outlinewidth": 0,
              "ticks": ""
             }
            },
            "type": "scattercarpet"
           }
          ],
          "scattergeo": [
           {
            "marker": {
             "colorbar": {
              "outlinewidth": 0,
              "ticks": ""
             }
            },
            "type": "scattergeo"
           }
          ],
          "scattergl": [
           {
            "marker": {
             "line": {
              "color": "#283442"
             }
            },
            "type": "scattergl"
           }
          ],
          "scattermapbox": [
           {
            "marker": {
             "colorbar": {
              "outlinewidth": 0,
              "ticks": ""
             }
            },
            "type": "scattermapbox"
           }
          ],
          "scatterpolar": [
           {
            "marker": {
             "colorbar": {
              "outlinewidth": 0,
              "ticks": ""
             }
            },
            "type": "scatterpolar"
           }
          ],
          "scatterpolargl": [
           {
            "marker": {
             "colorbar": {
              "outlinewidth": 0,
              "ticks": ""
             }
            },
            "type": "scatterpolargl"
           }
          ],
          "scatterternary": [
           {
            "marker": {
             "colorbar": {
              "outlinewidth": 0,
              "ticks": ""
             }
            },
            "type": "scatterternary"
           }
          ],
          "surface": [
           {
            "colorbar": {
             "outlinewidth": 0,
             "ticks": ""
            },
            "colorscale": [
             [
              0,
              "#0d0887"
             ],
             [
              0.1111111111111111,
              "#46039f"
             ],
             [
              0.2222222222222222,
              "#7201a8"
             ],
             [
              0.3333333333333333,
              "#9c179e"
             ],
             [
              0.4444444444444444,
              "#bd3786"
             ],
             [
              0.5555555555555556,
              "#d8576b"
             ],
             [
              0.6666666666666666,
              "#ed7953"
             ],
             [
              0.7777777777777778,
              "#fb9f3a"
             ],
             [
              0.8888888888888888,
              "#fdca26"
             ],
             [
              1,
              "#f0f921"
             ]
            ],
            "type": "surface"
           }
          ],
          "table": [
           {
            "cells": {
             "fill": {
              "color": "#506784"
             },
             "line": {
              "color": "rgb(17,17,17)"
             }
            },
            "header": {
             "fill": {
              "color": "#2a3f5f"
             },
             "line": {
              "color": "rgb(17,17,17)"
             }
            },
            "type": "table"
           }
          ]
         },
         "layout": {
          "annotationdefaults": {
           "arrowcolor": "#f2f5fa",
           "arrowhead": 0,
           "arrowwidth": 1,
           "showarrow": false
          },
          "autotypenumbers": "strict",
          "coloraxis": {
           "colorbar": {
            "outlinewidth": 0,
            "ticks": ""
           }
          },
          "colorscale": {
           "diverging": [
            [
             0,
             "#8e0152"
            ],
            [
             0.1,
             "#c51b7d"
            ],
            [
             0.2,
             "#de77ae"
            ],
            [
             0.3,
             "#f1b6da"
            ],
            [
             0.4,
             "#fde0ef"
            ],
            [
             0.5,
             "#f7f7f7"
            ],
            [
             0.6,
             "#e6f5d0"
            ],
            [
             0.7,
             "#b8e186"
            ],
            [
             0.8,
             "#7fbc41"
            ],
            [
             0.9,
             "#4d9221"
            ],
            [
             1,
             "#276419"
            ]
           ],
           "sequential": [
            [
             0,
             "#0d0887"
            ],
            [
             0.1111111111111111,
             "#46039f"
            ],
            [
             0.2222222222222222,
             "#7201a8"
            ],
            [
             0.3333333333333333,
             "#9c179e"
            ],
            [
             0.4444444444444444,
             "#bd3786"
            ],
            [
             0.5555555555555556,
             "#d8576b"
            ],
            [
             0.6666666666666666,
             "#ed7953"
            ],
            [
             0.7777777777777778,
             "#fb9f3a"
            ],
            [
             0.8888888888888888,
             "#fdca26"
            ],
            [
             1,
             "#f0f921"
            ]
           ],
           "sequentialminus": [
            [
             0,
             "#0d0887"
            ],
            [
             0.1111111111111111,
             "#46039f"
            ],
            [
             0.2222222222222222,
             "#7201a8"
            ],
            [
             0.3333333333333333,
             "#9c179e"
            ],
            [
             0.4444444444444444,
             "#bd3786"
            ],
            [
             0.5555555555555556,
             "#d8576b"
            ],
            [
             0.6666666666666666,
             "#ed7953"
            ],
            [
             0.7777777777777778,
             "#fb9f3a"
            ],
            [
             0.8888888888888888,
             "#fdca26"
            ],
            [
             1,
             "#f0f921"
            ]
           ]
          },
          "colorway": [
           "#ffed00",
           "#ef7d00",
           "#e4003a",
           "#c13246",
           "#822661",
           "#48277c",
           "#005ca9",
           "#00aaff",
           "#9b30d9",
           "#af005f",
           "#5f00af",
           "#af87ff"
          ],
          "dragmode": "pan",
          "font": {
           "color": "#f2f5fa",
           "family": "Fira Code",
           "size": 18
          },
          "geo": {
           "bgcolor": "rgb(17,17,17)",
           "lakecolor": "rgb(17,17,17)",
           "landcolor": "rgb(17,17,17)",
           "showlakes": true,
           "showland": true,
           "subunitcolor": "#506784"
          },
          "hoverlabel": {
           "align": "left"
          },
          "hovermode": "x",
          "legend": {
           "bgcolor": "rgba(0, 0, 0, 0)",
           "font": {
            "size": 15
           },
           "x": 0.01,
           "xanchor": "left",
           "y": 0.99,
           "yanchor": "top"
          },
          "mapbox": {
           "style": "dark"
          },
          "paper_bgcolor": "#000000",
          "plot_bgcolor": "#000000",
          "polar": {
           "angularaxis": {
            "gridcolor": "#506784",
            "linecolor": "#506784",
            "ticks": ""
           },
           "bgcolor": "rgb(17,17,17)",
           "radialaxis": {
            "gridcolor": "#506784",
            "linecolor": "#506784",
            "ticks": ""
           }
          },
          "scene": {
           "xaxis": {
            "backgroundcolor": "rgb(17,17,17)",
            "gridcolor": "#506784",
            "gridwidth": 2,
            "linecolor": "#506784",
            "showbackground": true,
            "ticks": "",
            "zerolinecolor": "#C8D4E3"
           },
           "yaxis": {
            "backgroundcolor": "rgb(17,17,17)",
            "gridcolor": "#506784",
            "gridwidth": 2,
            "linecolor": "#506784",
            "showbackground": true,
            "ticks": "",
            "zerolinecolor": "#C8D4E3"
           },
           "zaxis": {
            "backgroundcolor": "rgb(17,17,17)",
            "gridcolor": "#506784",
            "gridwidth": 2,
            "linecolor": "#506784",
            "showbackground": true,
            "ticks": "",
            "zerolinecolor": "#C8D4E3"
           }
          },
          "shapedefaults": {
           "line": {
            "color": "#f2f5fa"
           }
          },
          "sliderdefaults": {
           "bgcolor": "#C8D4E3",
           "bordercolor": "rgb(17,17,17)",
           "borderwidth": 1,
           "tickwidth": 0
          },
          "ternary": {
           "aaxis": {
            "gridcolor": "#506784",
            "linecolor": "#506784",
            "ticks": ""
           },
           "baxis": {
            "gridcolor": "#506784",
            "linecolor": "#506784",
            "ticks": ""
           },
           "bgcolor": "rgb(17,17,17)",
           "caxis": {
            "gridcolor": "#506784",
            "linecolor": "#506784",
            "ticks": ""
           }
          },
          "title": {
           "x": 0.05
          },
          "updatemenudefaults": {
           "bgcolor": "#506784",
           "borderwidth": 0
          },
          "xaxis": {
           "automargin": true,
           "autorange": true,
           "gridcolor": "#283442",
           "linecolor": "#F5EFF3",
           "mirror": true,
           "rangeslider": {
            "visible": false
           },
           "showgrid": true,
           "showline": true,
           "tick0": 1,
           "tickfont": {
            "size": 14
           },
           "ticks": "outside",
           "title": {
            "standoff": 20
           },
           "zeroline": false,
           "zerolinecolor": "#283442",
           "zerolinewidth": 2
          },
          "yaxis": {
           "anchor": "x",
           "automargin": true,
           "fixedrange": false,
           "gridcolor": "#283442",
           "linecolor": "#F5EFF3",
           "mirror": true,
           "showgrid": true,
           "showline": true,
           "side": "right",
           "tick0": 0.5,
           "ticks": "outside",
           "title": {
            "standoff": 20
           },
           "zeroline": false,
           "zerolinecolor": "#283442",
           "zerolinewidth": 2
          }
         }
        },
        "title": {
         "font": {
          "color": "#D9D9D9"
         }
        },
        "xaxis": {
         "gridcolor": "#434343",
         "showgrid": true,
         "tickfont": {
          "color": "#C2C2C2"
         },
         "title": {
          "font": {
           "color": "#D9D9D9"
          },
          "text": ""
         },
         "zerolinecolor": "#666570"
        },
        "yaxis": {
         "gridcolor": "#434343",
         "showgrid": true,
         "tickfont": {
          "color": "#C2C2C2"
         },
         "title": {
          "font": {
           "color": "#D9D9D9"
          },
          "text": ""
         },
         "zerolinecolor": "#666570"
        }
       }
      },
      "text/html": [
       "<div>                            <div id=\"071f98a8-6f78-49f1-9831-7b8f62612387\" class=\"plotly-graph-div\" style=\"height:525px; width:100%;\"></div>            <script type=\"text/javascript\">                require([\"plotly\"], function(Plotly) {                    window.PLOTLYENV=window.PLOTLYENV || {};\n",
       "                    window.PLOTLYENV.BASE_URL='https://plot.ly';                                    if (document.getElementById(\"071f98a8-6f78-49f1-9831-7b8f62612387\")) {                    Plotly.newPlot(                        \"071f98a8-6f78-49f1-9831-7b8f62612387\",                        [{\"line\":{\"color\":\"rgba(255, 153, 51, 1.0)\",\"dash\":\"solid\",\"shape\":\"linear\",\"width\":1.3},\"mode\":\"lines\",\"name\":\"D240\",\"text\":\"\",\"x\":[480,96,12,1],\"y\":[3.43,3.4,1.69,0.83],\"type\":\"scatter\"},{\"line\":{\"color\":\"rgba(55, 128, 191, 1.0)\",\"dash\":\"solid\",\"shape\":\"linear\",\"width\":1.3},\"mode\":\"lines\",\"name\":\"D239\",\"text\":\"\",\"x\":[480,96,12,1],\"y\":[3.49,3.45,1.78,0.83],\"type\":\"scatter\"},{\"line\":{\"color\":\"rgba(50, 171, 96, 1.0)\",\"dash\":\"solid\",\"shape\":\"linear\",\"width\":1.3},\"mode\":\"lines\",\"name\":\"D238\",\"text\":\"\",\"x\":[480,96,12,1],\"y\":[3.33,3.2,1.69,0.83],\"type\":\"scatter\"},{\"line\":{\"color\":\"rgba(128, 0, 128, 1.0)\",\"dash\":\"solid\",\"shape\":\"linear\",\"width\":1.3},\"mode\":\"lines\",\"name\":\"D237\",\"text\":\"\",\"x\":[480,96,12,1],\"y\":[3.28,3.14,1.54,1.58],\"type\":\"scatter\"},{\"line\":{\"color\":\"rgba(219, 64, 82, 1.0)\",\"dash\":\"solid\",\"shape\":\"linear\",\"width\":1.3},\"mode\":\"lines\",\"name\":\"D236\",\"text\":\"\",\"x\":[480,96,12,1],\"y\":[3.25,3.17,1.58,1.58],\"type\":\"scatter\"},{\"line\":{\"color\":\"rgba(0, 128, 128, 1.0)\",\"dash\":\"solid\",\"shape\":\"linear\",\"width\":1.3},\"mode\":\"lines\",\"name\":\"D235\",\"text\":\"\",\"x\":[480,96,12,1],\"y\":[3.31,3.21,1.66,1.58],\"type\":\"scatter\"},{\"line\":{\"color\":\"rgba(255, 255, 51, 1.0)\",\"dash\":\"solid\",\"shape\":\"linear\",\"width\":1.3},\"mode\":\"lines\",\"name\":\"D234\",\"text\":\"\",\"x\":[480,96,12,1],\"y\":[3.16,3.06,1.57,1.58],\"type\":\"scatter\"},{\"line\":{\"color\":\"rgba(128, 128, 0, 1.0)\",\"dash\":\"solid\",\"shape\":\"linear\",\"width\":1.3},\"mode\":\"lines\",\"name\":\"D233\",\"text\":\"\",\"x\":[480,96,12,1],\"y\":[3.09,3.01,1.59,1.58],\"type\":\"scatter\"},{\"line\":{\"color\":\"rgba(251, 128, 114, 1.0)\",\"dash\":\"solid\",\"shape\":\"linear\",\"width\":1.3},\"mode\":\"lines\",\"name\":\"D232\",\"text\":\"\",\"x\":[480,96,12,1],\"y\":[3.13,3.04,1.66,1.58],\"type\":\"scatter\"},{\"line\":{\"color\":\"rgba(128, 177, 211, 1.0)\",\"dash\":\"solid\",\"shape\":\"linear\",\"width\":1.3},\"mode\":\"lines\",\"name\":\"D231\",\"text\":\"\",\"x\":[480,96,12,1],\"y\":[3.2,3.08,1.75,1.58],\"type\":\"scatter\"},{\"line\":{\"color\":\"rgba(128, 177, 211, 0.9666666666666666)\",\"dash\":\"solid\",\"shape\":\"linear\",\"width\":1.3},\"mode\":\"lines\",\"name\":\"D230\",\"text\":\"\",\"x\":[480,96,12,1],\"y\":[3.2,3.1,1.75,1.58],\"type\":\"scatter\"},{\"line\":{\"color\":\"rgba(255, 153, 51, 0.9666666666666666)\",\"dash\":\"solid\",\"shape\":\"linear\",\"width\":1.3},\"mode\":\"lines\",\"name\":\"D229\",\"text\":\"\",\"x\":[480,96,12,1],\"y\":[3.1,3.06,1.73,1.58],\"type\":\"scatter\"},{\"line\":{\"color\":\"rgba(55, 128, 191, 0.9666666666666666)\",\"dash\":\"solid\",\"shape\":\"linear\",\"width\":1.3},\"mode\":\"lines\",\"name\":\"D228\",\"text\":\"\",\"x\":[480,96,12,1],\"y\":[2.98,2.92,1.66,1.58],\"type\":\"scatter\"},{\"line\":{\"color\":\"rgba(50, 171, 96, 0.9666666666666666)\",\"dash\":\"solid\",\"shape\":\"linear\",\"width\":1.3},\"mode\":\"lines\",\"name\":\"D227\",\"text\":\"\",\"x\":[480,96,12,1],\"y\":[2.88,2.84,1.66,1.58],\"type\":\"scatter\"},{\"line\":{\"color\":\"rgba(128, 0, 128, 0.9666666666666666)\",\"dash\":\"solid\",\"shape\":\"linear\",\"width\":1.3},\"mode\":\"lines\",\"name\":\"D226\",\"text\":\"\",\"x\":[480,96,12,1],\"y\":[2.82,2.82,1.86,1.58],\"type\":\"scatter\"},{\"line\":{\"color\":\"rgba(219, 64, 82, 0.9666666666666666)\",\"dash\":\"solid\",\"shape\":\"linear\",\"width\":1.3},\"mode\":\"lines\",\"name\":\"D225\",\"text\":\"\",\"x\":[480,96,12,1],\"y\":[2.93,2.97,1.85,1.58],\"type\":\"scatter\"},{\"line\":{\"color\":\"rgba(0, 128, 128, 0.9666666666666666)\",\"dash\":\"solid\",\"shape\":\"linear\",\"width\":1.3},\"mode\":\"lines\",\"name\":\"D224\",\"text\":\"\",\"x\":[480,96,12,1],\"y\":[3.01,3.03,1.89,1.58],\"type\":\"scatter\"},{\"line\":{\"color\":\"rgba(255, 255, 51, 0.9666666666666666)\",\"dash\":\"solid\",\"shape\":\"linear\",\"width\":1.3},\"mode\":\"lines\",\"name\":\"D223\",\"text\":\"\",\"x\":[480,96,12,1],\"y\":[3.09,3.12,1.91,1.58],\"type\":\"scatter\"},{\"line\":{\"color\":\"rgba(128, 128, 0, 0.9666666666666666)\",\"dash\":\"solid\",\"shape\":\"linear\",\"width\":1.3},\"mode\":\"lines\",\"name\":\"D222\",\"text\":\"\",\"x\":[480,96,12,1],\"y\":[2.99,3.07,2.13,1.58],\"type\":\"scatter\"},{\"line\":{\"color\":\"rgba(251, 128, 114, 0.9666666666666666)\",\"dash\":\"solid\",\"shape\":\"linear\",\"width\":1.3},\"mode\":\"lines\",\"name\":\"D221\",\"text\":\"\",\"x\":[480,96,12,1],\"y\":[2.96,3.03,2.16,1.58],\"type\":\"scatter\"},{\"line\":{\"color\":\"rgba(251, 128, 114, 0.9333333333333333)\",\"dash\":\"solid\",\"shape\":\"linear\",\"width\":1.3},\"mode\":\"lines\",\"name\":\"D220\",\"text\":\"\",\"x\":[480,96,12,1],\"y\":[2.91,3.13,2.33,1.58],\"type\":\"scatter\"},{\"line\":{\"color\":\"rgba(128, 177, 211, 0.9333333333333333)\",\"dash\":\"solid\",\"shape\":\"linear\",\"width\":1.3},\"mode\":\"lines\",\"name\":\"D219\",\"text\":\"\",\"x\":[480,96,12,1],\"y\":[2.96,3.15,2.33,1.58],\"type\":\"scatter\"},{\"line\":{\"color\":\"rgba(255, 153, 51, 0.9333333333333333)\",\"dash\":\"solid\",\"shape\":\"linear\",\"width\":1.3},\"mode\":\"lines\",\"name\":\"D218\",\"text\":\"\",\"x\":[480,96,12,1],\"y\":[2.93,3.13,2.29,1.58],\"type\":\"scatter\"},{\"line\":{\"color\":\"rgba(55, 128, 191, 0.9333333333333333)\",\"dash\":\"solid\",\"shape\":\"linear\",\"width\":1.3},\"mode\":\"lines\",\"name\":\"D217\",\"text\":\"\",\"x\":[480,96,12,1],\"y\":[2.96,3.15,2.44,1.58],\"type\":\"scatter\"},{\"line\":{\"color\":\"rgba(50, 171, 96, 0.9333333333333333)\",\"dash\":\"solid\",\"shape\":\"linear\",\"width\":1.3},\"mode\":\"lines\",\"name\":\"D216\",\"text\":\"\",\"x\":[480,96,12,1],\"y\":[3.01,3.23,2.46,1.58],\"type\":\"scatter\"},{\"line\":{\"color\":\"rgba(128, 0, 128, 0.9333333333333333)\",\"dash\":\"solid\",\"shape\":\"linear\",\"width\":1.3},\"mode\":\"lines\",\"name\":\"D215\",\"text\":\"\",\"x\":[480,96,12,1],\"y\":[3.04,3.25,2.44,1.58],\"type\":\"scatter\"},{\"line\":{\"color\":\"rgba(219, 64, 82, 0.9333333333333333)\",\"dash\":\"solid\",\"shape\":\"linear\",\"width\":1.3},\"mode\":\"lines\",\"name\":\"D214\",\"text\":\"\",\"x\":[480,96,12,1],\"y\":[2.91,3.1,2.4,1.58],\"type\":\"scatter\"},{\"line\":{\"color\":\"rgba(0, 128, 128, 0.9333333333333333)\",\"dash\":\"solid\",\"shape\":\"linear\",\"width\":1.3},\"mode\":\"lines\",\"name\":\"D213\",\"text\":\"\",\"x\":[480,96,12,1],\"y\":[2.77,2.98,2.41,1.58],\"type\":\"scatter\"},{\"line\":{\"color\":\"rgba(255, 255, 51, 0.9333333333333333)\",\"dash\":\"solid\",\"shape\":\"linear\",\"width\":1.3},\"mode\":\"lines\",\"name\":\"D212\",\"text\":\"\",\"x\":[480,96,12,1],\"y\":[2.81,3.0,2.55,1.58],\"type\":\"scatter\"},{\"line\":{\"color\":\"rgba(128, 128, 0, 0.9333333333333333)\",\"dash\":\"solid\",\"shape\":\"linear\",\"width\":1.3},\"mode\":\"lines\",\"name\":\"D211\",\"text\":\"\",\"x\":[480,96,12,1],\"y\":[2.81,3.02,2.48,1.58],\"type\":\"scatter\"},{\"line\":{\"color\":\"rgba(128, 128, 0, 0.8999999999999999)\",\"dash\":\"solid\",\"shape\":\"linear\",\"width\":1.3},\"mode\":\"lines\",\"name\":\"D210\",\"text\":\"\",\"x\":[480,96,12,1],\"y\":[2.78,2.96,2.37,1.58],\"type\":\"scatter\"},{\"line\":{\"color\":\"rgba(251, 128, 114, 0.8999999999999999)\",\"dash\":\"solid\",\"shape\":\"linear\",\"width\":1.3},\"mode\":\"lines\",\"name\":\"D209\",\"text\":\"\",\"x\":[480,96,12,1],\"y\":[2.68,2.85,2.35,2.33],\"type\":\"scatter\"},{\"line\":{\"color\":\"rgba(128, 177, 211, 0.8999999999999999)\",\"dash\":\"solid\",\"shape\":\"linear\",\"width\":1.3},\"mode\":\"lines\",\"name\":\"D208\",\"text\":\"\",\"x\":[480,96,12,1],\"y\":[2.67,2.89,2.34,2.32],\"type\":\"scatter\"},{\"line\":{\"color\":\"rgba(255, 153, 51, 0.8999999999999999)\",\"dash\":\"solid\",\"shape\":\"linear\",\"width\":1.3},\"mode\":\"lines\",\"name\":\"D207\",\"text\":\"\",\"x\":[480,96,12,1],\"y\":[2.6,2.9,2.48,2.33],\"type\":\"scatter\"},{\"line\":{\"color\":\"rgba(55, 128, 191, 0.8999999999999999)\",\"dash\":\"solid\",\"shape\":\"linear\",\"width\":1.3},\"mode\":\"lines\",\"name\":\"D206\",\"text\":\"\",\"x\":[480,96,12,1],\"y\":[2.75,3.06,2.48,2.33],\"type\":\"scatter\"},{\"line\":{\"color\":\"rgba(50, 171, 96, 0.8999999999999999)\",\"dash\":\"solid\",\"shape\":\"linear\",\"width\":1.3},\"mode\":\"lines\",\"name\":\"D205\",\"text\":\"\",\"x\":[480,96,12,1],\"y\":[2.73,3.1,2.44,2.33],\"type\":\"scatter\"},{\"line\":{\"color\":\"rgba(128, 0, 128, 0.8999999999999999)\",\"dash\":\"solid\",\"shape\":\"linear\",\"width\":1.3},\"mode\":\"lines\",\"name\":\"D204\",\"text\":\"\",\"x\":[480,96,12,1],\"y\":[2.68,3.03,2.41,2.33],\"type\":\"scatter\"},{\"line\":{\"color\":\"rgba(219, 64, 82, 0.8999999999999999)\",\"dash\":\"solid\",\"shape\":\"linear\",\"width\":1.3},\"mode\":\"lines\",\"name\":\"D203\",\"text\":\"\",\"x\":[480,96,12,1],\"y\":[2.83,3.24,2.48,2.33],\"type\":\"scatter\"},{\"line\":{\"color\":\"rgba(0, 128, 128, 0.8999999999999999)\",\"dash\":\"solid\",\"shape\":\"linear\",\"width\":1.3},\"mode\":\"lines\",\"name\":\"D202\",\"text\":\"\",\"x\":[480,96,12,1],\"y\":[2.77,3.21,2.57,2.33],\"type\":\"scatter\"},{\"line\":{\"color\":\"rgba(255, 255, 51, 0.8999999999999999)\",\"dash\":\"solid\",\"shape\":\"linear\",\"width\":1.3},\"mode\":\"lines\",\"name\":\"D201\",\"text\":\"\",\"x\":[480,96,12,1],\"y\":[2.8,3.28,2.58,2.33],\"type\":\"scatter\"},{\"line\":{\"color\":\"rgba(255, 255, 51, 0.8666666666666667)\",\"dash\":\"solid\",\"shape\":\"linear\",\"width\":1.3},\"mode\":\"lines\",\"name\":\"D200\",\"text\":\"\",\"x\":[480,96,12,1],\"y\":[2.78,3.23,2.56,2.33],\"type\":\"scatter\"},{\"line\":{\"color\":\"rgba(128, 128, 0, 0.8666666666666667)\",\"dash\":\"solid\",\"shape\":\"linear\",\"width\":1.3},\"mode\":\"lines\",\"name\":\"D199\",\"text\":\"\",\"x\":[480,96,12,1],\"y\":[2.87,3.23,2.52,2.33],\"type\":\"scatter\"},{\"line\":{\"color\":\"rgba(251, 128, 114, 0.8666666666666667)\",\"dash\":\"solid\",\"shape\":\"linear\",\"width\":1.3},\"mode\":\"lines\",\"name\":\"D198\",\"text\":\"\",\"x\":[480,96,12,1],\"y\":[2.84,3.25,2.53,2.33],\"type\":\"scatter\"},{\"line\":{\"color\":\"rgba(128, 177, 211, 0.8666666666666667)\",\"dash\":\"solid\",\"shape\":\"linear\",\"width\":1.3},\"mode\":\"lines\",\"name\":\"D197\",\"text\":\"\",\"x\":[480,96,12,1],\"y\":[2.79,3.2,2.63,2.33],\"type\":\"scatter\"},{\"line\":{\"color\":\"rgba(255, 153, 51, 0.8666666666666667)\",\"dash\":\"solid\",\"shape\":\"linear\",\"width\":1.3},\"mode\":\"lines\",\"name\":\"D196\",\"text\":\"\",\"x\":[480,96,12,1],\"y\":[2.82,3.25,2.61,2.33],\"type\":\"scatter\"},{\"line\":{\"color\":\"rgba(55, 128, 191, 0.8666666666666667)\",\"dash\":\"solid\",\"shape\":\"linear\",\"width\":1.3},\"mode\":\"lines\",\"name\":\"D195\",\"text\":\"\",\"x\":[480,96,12,1],\"y\":[2.89,3.28,2.59,2.33],\"type\":\"scatter\"},{\"line\":{\"color\":\"rgba(50, 171, 96, 0.8666666666666667)\",\"dash\":\"solid\",\"shape\":\"linear\",\"width\":1.3},\"mode\":\"lines\",\"name\":\"D194\",\"text\":\"\",\"x\":[480,96,12,1],\"y\":[2.88,3.22,2.61,2.33],\"type\":\"scatter\"},{\"line\":{\"color\":\"rgba(128, 0, 128, 0.8666666666666667)\",\"dash\":\"solid\",\"shape\":\"linear\",\"width\":1.3},\"mode\":\"lines\",\"name\":\"D193\",\"text\":\"\",\"x\":[480,96,12,1],\"y\":[2.98,3.25,2.64,2.33],\"type\":\"scatter\"},{\"line\":{\"color\":\"rgba(219, 64, 82, 0.8666666666666667)\",\"dash\":\"solid\",\"shape\":\"linear\",\"width\":1.3},\"mode\":\"lines\",\"name\":\"D192\",\"text\":\"\",\"x\":[480,96,12,1],\"y\":[3.03,3.32,2.74,2.33],\"type\":\"scatter\"},{\"line\":{\"color\":\"rgba(0, 128, 128, 0.8666666666666667)\",\"dash\":\"solid\",\"shape\":\"linear\",\"width\":1.3},\"mode\":\"lines\",\"name\":\"D191\",\"text\":\"\",\"x\":[480,96,12,1],\"y\":[3.05,3.29,2.71,2.33],\"type\":\"scatter\"},{\"line\":{\"color\":\"rgba(0, 128, 128, 0.8333333333333333)\",\"dash\":\"solid\",\"shape\":\"linear\",\"width\":1.3},\"mode\":\"lines\",\"name\":\"D190\",\"text\":\"\",\"x\":[480,96,12,1],\"y\":[3.11,3.36,2.73,2.33],\"type\":\"scatter\"},{\"line\":{\"color\":\"rgba(255, 255, 51, 0.8333333333333333)\",\"dash\":\"solid\",\"shape\":\"linear\",\"width\":1.3},\"mode\":\"lines\",\"name\":\"D189\",\"text\":\"\",\"x\":[480,96,12,1],\"y\":[3.03,3.35,2.78,2.33],\"type\":\"scatter\"},{\"line\":{\"color\":\"rgba(128, 128, 0, 0.8333333333333333)\",\"dash\":\"solid\",\"shape\":\"linear\",\"width\":1.3},\"mode\":\"lines\",\"name\":\"D188\",\"text\":\"\",\"x\":[480,96,12,1],\"y\":[3.04,3.37,2.78,2.33],\"type\":\"scatter\"},{\"line\":{\"color\":\"rgba(251, 128, 114, 0.8333333333333333)\",\"dash\":\"solid\",\"shape\":\"linear\",\"width\":1.3},\"mode\":\"lines\",\"name\":\"D187\",\"text\":\"\",\"x\":[480,96,12,1],\"y\":[3.12,3.42,2.89,2.33],\"type\":\"scatter\"},{\"line\":{\"color\":\"rgba(128, 177, 211, 0.8333333333333333)\",\"dash\":\"solid\",\"shape\":\"linear\",\"width\":1.3},\"mode\":\"lines\",\"name\":\"D186\",\"text\":\"\",\"x\":[480,96,12,1],\"y\":[3.11,3.46,2.88,2.33],\"type\":\"scatter\"},{\"line\":{\"color\":\"rgba(255, 153, 51, 0.8333333333333333)\",\"dash\":\"solid\",\"shape\":\"linear\",\"width\":1.3},\"mode\":\"lines\",\"name\":\"D185\",\"text\":\"\",\"x\":[480,96,12,1],\"y\":[3.15,3.45,2.87,2.33],\"type\":\"scatter\"},{\"line\":{\"color\":\"rgba(55, 128, 191, 0.8333333333333333)\",\"dash\":\"solid\",\"shape\":\"linear\",\"width\":1.3},\"mode\":\"lines\",\"name\":\"D184\",\"text\":\"\",\"x\":[480,96,12,1],\"y\":[3.26,3.51,2.88,2.33],\"type\":\"scatter\"},{\"line\":{\"color\":\"rgba(50, 171, 96, 0.8333333333333333)\",\"dash\":\"solid\",\"shape\":\"linear\",\"width\":1.3},\"mode\":\"lines\",\"name\":\"D183\",\"text\":\"\",\"x\":[480,96,12,1],\"y\":[3.2,3.4,2.85,2.33],\"type\":\"scatter\"},{\"line\":{\"color\":\"rgba(128, 0, 128, 0.8333333333333333)\",\"dash\":\"solid\",\"shape\":\"linear\",\"width\":1.3},\"mode\":\"lines\",\"name\":\"D182\",\"text\":\"\",\"x\":[480,96,12,1],\"y\":[3.33,3.5,2.96,2.33],\"type\":\"scatter\"},{\"line\":{\"color\":\"rgba(219, 64, 82, 0.8333333333333333)\",\"dash\":\"solid\",\"shape\":\"linear\",\"width\":1.3},\"mode\":\"lines\",\"name\":\"D181\",\"text\":\"\",\"x\":[480,96,12,1],\"y\":[3.27,3.45,2.98,2.33],\"type\":\"scatter\"},{\"line\":{\"color\":\"rgba(219, 64, 82, 0.8)\",\"dash\":\"solid\",\"shape\":\"linear\",\"width\":1.3},\"mode\":\"lines\",\"name\":\"D180\",\"text\":\"\",\"x\":[480,96,12,1],\"y\":[3.29,3.48,2.97,2.33],\"type\":\"scatter\"},{\"line\":{\"color\":\"rgba(0, 128, 128, 0.8)\",\"dash\":\"solid\",\"shape\":\"linear\",\"width\":1.3},\"mode\":\"lines\",\"name\":\"D179\",\"text\":\"\",\"x\":[480,96,12,1],\"y\":[3.33,3.56,2.98,2.33],\"type\":\"scatter\"},{\"line\":{\"color\":\"rgba(255, 255, 51, 0.8)\",\"dash\":\"solid\",\"shape\":\"linear\",\"width\":1.3},\"mode\":\"lines\",\"name\":\"D178\",\"text\":\"\",\"x\":[480,96,12,1],\"y\":[3.37,3.58,3.09,2.33],\"type\":\"scatter\"},{\"line\":{\"color\":\"rgba(128, 128, 0, 0.8)\",\"dash\":\"solid\",\"shape\":\"linear\",\"width\":1.3},\"mode\":\"lines\",\"name\":\"D177\",\"text\":\"\",\"x\":[480,96,12,1],\"y\":[3.42,3.75,3.19,2.33],\"type\":\"scatter\"},{\"line\":{\"color\":\"rgba(251, 128, 114, 0.8)\",\"dash\":\"solid\",\"shape\":\"linear\",\"width\":1.3},\"mode\":\"lines\",\"name\":\"D176\",\"text\":\"\",\"x\":[480,96,12,1],\"y\":[3.41,3.78,3.14,2.33],\"type\":\"scatter\"},{\"line\":{\"color\":\"rgba(128, 177, 211, 0.8)\",\"dash\":\"solid\",\"shape\":\"linear\",\"width\":1.3},\"mode\":\"lines\",\"name\":\"D175\",\"text\":\"\",\"x\":[480,96,12,1],\"y\":[3.45,3.87,3.12,2.33],\"type\":\"scatter\"},{\"line\":{\"color\":\"rgba(255, 153, 51, 0.8)\",\"dash\":\"solid\",\"shape\":\"linear\",\"width\":1.3},\"mode\":\"lines\",\"name\":\"D174\",\"text\":\"\",\"x\":[480,96,12,1],\"y\":[3.45,3.85,3.1,2.33],\"type\":\"scatter\"},{\"line\":{\"color\":\"rgba(55, 128, 191, 0.8)\",\"dash\":\"solid\",\"shape\":\"linear\",\"width\":1.3},\"mode\":\"lines\",\"name\":\"D173\",\"text\":\"\",\"x\":[480,96,12,1],\"y\":[3.49,3.95,3.29,2.33],\"type\":\"scatter\"},{\"line\":{\"color\":\"rgba(50, 171, 96, 0.8)\",\"dash\":\"solid\",\"shape\":\"linear\",\"width\":1.3},\"mode\":\"lines\",\"name\":\"D172\",\"text\":\"\",\"x\":[480,96,12,1],\"y\":[3.57,3.96,3.26,2.33],\"type\":\"scatter\"},{\"line\":{\"color\":\"rgba(128, 0, 128, 0.8)\",\"dash\":\"solid\",\"shape\":\"linear\",\"width\":1.3},\"mode\":\"lines\",\"name\":\"D171\",\"text\":\"\",\"x\":[480,96,12,1],\"y\":[3.51,4.02,3.21,2.33],\"type\":\"scatter\"},{\"line\":{\"color\":\"rgba(128, 0, 128, 0.7666666666666666)\",\"dash\":\"solid\",\"shape\":\"linear\",\"width\":1.3},\"mode\":\"lines\",\"name\":\"D170\",\"text\":\"\",\"x\":[480,96,12,1],\"y\":[3.7,4.11,3.19,3.08],\"type\":\"scatter\"},{\"line\":{\"color\":\"rgba(219, 64, 82, 0.7666666666666666)\",\"dash\":\"solid\",\"shape\":\"linear\",\"width\":1.3},\"mode\":\"lines\",\"name\":\"D169\",\"text\":\"\",\"x\":[480,96,12,1],\"y\":[3.69,4.2,3.12,3.08],\"type\":\"scatter\"},{\"line\":{\"color\":\"rgba(0, 128, 128, 0.7666666666666666)\",\"dash\":\"solid\",\"shape\":\"linear\",\"width\":1.3},\"mode\":\"lines\",\"name\":\"D168\",\"text\":\"\",\"x\":[480,96,12,1],\"y\":[3.88,4.27,3.3,3.08],\"type\":\"scatter\"},{\"line\":{\"color\":\"rgba(255, 255, 51, 0.7666666666666666)\",\"dash\":\"solid\",\"shape\":\"linear\",\"width\":1.3},\"mode\":\"lines\",\"name\":\"D167\",\"text\":\"\",\"x\":[480,96,12,1],\"y\":[3.97,4.3,3.26,3.08],\"type\":\"scatter\"},{\"line\":{\"color\":\"rgba(128, 128, 0, 0.7666666666666666)\",\"dash\":\"solid\",\"shape\":\"linear\",\"width\":1.3},\"mode\":\"lines\",\"name\":\"D166\",\"text\":\"\",\"x\":[480,96,12,1],\"y\":[3.72,4.07,3.29,3.08],\"type\":\"scatter\"},{\"line\":{\"color\":\"rgba(251, 128, 114, 0.7666666666666666)\",\"dash\":\"solid\",\"shape\":\"linear\",\"width\":1.3},\"mode\":\"lines\",\"name\":\"D165\",\"text\":\"\",\"x\":[480,96,12,1],\"y\":[3.76,4.16,3.26,3.08],\"type\":\"scatter\"},{\"line\":{\"color\":\"rgba(128, 177, 211, 0.7666666666666666)\",\"dash\":\"solid\",\"shape\":\"linear\",\"width\":1.3},\"mode\":\"lines\",\"name\":\"D164\",\"text\":\"\",\"x\":[480,96,12,1],\"y\":[3.83,4.22,3.22,3.08],\"type\":\"scatter\"},{\"line\":{\"color\":\"rgba(255, 153, 51, 0.7666666666666666)\",\"dash\":\"solid\",\"shape\":\"linear\",\"width\":1.3},\"mode\":\"lines\",\"name\":\"D163\",\"text\":\"\",\"x\":[480,96,12,1],\"y\":[3.67,4.12,3.34,3.08],\"type\":\"scatter\"},{\"line\":{\"color\":\"rgba(55, 128, 191, 0.7666666666666666)\",\"dash\":\"solid\",\"shape\":\"linear\",\"width\":1.3},\"mode\":\"lines\",\"name\":\"D162\",\"text\":\"\",\"x\":[480,96,12,1],\"y\":[3.62,4.1,3.32,3.08],\"type\":\"scatter\"},{\"line\":{\"color\":\"rgba(50, 171, 96, 0.7666666666666666)\",\"dash\":\"solid\",\"shape\":\"linear\",\"width\":1.3},\"mode\":\"lines\",\"name\":\"D161\",\"text\":\"\",\"x\":[480,96,12,1],\"y\":[3.76,4.15,3.33,3.08],\"type\":\"scatter\"},{\"line\":{\"color\":\"rgba(50, 171, 96, 0.7333333333333334)\",\"dash\":\"solid\",\"shape\":\"linear\",\"width\":1.3},\"mode\":\"lines\",\"name\":\"D160\",\"text\":\"\",\"x\":[480,96,12,1],\"y\":[3.83,4.23,3.32,3.08],\"type\":\"scatter\"},{\"line\":{\"color\":\"rgba(128, 0, 128, 0.7333333333333334)\",\"dash\":\"solid\",\"shape\":\"linear\",\"width\":1.3},\"mode\":\"lines\",\"name\":\"D159\",\"text\":\"\",\"x\":[480,96,12,1],\"y\":[3.89,4.3,3.31,3.08],\"type\":\"scatter\"},{\"line\":{\"color\":\"rgba(219, 64, 82, 0.7333333333333334)\",\"dash\":\"solid\",\"shape\":\"linear\",\"width\":1.3},\"mode\":\"lines\",\"name\":\"D158\",\"text\":\"\",\"x\":[480,96,12,1],\"y\":[3.93,4.3,3.53,3.08],\"type\":\"scatter\"},{\"line\":{\"color\":\"rgba(0, 128, 128, 0.7333333333333334)\",\"dash\":\"solid\",\"shape\":\"linear\",\"width\":1.3},\"mode\":\"lines\",\"name\":\"D157\",\"text\":\"\",\"x\":[480,96,12,1],\"y\":[3.91,4.28,3.56,3.08],\"type\":\"scatter\"},{\"line\":{\"color\":\"rgba(255, 255, 51, 0.7333333333333334)\",\"dash\":\"solid\",\"shape\":\"linear\",\"width\":1.3},\"mode\":\"lines\",\"name\":\"D156\",\"text\":\"\",\"x\":[480,96,12,1],\"y\":[3.97,4.47,3.64,3.08],\"type\":\"scatter\"},{\"line\":{\"color\":\"rgba(128, 128, 0, 0.7333333333333334)\",\"dash\":\"solid\",\"shape\":\"linear\",\"width\":1.3},\"mode\":\"lines\",\"name\":\"D155\",\"text\":\"\",\"x\":[480,96,12,1],\"y\":[4.0,4.48,3.65,3.08],\"type\":\"scatter\"},{\"line\":{\"color\":\"rgba(251, 128, 114, 0.7333333333333334)\",\"dash\":\"solid\",\"shape\":\"linear\",\"width\":1.3},\"mode\":\"lines\",\"name\":\"D154\",\"text\":\"\",\"x\":[480,96,12,1],\"y\":[4.02,4.45,3.82,3.08],\"type\":\"scatter\"},{\"line\":{\"color\":\"rgba(128, 177, 211, 0.7333333333333334)\",\"dash\":\"solid\",\"shape\":\"linear\",\"width\":1.3},\"mode\":\"lines\",\"name\":\"D153\",\"text\":\"\",\"x\":[480,96,12,1],\"y\":[4.01,4.43,3.89,3.08],\"type\":\"scatter\"},{\"line\":{\"color\":\"rgba(255, 153, 51, 0.7333333333333334)\",\"dash\":\"solid\",\"shape\":\"linear\",\"width\":1.3},\"mode\":\"lines\",\"name\":\"D152\",\"text\":\"\",\"x\":[480,96,12,1],\"y\":[4.14,4.55,3.91,3.08],\"type\":\"scatter\"},{\"line\":{\"color\":\"rgba(55, 128, 191, 0.7333333333333334)\",\"dash\":\"solid\",\"shape\":\"linear\",\"width\":1.3},\"mode\":\"lines\",\"name\":\"D151\",\"text\":\"\",\"x\":[480,96,12,1],\"y\":[4.24,4.62,3.91,3.08],\"type\":\"scatter\"},{\"line\":{\"color\":\"rgba(55, 128, 191, 0.7)\",\"dash\":\"solid\",\"shape\":\"linear\",\"width\":1.3},\"mode\":\"lines\",\"name\":\"D150\",\"text\":\"\",\"x\":[480,96,12,1],\"y\":[4.21,4.49,3.9,3.08],\"type\":\"scatter\"},{\"line\":{\"color\":\"rgba(50, 171, 96, 0.7)\",\"dash\":\"solid\",\"shape\":\"linear\",\"width\":1.3},\"mode\":\"lines\",\"name\":\"D149\",\"text\":\"\",\"x\":[480,96,12,1],\"y\":[4.25,4.5,4.0,3.08],\"type\":\"scatter\"},{\"line\":{\"color\":\"rgba(128, 0, 128, 0.7)\",\"dash\":\"solid\",\"shape\":\"linear\",\"width\":1.3},\"mode\":\"lines\",\"name\":\"D148\",\"text\":\"\",\"x\":[480,96,12,1],\"y\":[4.1,4.42,3.97,3.08],\"type\":\"scatter\"},{\"line\":{\"color\":\"rgba(219, 64, 82, 0.7)\",\"dash\":\"solid\",\"shape\":\"linear\",\"width\":1.3},\"mode\":\"lines\",\"name\":\"D147\",\"text\":\"\",\"x\":[480,96,12,1],\"y\":[4.04,4.39,3.94,3.08],\"type\":\"scatter\"},{\"line\":{\"color\":\"rgba(0, 128, 128, 0.7)\",\"dash\":\"solid\",\"shape\":\"linear\",\"width\":1.3},\"mode\":\"lines\",\"name\":\"D146\",\"text\":\"\",\"x\":[480,96,12,1],\"y\":[3.96,4.3,3.95,3.08],\"type\":\"scatter\"},{\"line\":{\"color\":\"rgba(255, 255, 51, 0.7)\",\"dash\":\"solid\",\"shape\":\"linear\",\"width\":1.3},\"mode\":\"lines\",\"name\":\"D145\",\"text\":\"\",\"x\":[480,96,12,1],\"y\":[4.02,4.41,3.99,3.08],\"type\":\"scatter\"},{\"line\":{\"color\":\"rgba(128, 128, 0, 0.7)\",\"dash\":\"solid\",\"shape\":\"linear\",\"width\":1.3},\"mode\":\"lines\",\"name\":\"D144\",\"text\":\"\",\"x\":[480,96,12,1],\"y\":[4.1,4.51,4.06,3.08],\"type\":\"scatter\"},{\"line\":{\"color\":\"rgba(251, 128, 114, 0.7)\",\"dash\":\"solid\",\"shape\":\"linear\",\"width\":1.3},\"mode\":\"lines\",\"name\":\"D143\",\"text\":\"\",\"x\":[480,96,12,1],\"y\":[4.07,4.54,4.06,3.08],\"type\":\"scatter\"},{\"line\":{\"color\":\"rgba(128, 177, 211, 0.7)\",\"dash\":\"solid\",\"shape\":\"linear\",\"width\":1.3},\"mode\":\"lines\",\"name\":\"D142\",\"text\":\"\",\"x\":[480,96,12,1],\"y\":[4.1,4.61,4.04,3.08],\"type\":\"scatter\"},{\"line\":{\"color\":\"rgba(255, 153, 51, 0.7)\",\"dash\":\"solid\",\"shape\":\"linear\",\"width\":1.3},\"mode\":\"lines\",\"name\":\"D141\",\"text\":\"\",\"x\":[480,96,12,1],\"y\":[4.14,4.71,4.06,3.83],\"type\":\"scatter\"},{\"line\":{\"color\":\"rgba(255, 153, 51, 0.6666666666666667)\",\"dash\":\"solid\",\"shape\":\"linear\",\"width\":1.3},\"mode\":\"lines\",\"name\":\"D140\",\"text\":\"\",\"x\":[480,96,12,1],\"y\":[4.17,4.66,4.02,3.83],\"type\":\"scatter\"},{\"line\":{\"color\":\"rgba(55, 128, 191, 0.6666666666666667)\",\"dash\":\"solid\",\"shape\":\"linear\",\"width\":1.3},\"mode\":\"lines\",\"name\":\"D139\",\"text\":\"\",\"x\":[480,96,12,1],\"y\":[4.22,4.72,4.12,3.83],\"type\":\"scatter\"},{\"line\":{\"color\":\"rgba(50, 171, 96, 0.6666666666666667)\",\"dash\":\"solid\",\"shape\":\"linear\",\"width\":1.3},\"mode\":\"lines\",\"name\":\"D138\",\"text\":\"\",\"x\":[480,96,12,1],\"y\":[4.14,4.67,4.1,3.83],\"type\":\"scatter\"},{\"line\":{\"color\":\"rgba(128, 0, 128, 0.6666666666666667)\",\"dash\":\"solid\",\"shape\":\"linear\",\"width\":1.3},\"mode\":\"lines\",\"name\":\"D137\",\"text\":\"\",\"x\":[480,96,12,1],\"y\":[4.12,4.61,4.11,3.83],\"type\":\"scatter\"},{\"line\":{\"color\":\"rgba(219, 64, 82, 0.6666666666666667)\",\"dash\":\"solid\",\"shape\":\"linear\",\"width\":1.3},\"mode\":\"lines\",\"name\":\"D136\",\"text\":\"\",\"x\":[480,96,12,1],\"y\":[3.82,4.34,4.09,3.83],\"type\":\"scatter\"},{\"line\":{\"color\":\"rgba(0, 128, 128, 0.6666666666666667)\",\"dash\":\"solid\",\"shape\":\"linear\",\"width\":1.3},\"mode\":\"lines\",\"name\":\"D135\",\"text\":\"\",\"x\":[480,96,12,1],\"y\":[3.88,4.4,4.16,3.83],\"type\":\"scatter\"},{\"line\":{\"color\":\"rgba(255, 255, 51, 0.6666666666666667)\",\"dash\":\"solid\",\"shape\":\"linear\",\"width\":1.3},\"mode\":\"lines\",\"name\":\"D134\",\"text\":\"\",\"x\":[480,96,12,1],\"y\":[3.8,4.37,4.14,3.83],\"type\":\"scatter\"},{\"line\":{\"color\":\"rgba(128, 128, 0, 0.6666666666666667)\",\"dash\":\"solid\",\"shape\":\"linear\",\"width\":1.3},\"mode\":\"lines\",\"name\":\"D133\",\"text\":\"\",\"x\":[480,96,12,1],\"y\":[3.67,4.35,4.14,3.83],\"type\":\"scatter\"},{\"line\":{\"color\":\"rgba(251, 128, 114, 0.6666666666666667)\",\"dash\":\"solid\",\"shape\":\"linear\",\"width\":1.3},\"mode\":\"lines\",\"name\":\"D132\",\"text\":\"\",\"x\":[480,96,12,1],\"y\":[3.77,4.43,4.13,3.83],\"type\":\"scatter\"},{\"line\":{\"color\":\"rgba(128, 177, 211, 0.6666666666666667)\",\"dash\":\"solid\",\"shape\":\"linear\",\"width\":1.3},\"mode\":\"lines\",\"name\":\"D131\",\"text\":\"\",\"x\":[480,96,12,1],\"y\":[3.82,4.51,4.15,3.83],\"type\":\"scatter\"},{\"line\":{\"color\":\"rgba(128, 177, 211, 0.6333333333333333)\",\"dash\":\"solid\",\"shape\":\"linear\",\"width\":1.3},\"mode\":\"lines\",\"name\":\"D130\",\"text\":\"\",\"x\":[480,96,12,1],\"y\":[3.83,4.48,4.23,3.83],\"type\":\"scatter\"},{\"line\":{\"color\":\"rgba(255, 153, 51, 0.6333333333333333)\",\"dash\":\"solid\",\"shape\":\"linear\",\"width\":1.3},\"mode\":\"lines\",\"name\":\"D129\",\"text\":\"\",\"x\":[480,96,12,1],\"y\":[3.76,4.47,4.21,3.83],\"type\":\"scatter\"},{\"line\":{\"color\":\"rgba(55, 128, 191, 0.6333333333333333)\",\"dash\":\"solid\",\"shape\":\"linear\",\"width\":1.3},\"mode\":\"lines\",\"name\":\"D128\",\"text\":\"\",\"x\":[480,96,12,1],\"y\":[3.71,4.46,4.21,3.83],\"type\":\"scatter\"},{\"line\":{\"color\":\"rgba(50, 171, 96, 0.6333333333333333)\",\"dash\":\"solid\",\"shape\":\"linear\",\"width\":1.3},\"mode\":\"lines\",\"name\":\"D127\",\"text\":\"\",\"x\":[480,96,12,1],\"y\":[3.68,4.42,4.22,3.83],\"type\":\"scatter\"},{\"line\":{\"color\":\"rgba(128, 0, 128, 0.6333333333333333)\",\"dash\":\"solid\",\"shape\":\"linear\",\"width\":1.3},\"mode\":\"lines\",\"name\":\"D126\",\"text\":\"\",\"x\":[480,96,12,1],\"y\":[3.69,4.46,4.3,3.83],\"type\":\"scatter\"},{\"line\":{\"color\":\"rgba(219, 64, 82, 0.6333333333333333)\",\"dash\":\"solid\",\"shape\":\"linear\",\"width\":1.3},\"mode\":\"lines\",\"name\":\"D125\",\"text\":\"\",\"x\":[480,96,12,1],\"y\":[3.75,4.48,4.27,3.83],\"type\":\"scatter\"},{\"line\":{\"color\":\"rgba(0, 128, 128, 0.6333333333333333)\",\"dash\":\"solid\",\"shape\":\"linear\",\"width\":1.3},\"mode\":\"lines\",\"name\":\"D124\",\"text\":\"\",\"x\":[480,96,12,1],\"y\":[3.68,4.38,4.27,3.83],\"type\":\"scatter\"},{\"line\":{\"color\":\"rgba(255, 255, 51, 0.6333333333333333)\",\"dash\":\"solid\",\"shape\":\"linear\",\"width\":1.3},\"mode\":\"lines\",\"name\":\"D123\",\"text\":\"\",\"x\":[480,96,12,1],\"y\":[3.53,4.25,4.22,3.83],\"type\":\"scatter\"},{\"line\":{\"color\":\"rgba(128, 128, 0, 0.6333333333333333)\",\"dash\":\"solid\",\"shape\":\"linear\",\"width\":1.3},\"mode\":\"lines\",\"name\":\"D122\",\"text\":\"\",\"x\":[480,96,12,1],\"y\":[3.51,4.28,4.22,3.83],\"type\":\"scatter\"},{\"line\":{\"color\":\"rgba(251, 128, 114, 0.6333333333333333)\",\"dash\":\"solid\",\"shape\":\"linear\",\"width\":1.3},\"mode\":\"lines\",\"name\":\"D121\",\"text\":\"\",\"x\":[480,96,12,1],\"y\":[3.6,4.41,4.27,3.83],\"type\":\"scatter\"},{\"line\":{\"color\":\"rgba(251, 128, 114, 0.6000000000000001)\",\"dash\":\"solid\",\"shape\":\"linear\",\"width\":1.3},\"mode\":\"lines\",\"name\":\"D120\",\"text\":\"\",\"x\":[480,96,12,1],\"y\":[3.51,4.34,4.27,3.83],\"type\":\"scatter\"},{\"line\":{\"color\":\"rgba(128, 177, 211, 0.6000000000000001)\",\"dash\":\"solid\",\"shape\":\"linear\",\"width\":1.3},\"mode\":\"lines\",\"name\":\"D119\",\"text\":\"\",\"x\":[480,96,12,1],\"y\":[3.42,4.26,4.2,3.83],\"type\":\"scatter\"},{\"line\":{\"color\":\"rgba(255, 153, 51, 0.6000000000000001)\",\"dash\":\"solid\",\"shape\":\"linear\",\"width\":1.3},\"mode\":\"lines\",\"name\":\"D118\",\"text\":\"\",\"x\":[480,96,12,1],\"y\":[3.48,4.31,4.17,3.83],\"type\":\"scatter\"},{\"line\":{\"color\":\"rgba(55, 128, 191, 0.6000000000000001)\",\"dash\":\"solid\",\"shape\":\"linear\",\"width\":1.3},\"mode\":\"lines\",\"name\":\"D117\",\"text\":\"\",\"x\":[480,96,12,1],\"y\":[3.57,4.33,4.19,3.83],\"type\":\"scatter\"},{\"line\":{\"color\":\"rgba(50, 171, 96, 0.6000000000000001)\",\"dash\":\"solid\",\"shape\":\"linear\",\"width\":1.3},\"mode\":\"lines\",\"name\":\"D116\",\"text\":\"\",\"x\":[480,96,12,1],\"y\":[3.61,4.39,4.29,3.83],\"type\":\"scatter\"},{\"line\":{\"color\":\"rgba(128, 0, 128, 0.6000000000000001)\",\"dash\":\"solid\",\"shape\":\"linear\",\"width\":1.3},\"mode\":\"lines\",\"name\":\"D115\",\"text\":\"\",\"x\":[480,96,12,1],\"y\":[3.51,4.22,4.26,3.83],\"type\":\"scatter\"},{\"line\":{\"color\":\"rgba(219, 64, 82, 0.6000000000000001)\",\"dash\":\"solid\",\"shape\":\"linear\",\"width\":1.3},\"mode\":\"lines\",\"name\":\"D114\",\"text\":\"\",\"x\":[480,96,12,1],\"y\":[3.49,4.23,4.23,3.83],\"type\":\"scatter\"},{\"line\":{\"color\":\"rgba(0, 128, 128, 0.6000000000000001)\",\"dash\":\"solid\",\"shape\":\"linear\",\"width\":1.3},\"mode\":\"lines\",\"name\":\"D113\",\"text\":\"\",\"x\":[480,96,12,1],\"y\":[3.44,4.23,4.22,4.33],\"type\":\"scatter\"},{\"line\":{\"color\":\"rgba(255, 255, 51, 0.6000000000000001)\",\"dash\":\"solid\",\"shape\":\"linear\",\"width\":1.3},\"mode\":\"lines\",\"name\":\"D112\",\"text\":\"\",\"x\":[480,96,12,1],\"y\":[3.48,4.17,4.2,4.33],\"type\":\"scatter\"},{\"line\":{\"color\":\"rgba(128, 128, 0, 0.6000000000000001)\",\"dash\":\"solid\",\"shape\":\"linear\",\"width\":1.3},\"mode\":\"lines\",\"name\":\"D111\",\"text\":\"\",\"x\":[480,96,12,1],\"y\":[3.57,4.25,4.28,4.33],\"type\":\"scatter\"},{\"line\":{\"color\":\"rgba(128, 128, 0, 0.5666666666666667)\",\"dash\":\"solid\",\"shape\":\"linear\",\"width\":1.3},\"mode\":\"lines\",\"name\":\"D110\",\"text\":\"\",\"x\":[480,96,12,1],\"y\":[3.69,4.25,4.25,4.33],\"type\":\"scatter\"},{\"line\":{\"color\":\"rgba(251, 128, 114, 0.5666666666666667)\",\"dash\":\"solid\",\"shape\":\"linear\",\"width\":1.3},\"mode\":\"lines\",\"name\":\"D109\",\"text\":\"\",\"x\":[480,96,12,1],\"y\":[3.68,4.21,4.22,4.33],\"type\":\"scatter\"},{\"line\":{\"color\":\"rgba(128, 177, 211, 0.5666666666666667)\",\"dash\":\"solid\",\"shape\":\"linear\",\"width\":1.3},\"mode\":\"lines\",\"name\":\"D108\",\"text\":\"\",\"x\":[480,96,12,1],\"y\":[3.67,4.24,4.24,4.33],\"type\":\"scatter\"},{\"line\":{\"color\":\"rgba(255, 153, 51, 0.5666666666666667)\",\"dash\":\"solid\",\"shape\":\"linear\",\"width\":1.3},\"mode\":\"lines\",\"name\":\"D107\",\"text\":\"\",\"x\":[480,96,12,1],\"y\":[3.75,4.31,4.23,4.33],\"type\":\"scatter\"},{\"line\":{\"color\":\"rgba(55, 128, 191, 0.5666666666666667)\",\"dash\":\"solid\",\"shape\":\"linear\",\"width\":1.3},\"mode\":\"lines\",\"name\":\"D106\",\"text\":\"\",\"x\":[480,96,12,1],\"y\":[3.84,4.32,4.35,4.33],\"type\":\"scatter\"},{\"line\":{\"color\":\"rgba(50, 171, 96, 0.5666666666666667)\",\"dash\":\"solid\",\"shape\":\"linear\",\"width\":1.3},\"mode\":\"lines\",\"name\":\"D105\",\"text\":\"\",\"x\":[480,96,12,1],\"y\":[3.88,4.31,4.35,4.33],\"type\":\"scatter\"},{\"line\":{\"color\":\"rgba(128, 0, 128, 0.5666666666666667)\",\"dash\":\"solid\",\"shape\":\"linear\",\"width\":1.3},\"mode\":\"lines\",\"name\":\"D104\",\"text\":\"\",\"x\":[480,96,12,1],\"y\":[3.83,4.34,4.34,4.33],\"type\":\"scatter\"},{\"line\":{\"color\":\"rgba(219, 64, 82, 0.5666666666666667)\",\"dash\":\"solid\",\"shape\":\"linear\",\"width\":1.3},\"mode\":\"lines\",\"name\":\"D103\",\"text\":\"\",\"x\":[480,96,12,1],\"y\":[3.88,4.41,4.3,4.33],\"type\":\"scatter\"},{\"line\":{\"color\":\"rgba(0, 128, 128, 0.5666666666666667)\",\"dash\":\"solid\",\"shape\":\"linear\",\"width\":1.3},\"mode\":\"lines\",\"name\":\"D102\",\"text\":\"\",\"x\":[480,96,12,1],\"y\":[3.79,4.4,4.4,4.33],\"type\":\"scatter\"},{\"line\":{\"color\":\"rgba(255, 255, 51, 0.5666666666666667)\",\"dash\":\"solid\",\"shape\":\"linear\",\"width\":1.3},\"mode\":\"lines\",\"name\":\"D101\",\"text\":\"\",\"x\":[480,96,12,1],\"y\":[3.69,4.36,4.41,4.33],\"type\":\"scatter\"},{\"line\":{\"color\":\"rgba(255, 255, 51, 0.5333333333333334)\",\"dash\":\"solid\",\"shape\":\"linear\",\"width\":1.3},\"mode\":\"lines\",\"name\":\"D100\",\"text\":\"\",\"x\":[480,96,12,1],\"y\":[3.71,4.45,4.51,4.33],\"type\":\"scatter\"},{\"line\":{\"color\":\"rgba(128, 128, 0, 0.5333333333333334)\",\"dash\":\"solid\",\"shape\":\"linear\",\"width\":1.3},\"mode\":\"lines\",\"name\":\"D99\",\"text\":\"\",\"x\":[480,96,12,1],\"y\":[3.55,4.24,4.51,4.33],\"type\":\"scatter\"},{\"line\":{\"color\":\"rgba(251, 128, 114, 0.5333333333333334)\",\"dash\":\"solid\",\"shape\":\"linear\",\"width\":1.3},\"mode\":\"lines\",\"name\":\"D98\",\"text\":\"\",\"x\":[480,96,12,1],\"y\":[3.53,4.19,4.55,4.33],\"type\":\"scatter\"},{\"line\":{\"color\":\"rgba(128, 177, 211, 0.5333333333333334)\",\"dash\":\"solid\",\"shape\":\"linear\",\"width\":1.3},\"mode\":\"lines\",\"name\":\"D97\",\"text\":\"\",\"x\":[480,96,12,1],\"y\":[3.61,4.24,4.57,4.33],\"type\":\"scatter\"},{\"line\":{\"color\":\"rgba(255, 153, 51, 0.5333333333333334)\",\"dash\":\"solid\",\"shape\":\"linear\",\"width\":1.3},\"mode\":\"lines\",\"name\":\"D96\",\"text\":\"\",\"x\":[480,96,12,1],\"y\":[3.54,4.2,4.57,4.33],\"type\":\"scatter\"},{\"line\":{\"color\":\"rgba(55, 128, 191, 0.5333333333333334)\",\"dash\":\"solid\",\"shape\":\"linear\",\"width\":1.3},\"mode\":\"lines\",\"name\":\"D95\",\"text\":\"\",\"x\":[480,96,12,1],\"y\":[3.43,4.12,4.5,4.33],\"type\":\"scatter\"},{\"line\":{\"color\":\"rgba(50, 171, 96, 0.5333333333333334)\",\"dash\":\"solid\",\"shape\":\"linear\",\"width\":1.3},\"mode\":\"lines\",\"name\":\"D94\",\"text\":\"\",\"x\":[480,96,12,1],\"y\":[3.49,4.22,4.51,4.33],\"type\":\"scatter\"},{\"line\":{\"color\":\"rgba(128, 0, 128, 0.5333333333333334)\",\"dash\":\"solid\",\"shape\":\"linear\",\"width\":1.3},\"mode\":\"lines\",\"name\":\"D93\",\"text\":\"\",\"x\":[480,96,12,1],\"y\":[3.53,4.18,4.56,4.33],\"type\":\"scatter\"},{\"line\":{\"color\":\"rgba(219, 64, 82, 0.5333333333333334)\",\"dash\":\"solid\",\"shape\":\"linear\",\"width\":1.3},\"mode\":\"lines\",\"name\":\"D92\",\"text\":\"\",\"x\":[480,96,12,1],\"y\":[3.37,4.06,4.54,4.33],\"type\":\"scatter\"},{\"line\":{\"color\":\"rgba(0, 128, 128, 0.5333333333333334)\",\"dash\":\"solid\",\"shape\":\"linear\",\"width\":1.3},\"mode\":\"lines\",\"name\":\"D91\",\"text\":\"\",\"x\":[480,96,12,1],\"y\":[3.39,4.09,4.55,4.33],\"type\":\"scatter\"},{\"line\":{\"color\":\"rgba(0, 128, 128, 0.5)\",\"dash\":\"solid\",\"shape\":\"linear\",\"width\":1.3},\"mode\":\"lines\",\"name\":\"D90\",\"text\":\"\",\"x\":[480,96,12,1],\"y\":[3.48,4.14,4.57,4.33],\"type\":\"scatter\"},{\"line\":{\"color\":\"rgba(255, 255, 51, 0.5)\",\"dash\":\"solid\",\"shape\":\"linear\",\"width\":1.3},\"mode\":\"lines\",\"name\":\"D89\",\"text\":\"\",\"x\":[480,96,12,1],\"y\":[3.52,4.21,4.58,4.33],\"type\":\"scatter\"},{\"line\":{\"color\":\"rgba(128, 128, 0, 0.5)\",\"dash\":\"solid\",\"shape\":\"linear\",\"width\":1.3},\"mode\":\"lines\",\"name\":\"D88\",\"text\":\"\",\"x\":[480,96,12,1],\"y\":[3.46,4.12,4.57,4.33],\"type\":\"scatter\"},{\"line\":{\"color\":\"rgba(251, 128, 114, 0.5)\",\"dash\":\"solid\",\"shape\":\"linear\",\"width\":1.3},\"mode\":\"lines\",\"name\":\"D87\",\"text\":\"\",\"x\":[480,96,12,1],\"y\":[3.46,4.11,4.56,4.33],\"type\":\"scatter\"},{\"line\":{\"color\":\"rgba(128, 177, 211, 0.5)\",\"dash\":\"solid\",\"shape\":\"linear\",\"width\":1.3},\"mode\":\"lines\",\"name\":\"D86\",\"text\":\"\",\"x\":[480,96,12,1],\"y\":[3.49,4.17,4.55,4.33],\"type\":\"scatter\"},{\"line\":{\"color\":\"rgba(255, 153, 51, 0.5)\",\"dash\":\"solid\",\"shape\":\"linear\",\"width\":1.3},\"mode\":\"lines\",\"name\":\"D85\",\"text\":\"\",\"x\":[480,96,12,1],\"y\":[3.52,4.19,4.57,4.33],\"type\":\"scatter\"},{\"line\":{\"color\":\"rgba(55, 128, 191, 0.5)\",\"dash\":\"solid\",\"shape\":\"linear\",\"width\":1.3},\"mode\":\"lines\",\"name\":\"D84\",\"text\":\"\",\"x\":[480,96,12,1],\"y\":[3.55,4.25,4.59,4.33],\"type\":\"scatter\"},{\"line\":{\"color\":\"rgba(50, 171, 96, 0.5)\",\"dash\":\"solid\",\"shape\":\"linear\",\"width\":1.3},\"mode\":\"lines\",\"name\":\"D83\",\"text\":\"\",\"x\":[480,96,12,1],\"y\":[3.52,4.21,4.58,4.33],\"type\":\"scatter\"},{\"line\":{\"color\":\"rgba(128, 0, 128, 0.5)\",\"dash\":\"solid\",\"shape\":\"linear\",\"width\":1.3},\"mode\":\"lines\",\"name\":\"D82\",\"text\":\"\",\"x\":[480,96,12,1],\"y\":[3.39,4.09,4.54,4.33],\"type\":\"scatter\"},{\"line\":{\"color\":\"rgba(219, 64, 82, 0.5)\",\"dash\":\"solid\",\"shape\":\"linear\",\"width\":1.3},\"mode\":\"lines\",\"name\":\"D81\",\"text\":\"\",\"x\":[480,96,12,1],\"y\":[3.4,4.09,4.53,4.58],\"type\":\"scatter\"},{\"line\":{\"color\":\"rgba(219, 64, 82, 0.46666666666666684)\",\"dash\":\"solid\",\"shape\":\"linear\",\"width\":1.3},\"mode\":\"lines\",\"name\":\"D80\",\"text\":\"\",\"x\":[480,96,12,1],\"y\":[3.53,4.3,4.57,4.58],\"type\":\"scatter\"},{\"line\":{\"color\":\"rgba(0, 128, 128, 0.46666666666666684)\",\"dash\":\"solid\",\"shape\":\"linear\",\"width\":1.3},\"mode\":\"lines\",\"name\":\"D79\",\"text\":\"\",\"x\":[480,96,12,1],\"y\":[3.63,4.44,4.59,4.58],\"type\":\"scatter\"},{\"line\":{\"color\":\"rgba(255, 255, 51, 0.46666666666666684)\",\"dash\":\"solid\",\"shape\":\"linear\",\"width\":1.3},\"mode\":\"lines\",\"name\":\"D78\",\"text\":\"\",\"x\":[480,96,12,1],\"y\":[3.67,4.47,4.59,4.58],\"type\":\"scatter\"},{\"line\":{\"color\":\"rgba(128, 128, 0, 0.46666666666666684)\",\"dash\":\"solid\",\"shape\":\"linear\",\"width\":1.3},\"mode\":\"lines\",\"name\":\"D77\",\"text\":\"\",\"x\":[480,96,12,1],\"y\":[3.63,4.45,4.59,4.58],\"type\":\"scatter\"},{\"line\":{\"color\":\"rgba(251, 128, 114, 0.46666666666666684)\",\"dash\":\"solid\",\"shape\":\"linear\",\"width\":1.3},\"mode\":\"lines\",\"name\":\"D76\",\"text\":\"\",\"x\":[480,96,12,1],\"y\":[3.67,4.48,4.64,4.57],\"type\":\"scatter\"},{\"line\":{\"color\":\"rgba(128, 177, 211, 0.46666666666666684)\",\"dash\":\"solid\",\"shape\":\"linear\",\"width\":1.3},\"mode\":\"lines\",\"name\":\"D75\",\"text\":\"\",\"x\":[480,96,12,1],\"y\":[3.74,4.5,4.66,4.58],\"type\":\"scatter\"},{\"line\":{\"color\":\"rgba(255, 153, 51, 0.46666666666666684)\",\"dash\":\"solid\",\"shape\":\"linear\",\"width\":1.3},\"mode\":\"lines\",\"name\":\"D74\",\"text\":\"\",\"x\":[480,96,12,1],\"y\":[3.72,4.52,4.68,4.58],\"type\":\"scatter\"},{\"line\":{\"color\":\"rgba(55, 128, 191, 0.46666666666666684)\",\"dash\":\"solid\",\"shape\":\"linear\",\"width\":1.3},\"mode\":\"lines\",\"name\":\"D73\",\"text\":\"\",\"x\":[480,96,12,1],\"y\":[3.77,4.6,4.67,4.58],\"type\":\"scatter\"},{\"line\":{\"color\":\"rgba(50, 171, 96, 0.46666666666666684)\",\"dash\":\"solid\",\"shape\":\"linear\",\"width\":1.3},\"mode\":\"lines\",\"name\":\"D72\",\"text\":\"\",\"x\":[480,96,12,1],\"y\":[3.81,4.62,4.66,4.58],\"type\":\"scatter\"},{\"line\":{\"color\":\"rgba(128, 0, 128, 0.46666666666666684)\",\"dash\":\"solid\",\"shape\":\"linear\",\"width\":1.3},\"mode\":\"lines\",\"name\":\"D71\",\"text\":\"\",\"x\":[480,96,12,1],\"y\":[3.86,4.62,4.7,4.58],\"type\":\"scatter\"},{\"line\":{\"color\":\"rgba(128, 0, 128, 0.4333333333333334)\",\"dash\":\"solid\",\"shape\":\"linear\",\"width\":1.3},\"mode\":\"lines\",\"name\":\"D70\",\"text\":\"\",\"x\":[480,96,12,1],\"y\":[3.82,4.6,4.7,4.58],\"type\":\"scatter\"},{\"line\":{\"color\":\"rgba(219, 64, 82, 0.4333333333333334)\",\"dash\":\"solid\",\"shape\":\"linear\",\"width\":1.3},\"mode\":\"lines\",\"name\":\"D69\",\"text\":\"\",\"x\":[480,96,12,1],\"y\":[3.95,4.67,4.72,4.58],\"type\":\"scatter\"},{\"line\":{\"color\":\"rgba(0, 128, 128, 0.4333333333333334)\",\"dash\":\"solid\",\"shape\":\"linear\",\"width\":1.3},\"mode\":\"lines\",\"name\":\"D68\",\"text\":\"\",\"x\":[480,96,12,1],\"y\":[3.93,4.66,4.71,4.58],\"type\":\"scatter\"},{\"line\":{\"color\":\"rgba(255, 255, 51, 0.4333333333333334)\",\"dash\":\"solid\",\"shape\":\"linear\",\"width\":1.3},\"mode\":\"lines\",\"name\":\"D67\",\"text\":\"\",\"x\":[480,96,12,1],\"y\":[3.88,4.66,4.71,4.58],\"type\":\"scatter\"},{\"line\":{\"color\":\"rgba(128, 128, 0, 0.4333333333333334)\",\"dash\":\"solid\",\"shape\":\"linear\",\"width\":1.3},\"mode\":\"lines\",\"name\":\"D66\",\"text\":\"\",\"x\":[480,96,12,1],\"y\":[3.95,4.78,4.72,4.58],\"type\":\"scatter\"},{\"line\":{\"color\":\"rgba(251, 128, 114, 0.4333333333333334)\",\"dash\":\"solid\",\"shape\":\"linear\",\"width\":1.3},\"mode\":\"lines\",\"name\":\"D65\",\"text\":\"\",\"x\":[480,96,12,1],\"y\":[3.92,4.78,4.74,4.57],\"type\":\"scatter\"},{\"line\":{\"color\":\"rgba(128, 177, 211, 0.4333333333333334)\",\"dash\":\"solid\",\"shape\":\"linear\",\"width\":1.3},\"mode\":\"lines\",\"name\":\"D64\",\"text\":\"\",\"x\":[480,96,12,1],\"y\":[3.92,4.81,4.72,4.57],\"type\":\"scatter\"},{\"line\":{\"color\":\"rgba(255, 153, 51, 0.4333333333333334)\",\"dash\":\"solid\",\"shape\":\"linear\",\"width\":1.3},\"mode\":\"lines\",\"name\":\"D63\",\"text\":\"\",\"x\":[480,96,12,1],\"y\":[4.01,4.89,4.73,4.58],\"type\":\"scatter\"},{\"line\":{\"color\":\"rgba(55, 128, 191, 0.4333333333333334)\",\"dash\":\"solid\",\"shape\":\"linear\",\"width\":1.3},\"mode\":\"lines\",\"name\":\"D62\",\"text\":\"\",\"x\":[480,96,12,1],\"y\":[4.08,4.89,4.74,4.57],\"type\":\"scatter\"},{\"line\":{\"color\":\"rgba(50, 171, 96, 0.4333333333333334)\",\"dash\":\"solid\",\"shape\":\"linear\",\"width\":1.3},\"mode\":\"lines\",\"name\":\"D61\",\"text\":\"\",\"x\":[480,96,12,1],\"y\":[3.97,4.86,4.74,4.57],\"type\":\"scatter\"},{\"line\":{\"color\":\"rgba(50, 171, 96, 0.4000000000000002)\",\"dash\":\"solid\",\"shape\":\"linear\",\"width\":1.3},\"mode\":\"lines\",\"name\":\"D60\",\"text\":\"\",\"x\":[480,96,12,1],\"y\":[3.98,4.89,4.76,4.57],\"type\":\"scatter\"},{\"line\":{\"color\":\"rgba(128, 0, 128, 0.4000000000000002)\",\"dash\":\"solid\",\"shape\":\"linear\",\"width\":1.3},\"mode\":\"lines\",\"name\":\"D59\",\"text\":\"\",\"x\":[480,96,12,1],\"y\":[3.97,5.0,4.87,4.57],\"type\":\"scatter\"},{\"line\":{\"color\":\"rgba(219, 64, 82, 0.4000000000000002)\",\"dash\":\"solid\",\"shape\":\"linear\",\"width\":1.3},\"mode\":\"lines\",\"name\":\"D58\",\"text\":\"\",\"x\":[480,96,12,1],\"y\":[3.98,5.05,4.89,4.57],\"type\":\"scatter\"},{\"line\":{\"color\":\"rgba(0, 128, 128, 0.4000000000000002)\",\"dash\":\"solid\",\"shape\":\"linear\",\"width\":1.3},\"mode\":\"lines\",\"name\":\"D57\",\"text\":\"\",\"x\":[480,96,12,1],\"y\":[3.93,4.9,4.87,4.57],\"type\":\"scatter\"},{\"line\":{\"color\":\"rgba(255, 255, 51, 0.4000000000000002)\",\"dash\":\"solid\",\"shape\":\"linear\",\"width\":1.3},\"mode\":\"lines\",\"name\":\"D56\",\"text\":\"\",\"x\":[480,96,12,1],\"y\":[3.7,4.6,4.83,4.57],\"type\":\"scatter\"},{\"line\":{\"color\":\"rgba(128, 128, 0, 0.4000000000000002)\",\"dash\":\"solid\",\"shape\":\"linear\",\"width\":1.3},\"mode\":\"lines\",\"name\":\"D55\",\"text\":\"\",\"x\":[480,96,12,1],\"y\":[3.55,4.03,4.7,4.58],\"type\":\"scatter\"},{\"line\":{\"color\":\"rgba(251, 128, 114, 0.4000000000000002)\",\"dash\":\"solid\",\"shape\":\"linear\",\"width\":1.3},\"mode\":\"lines\",\"name\":\"D54\",\"text\":\"\",\"x\":[480,96,12,1],\"y\":[3.64,4.2,4.71,4.58],\"type\":\"scatter\"},{\"line\":{\"color\":\"rgba(128, 177, 211, 0.4000000000000002)\",\"dash\":\"solid\",\"shape\":\"linear\",\"width\":1.3},\"mode\":\"lines\",\"name\":\"D53\",\"text\":\"\",\"x\":[480,96,12,1],\"y\":[3.51,3.93,4.59,4.58],\"type\":\"scatter\"},{\"line\":{\"color\":\"rgba(255, 153, 51, 0.4000000000000002)\",\"dash\":\"solid\",\"shape\":\"linear\",\"width\":1.3},\"mode\":\"lines\",\"name\":\"D52\",\"text\":\"\",\"x\":[480,96,12,1],\"y\":[3.56,4.14,4.57,4.58],\"type\":\"scatter\"},{\"line\":{\"color\":\"rgba(55, 128, 191, 0.4000000000000002)\",\"dash\":\"solid\",\"shape\":\"linear\",\"width\":1.3},\"mode\":\"lines\",\"name\":\"D51\",\"text\":\"\",\"x\":[480,96,12,1],\"y\":[3.39,3.81,4.36,4.58],\"type\":\"scatter\"},{\"line\":{\"color\":\"rgba(55, 128, 191, 0.36666666666666675)\",\"dash\":\"solid\",\"shape\":\"linear\",\"width\":1.3},\"mode\":\"lines\",\"name\":\"D50\",\"text\":\"\",\"x\":[480,96,12,1],\"y\":[3.47,3.92,4.65,4.58],\"type\":\"scatter\"},{\"line\":{\"color\":\"rgba(50, 171, 96, 0.36666666666666675)\",\"dash\":\"solid\",\"shape\":\"linear\",\"width\":1.3},\"mode\":\"lines\",\"name\":\"D49\",\"text\":\"\",\"x\":[480,96,12,1],\"y\":[3.59,4.17,4.62,4.58],\"type\":\"scatter\"},{\"line\":{\"color\":\"rgba(128, 0, 128, 0.36666666666666675)\",\"dash\":\"solid\",\"shape\":\"linear\",\"width\":1.3},\"mode\":\"lines\",\"name\":\"D48\",\"text\":\"\",\"x\":[480,96,12,1],\"y\":[3.48,3.96,4.63,4.58],\"type\":\"scatter\"},{\"line\":{\"color\":\"rgba(219, 64, 82, 0.36666666666666675)\",\"dash\":\"solid\",\"shape\":\"linear\",\"width\":1.3},\"mode\":\"lines\",\"name\":\"D47\",\"text\":\"\",\"x\":[480,96,12,1],\"y\":[3.38,3.76,4.57,4.83],\"type\":\"scatter\"},{\"line\":{\"color\":\"rgba(0, 128, 128, 0.36666666666666675)\",\"dash\":\"solid\",\"shape\":\"linear\",\"width\":1.3},\"mode\":\"lines\",\"name\":\"D46\",\"text\":\"\",\"x\":[480,96,12,1],\"y\":[3.38,3.76,4.57,4.83],\"type\":\"scatter\"},{\"line\":{\"color\":\"rgba(255, 255, 51, 0.36666666666666675)\",\"dash\":\"solid\",\"shape\":\"linear\",\"width\":1.3},\"mode\":\"lines\",\"name\":\"D45\",\"text\":\"\",\"x\":[480,96,12,1],\"y\":[3.53,3.94,4.75,4.83],\"type\":\"scatter\"},{\"line\":{\"color\":\"rgba(128, 128, 0, 0.36666666666666675)\",\"dash\":\"solid\",\"shape\":\"linear\",\"width\":1.3},\"mode\":\"lines\",\"name\":\"D44\",\"text\":\"\",\"x\":[480,96,12,1],\"y\":[3.55,4.02,4.64,4.83],\"type\":\"scatter\"},{\"line\":{\"color\":\"rgba(251, 128, 114, 0.36666666666666675)\",\"dash\":\"solid\",\"shape\":\"linear\",\"width\":1.3},\"mode\":\"lines\",\"name\":\"D43\",\"text\":\"\",\"x\":[480,96,12,1],\"y\":[3.57,4.08,4.64,4.83],\"type\":\"scatter\"},{\"line\":{\"color\":\"rgba(128, 177, 211, 0.36666666666666675)\",\"dash\":\"solid\",\"shape\":\"linear\",\"width\":1.3},\"mode\":\"lines\",\"name\":\"D42\",\"text\":\"\",\"x\":[480,96,12,1],\"y\":[3.55,4.1,4.8,4.83],\"type\":\"scatter\"},{\"line\":{\"color\":\"rgba(255, 153, 51, 0.36666666666666675)\",\"dash\":\"solid\",\"shape\":\"linear\",\"width\":1.3},\"mode\":\"lines\",\"name\":\"D41\",\"text\":\"\",\"x\":[480,96,12,1],\"y\":[3.48,4.06,4.68,4.83],\"type\":\"scatter\"},{\"line\":{\"color\":\"rgba(255, 153, 51, 0.33333333333333354)\",\"dash\":\"solid\",\"shape\":\"linear\",\"width\":1.3},\"mode\":\"lines\",\"name\":\"D40\",\"text\":\"\",\"x\":[480,96,12,1],\"y\":[3.43,3.97,4.77,4.83],\"type\":\"scatter\"},{\"line\":{\"color\":\"rgba(55, 128, 191, 0.33333333333333354)\",\"dash\":\"solid\",\"shape\":\"linear\",\"width\":1.3},\"mode\":\"lines\",\"name\":\"D39\",\"text\":\"\",\"x\":[480,96,12,1],\"y\":[3.35,3.84,4.74,4.83],\"type\":\"scatter\"},{\"line\":{\"color\":\"rgba(50, 171, 96, 0.33333333333333354)\",\"dash\":\"solid\",\"shape\":\"linear\",\"width\":1.3},\"mode\":\"lines\",\"name\":\"D38\",\"text\":\"\",\"x\":[480,96,12,1],\"y\":[3.3,3.79,4.72,4.83],\"type\":\"scatter\"},{\"line\":{\"color\":\"rgba(128, 0, 128, 0.33333333333333354)\",\"dash\":\"solid\",\"shape\":\"linear\",\"width\":1.3},\"mode\":\"lines\",\"name\":\"D37\",\"text\":\"\",\"x\":[480,96,12,1],\"y\":[3.3,3.82,4.77,4.83],\"type\":\"scatter\"},{\"line\":{\"color\":\"rgba(219, 64, 82, 0.33333333333333354)\",\"dash\":\"solid\",\"shape\":\"linear\",\"width\":1.3},\"mode\":\"lines\",\"name\":\"D36\",\"text\":\"\",\"x\":[480,96,12,1],\"y\":[3.39,3.97,4.81,4.83],\"type\":\"scatter\"},{\"line\":{\"color\":\"rgba(0, 128, 128, 0.33333333333333354)\",\"dash\":\"solid\",\"shape\":\"linear\",\"width\":1.3},\"mode\":\"lines\",\"name\":\"D35\",\"text\":\"\",\"x\":[480,96,12,1],\"y\":[3.41,4.0,4.94,4.83],\"type\":\"scatter\"},{\"line\":{\"color\":\"rgba(255, 255, 51, 0.33333333333333354)\",\"dash\":\"solid\",\"shape\":\"linear\",\"width\":1.3},\"mode\":\"lines\",\"name\":\"D34\",\"text\":\"\",\"x\":[480,96,12,1],\"y\":[3.43,4.03,4.89,4.83],\"type\":\"scatter\"},{\"line\":{\"color\":\"rgba(128, 128, 0, 0.33333333333333354)\",\"dash\":\"solid\",\"shape\":\"linear\",\"width\":1.3},\"mode\":\"lines\",\"name\":\"D33\",\"text\":\"\",\"x\":[480,96,12,1],\"y\":[3.41,3.95,4.87,4.83],\"type\":\"scatter\"},{\"line\":{\"color\":\"rgba(251, 128, 114, 0.33333333333333354)\",\"dash\":\"solid\",\"shape\":\"linear\",\"width\":1.3},\"mode\":\"lines\",\"name\":\"D32\",\"text\":\"\",\"x\":[480,96,12,1],\"y\":[3.45,3.96,4.95,4.83],\"type\":\"scatter\"},{\"line\":{\"color\":\"rgba(128, 177, 211, 0.33333333333333354)\",\"dash\":\"solid\",\"shape\":\"linear\",\"width\":1.3},\"mode\":\"lines\",\"name\":\"D31\",\"text\":\"\",\"x\":[480,96,12,1],\"y\":[3.52,4.08,4.98,4.83],\"type\":\"scatter\"},{\"line\":{\"color\":\"rgba(128, 177, 211, 0.3000000000000001)\",\"dash\":\"solid\",\"shape\":\"linear\",\"width\":1.3},\"mode\":\"lines\",\"name\":\"D30\",\"text\":\"\",\"x\":[480,96,12,1],\"y\":[3.6,4.18,5.06,4.83],\"type\":\"scatter\"},{\"line\":{\"color\":\"rgba(255, 153, 51, 0.3000000000000001)\",\"dash\":\"solid\",\"shape\":\"linear\",\"width\":1.3},\"mode\":\"lines\",\"name\":\"D29\",\"text\":\"\",\"x\":[480,96,12,1],\"y\":[3.58,4.19,5.04,4.83],\"type\":\"scatter\"},{\"line\":{\"color\":\"rgba(55, 128, 191, 0.3000000000000001)\",\"dash\":\"solid\",\"shape\":\"linear\",\"width\":1.3},\"mode\":\"lines\",\"name\":\"D28\",\"text\":\"\",\"x\":[480,96,12,1],\"y\":[3.6,4.24,5.01,4.83],\"type\":\"scatter\"},{\"line\":{\"color\":\"rgba(50, 171, 96, 0.3000000000000001)\",\"dash\":\"solid\",\"shape\":\"linear\",\"width\":1.3},\"mode\":\"lines\",\"name\":\"D27\",\"text\":\"\",\"x\":[480,96,12,1],\"y\":[3.54,4.14,4.97,4.83],\"type\":\"scatter\"},{\"line\":{\"color\":\"rgba(128, 0, 128, 0.3000000000000001)\",\"dash\":\"solid\",\"shape\":\"linear\",\"width\":1.3},\"mode\":\"lines\",\"name\":\"D26\",\"text\":\"\",\"x\":[480,96,12,1],\"y\":[3.57,4.17,4.98,4.83],\"type\":\"scatter\"},{\"line\":{\"color\":\"rgba(219, 64, 82, 0.3000000000000001)\",\"dash\":\"solid\",\"shape\":\"linear\",\"width\":1.3},\"mode\":\"lines\",\"name\":\"D25\",\"text\":\"\",\"x\":[480,96,12,1],\"y\":[3.52,4.12,5.04,4.83],\"type\":\"scatter\"},{\"line\":{\"color\":\"rgba(0, 128, 128, 0.3000000000000001)\",\"dash\":\"solid\",\"shape\":\"linear\",\"width\":1.3},\"mode\":\"lines\",\"name\":\"D24\",\"text\":\"\",\"x\":[480,96,12,1],\"y\":[3.4,3.86,4.97,4.83],\"type\":\"scatter\"},{\"line\":{\"color\":\"rgba(255, 255, 51, 0.3000000000000001)\",\"dash\":\"solid\",\"shape\":\"linear\",\"width\":1.3},\"mode\":\"lines\",\"name\":\"D23\",\"text\":\"\",\"x\":[480,96,12,1],\"y\":[3.43,3.9,5.0,4.83],\"type\":\"scatter\"},{\"line\":{\"color\":\"rgba(128, 128, 0, 0.3000000000000001)\",\"dash\":\"solid\",\"shape\":\"linear\",\"width\":1.3},\"mode\":\"lines\",\"name\":\"D22\",\"text\":\"\",\"x\":[480,96,12,1],\"y\":[3.53,4.07,5.03,4.83],\"type\":\"scatter\"},{\"line\":{\"color\":\"rgba(251, 128, 114, 0.3000000000000001)\",\"dash\":\"solid\",\"shape\":\"linear\",\"width\":1.3},\"mode\":\"lines\",\"name\":\"D21\",\"text\":\"\",\"x\":[480,96,12,1],\"y\":[3.44,4.04,4.95,4.83],\"type\":\"scatter\"},{\"line\":{\"color\":\"rgba(251, 128, 114, 0.2666666666666669)\",\"dash\":\"solid\",\"shape\":\"linear\",\"width\":1.3},\"mode\":\"lines\",\"name\":\"D20\",\"text\":\"\",\"x\":[480,96,12,1],\"y\":[3.59,4.14,5.1,4.83],\"type\":\"scatter\"},{\"line\":{\"color\":\"rgba(128, 177, 211, 0.2666666666666669)\",\"dash\":\"solid\",\"shape\":\"linear\",\"width\":1.3},\"mode\":\"lines\",\"name\":\"D19\",\"text\":\"\",\"x\":[480,96,12,1],\"y\":[3.44,3.97,5.08,4.83],\"type\":\"scatter\"},{\"line\":{\"color\":\"rgba(255, 153, 51, 0.2666666666666669)\",\"dash\":\"solid\",\"shape\":\"linear\",\"width\":1.3},\"mode\":\"lines\",\"name\":\"D18\",\"text\":\"\",\"x\":[480,96,12,1],\"y\":[3.38,3.89,5.09,4.83],\"type\":\"scatter\"},{\"line\":{\"color\":\"rgba(55, 128, 191, 0.2666666666666669)\",\"dash\":\"solid\",\"shape\":\"linear\",\"width\":1.3},\"mode\":\"lines\",\"name\":\"D17\",\"text\":\"\",\"x\":[480,96,12,1],\"y\":[3.37,3.75,5.1,5.08],\"type\":\"scatter\"},{\"line\":{\"color\":\"rgba(50, 171, 96, 0.2666666666666669)\",\"dash\":\"solid\",\"shape\":\"linear\",\"width\":1.3},\"mode\":\"lines\",\"name\":\"D16\",\"text\":\"\",\"x\":[480,96,12,1],\"y\":[3.44,3.92,5.1,5.08],\"type\":\"scatter\"},{\"line\":{\"color\":\"rgba(128, 0, 128, 0.2666666666666669)\",\"dash\":\"solid\",\"shape\":\"linear\",\"width\":1.3},\"mode\":\"lines\",\"name\":\"D15\",\"text\":\"\",\"x\":[480,96,12,1],\"y\":[3.52,4.0,5.15,5.08],\"type\":\"scatter\"},{\"line\":{\"color\":\"rgba(219, 64, 82, 0.2666666666666669)\",\"dash\":\"solid\",\"shape\":\"linear\",\"width\":1.3},\"mode\":\"lines\",\"name\":\"D14\",\"text\":\"\",\"x\":[480,96,12,1],\"y\":[3.53,4.01,5.13,5.08],\"type\":\"scatter\"},{\"line\":{\"color\":\"rgba(0, 128, 128, 0.2666666666666669)\",\"dash\":\"solid\",\"shape\":\"linear\",\"width\":1.3},\"mode\":\"lines\",\"name\":\"D13\",\"text\":\"\",\"x\":[480,96,12,1],\"y\":[3.43,3.9,5.08,5.08],\"type\":\"scatter\"},{\"line\":{\"color\":\"rgba(255, 255, 51, 0.2666666666666669)\",\"dash\":\"solid\",\"shape\":\"linear\",\"width\":1.3},\"mode\":\"lines\",\"name\":\"D12\",\"text\":\"\",\"x\":[480,96,12,1],\"y\":[3.39,3.89,5.04,5.08],\"type\":\"scatter\"},{\"line\":{\"color\":\"rgba(128, 128, 0, 0.2666666666666669)\",\"dash\":\"solid\",\"shape\":\"linear\",\"width\":1.3},\"mode\":\"lines\",\"name\":\"D11\",\"text\":\"\",\"x\":[480,96,12,1],\"y\":[3.46,3.98,5.08,5.08],\"type\":\"scatter\"},{\"line\":{\"color\":\"rgba(128, 128, 0, 0.23333333333333345)\",\"dash\":\"solid\",\"shape\":\"linear\",\"width\":1.3},\"mode\":\"lines\",\"name\":\"D10\",\"text\":\"\",\"x\":[480,96,12,1],\"y\":[3.5,3.99,5.06,5.08],\"type\":\"scatter\"},{\"line\":{\"color\":\"rgba(251, 128, 114, 0.23333333333333345)\",\"dash\":\"solid\",\"shape\":\"linear\",\"width\":1.3},\"mode\":\"lines\",\"name\":\"D9\",\"text\":\"\",\"x\":[480,96,12,1],\"y\":[3.54,4.06,5.07,5.08],\"type\":\"scatter\"},{\"line\":{\"color\":\"rgba(128, 177, 211, 0.23333333333333345)\",\"dash\":\"solid\",\"shape\":\"linear\",\"width\":1.3},\"mode\":\"lines\",\"name\":\"D8\",\"text\":\"\",\"x\":[480,96,12,1],\"y\":[3.57,4.12,5.1,5.08],\"type\":\"scatter\"},{\"line\":{\"color\":\"rgba(255, 153, 51, 0.23333333333333345)\",\"dash\":\"solid\",\"shape\":\"linear\",\"width\":1.3},\"mode\":\"lines\",\"name\":\"D7\",\"text\":\"\",\"x\":[480,96,12,1],\"y\":[3.65,4.24,5.14,5.08],\"type\":\"scatter\"},{\"line\":{\"color\":\"rgba(55, 128, 191, 0.23333333333333345)\",\"dash\":\"solid\",\"shape\":\"linear\",\"width\":1.3},\"mode\":\"lines\",\"name\":\"D6\",\"text\":\"\",\"x\":[480,96,12,1],\"y\":[3.7,4.28,5.12,5.08],\"type\":\"scatter\"},{\"line\":{\"color\":\"rgba(50, 171, 96, 0.23333333333333345)\",\"dash\":\"solid\",\"shape\":\"linear\",\"width\":1.3},\"mode\":\"lines\",\"name\":\"D5\",\"text\":\"\",\"x\":[480,96,12,1],\"y\":[3.72,4.29,5.24,5.08],\"type\":\"scatter\"},{\"line\":{\"color\":\"rgba(128, 0, 128, 0.23333333333333345)\",\"dash\":\"solid\",\"shape\":\"linear\",\"width\":1.3},\"mode\":\"lines\",\"name\":\"D4\",\"text\":\"\",\"x\":[480,96,12,1],\"y\":[3.7,4.26,5.18,5.08],\"type\":\"scatter\"},{\"line\":{\"color\":\"rgba(219, 64, 82, 0.23333333333333345)\",\"dash\":\"solid\",\"shape\":\"linear\",\"width\":1.3},\"mode\":\"lines\",\"name\":\"D3\",\"text\":\"\",\"x\":[480,96,12,1],\"y\":[3.73,4.31,5.21,5.08],\"type\":\"scatter\"},{\"line\":{\"color\":\"rgba(0, 128, 128, 0.23333333333333345)\",\"dash\":\"solid\",\"shape\":\"linear\",\"width\":1.3},\"mode\":\"lines\",\"name\":\"D2\",\"text\":\"\",\"x\":[480,96,12,1],\"y\":[3.83,4.5,5.21,5.08],\"type\":\"scatter\"},{\"line\":{\"color\":\"rgba(255, 255, 51, 0.23333333333333345)\",\"dash\":\"solid\",\"shape\":\"linear\",\"width\":1.3},\"mode\":\"lines\",\"name\":\"D1\",\"text\":\"\",\"x\":[480,96,12,1],\"y\":[3.8,4.54,5.16,5.08],\"type\":\"scatter\"}],                        {\"legend\":{\"bgcolor\":\"#1A1A1C\",\"font\":{\"color\":\"#D9D9D9\"}},\"paper_bgcolor\":\"#1A1A1C\",\"plot_bgcolor\":\"#1A1A1C\",\"template\":{\"data\":{\"barpolar\":[{\"marker\":{\"line\":{\"color\":\"rgb(17,17,17)\",\"width\":0.5},\"pattern\":{\"fillmode\":\"overlay\",\"size\":10,\"solidity\":0.2}},\"type\":\"barpolar\"}],\"bar\":[{\"error_x\":{\"color\":\"#f2f5fa\"},\"error_y\":{\"color\":\"#f2f5fa\"},\"marker\":{\"line\":{\"color\":\"rgb(17,17,17)\",\"width\":0.5},\"pattern\":{\"fillmode\":\"overlay\",\"size\":10,\"solidity\":0.2}},\"type\":\"bar\"}],\"candlestick\":[{\"decreasing\":{\"fillcolor\":\"#e4003a\",\"line\":{\"color\":\"#e4003a\"}},\"increasing\":{\"fillcolor\":\"#00ACFF\",\"line\":{\"color\":\"#00ACFF\"}},\"type\":\"candlestick\"}],\"carpet\":[{\"aaxis\":{\"endlinecolor\":\"#A2B1C6\",\"gridcolor\":\"#506784\",\"linecolor\":\"#506784\",\"minorgridcolor\":\"#506784\",\"startlinecolor\":\"#A2B1C6\"},\"baxis\":{\"endlinecolor\":\"#A2B1C6\",\"gridcolor\":\"#506784\",\"linecolor\":\"#506784\",\"minorgridcolor\":\"#506784\",\"startlinecolor\":\"#A2B1C6\"},\"type\":\"carpet\"}],\"choropleth\":[{\"colorbar\":{\"outlinewidth\":0,\"ticks\":\"\"},\"type\":\"choropleth\"}],\"contourcarpet\":[{\"colorbar\":{\"outlinewidth\":0,\"ticks\":\"\"},\"type\":\"contourcarpet\"}],\"contour\":[{\"colorbar\":{\"outlinewidth\":0,\"ticks\":\"\"},\"colorscale\":[[0.0,\"#0d0887\"],[0.1111111111111111,\"#46039f\"],[0.2222222222222222,\"#7201a8\"],[0.3333333333333333,\"#9c179e\"],[0.4444444444444444,\"#bd3786\"],[0.5555555555555556,\"#d8576b\"],[0.6666666666666666,\"#ed7953\"],[0.7777777777777778,\"#fb9f3a\"],[0.8888888888888888,\"#fdca26\"],[1.0,\"#f0f921\"]],\"type\":\"contour\"}],\"heatmapgl\":[{\"colorbar\":{\"outlinewidth\":0,\"ticks\":\"\"},\"colorscale\":[[0.0,\"#0d0887\"],[0.1111111111111111,\"#46039f\"],[0.2222222222222222,\"#7201a8\"],[0.3333333333333333,\"#9c179e\"],[0.4444444444444444,\"#bd3786\"],[0.5555555555555556,\"#d8576b\"],[0.6666666666666666,\"#ed7953\"],[0.7777777777777778,\"#fb9f3a\"],[0.8888888888888888,\"#fdca26\"],[1.0,\"#f0f921\"]],\"type\":\"heatmapgl\"}],\"heatmap\":[{\"colorbar\":{\"outlinewidth\":0,\"ticks\":\"\"},\"colorscale\":[[0.0,\"#0d0887\"],[0.1111111111111111,\"#46039f\"],[0.2222222222222222,\"#7201a8\"],[0.3333333333333333,\"#9c179e\"],[0.4444444444444444,\"#bd3786\"],[0.5555555555555556,\"#d8576b\"],[0.6666666666666666,\"#ed7953\"],[0.7777777777777778,\"#fb9f3a\"],[0.8888888888888888,\"#fdca26\"],[1.0,\"#f0f921\"]],\"type\":\"heatmap\"}],\"histogram2dcontour\":[{\"colorbar\":{\"outlinewidth\":0,\"ticks\":\"\"},\"colorscale\":[[0.0,\"#0d0887\"],[0.1111111111111111,\"#46039f\"],[0.2222222222222222,\"#7201a8\"],[0.3333333333333333,\"#9c179e\"],[0.4444444444444444,\"#bd3786\"],[0.5555555555555556,\"#d8576b\"],[0.6666666666666666,\"#ed7953\"],[0.7777777777777778,\"#fb9f3a\"],[0.8888888888888888,\"#fdca26\"],[1.0,\"#f0f921\"]],\"type\":\"histogram2dcontour\"}],\"histogram2d\":[{\"colorbar\":{\"outlinewidth\":0,\"ticks\":\"\"},\"colorscale\":[[0.0,\"#0d0887\"],[0.1111111111111111,\"#46039f\"],[0.2222222222222222,\"#7201a8\"],[0.3333333333333333,\"#9c179e\"],[0.4444444444444444,\"#bd3786\"],[0.5555555555555556,\"#d8576b\"],[0.6666666666666666,\"#ed7953\"],[0.7777777777777778,\"#fb9f3a\"],[0.8888888888888888,\"#fdca26\"],[1.0,\"#f0f921\"]],\"type\":\"histogram2d\"}],\"histogram\":[{\"marker\":{\"pattern\":{\"fillmode\":\"overlay\",\"size\":10,\"solidity\":0.2}},\"type\":\"histogram\"}],\"mesh3d\":[{\"colorbar\":{\"outlinewidth\":0,\"ticks\":\"\"},\"type\":\"mesh3d\"}],\"parcoords\":[{\"line\":{\"colorbar\":{\"outlinewidth\":0,\"ticks\":\"\"}},\"type\":\"parcoords\"}],\"pie\":[{\"automargin\":true,\"type\":\"pie\"}],\"scatter3d\":[{\"line\":{\"colorbar\":{\"outlinewidth\":0,\"ticks\":\"\"}},\"marker\":{\"colorbar\":{\"outlinewidth\":0,\"ticks\":\"\"}},\"type\":\"scatter3d\"}],\"scattercarpet\":[{\"marker\":{\"colorbar\":{\"outlinewidth\":0,\"ticks\":\"\"}},\"type\":\"scattercarpet\"}],\"scattergeo\":[{\"marker\":{\"colorbar\":{\"outlinewidth\":0,\"ticks\":\"\"}},\"type\":\"scattergeo\"}],\"scattergl\":[{\"marker\":{\"line\":{\"color\":\"#283442\"}},\"type\":\"scattergl\"}],\"scattermapbox\":[{\"marker\":{\"colorbar\":{\"outlinewidth\":0,\"ticks\":\"\"}},\"type\":\"scattermapbox\"}],\"scatterpolargl\":[{\"marker\":{\"colorbar\":{\"outlinewidth\":0,\"ticks\":\"\"}},\"type\":\"scatterpolargl\"}],\"scatterpolar\":[{\"marker\":{\"colorbar\":{\"outlinewidth\":0,\"ticks\":\"\"}},\"type\":\"scatterpolar\"}],\"scatter\":[{\"marker\":{\"line\":{\"color\":\"#283442\"}},\"type\":\"scatter\"}],\"scatterternary\":[{\"marker\":{\"colorbar\":{\"outlinewidth\":0,\"ticks\":\"\"}},\"type\":\"scatterternary\"}],\"surface\":[{\"colorbar\":{\"outlinewidth\":0,\"ticks\":\"\"},\"colorscale\":[[0.0,\"#0d0887\"],[0.1111111111111111,\"#46039f\"],[0.2222222222222222,\"#7201a8\"],[0.3333333333333333,\"#9c179e\"],[0.4444444444444444,\"#bd3786\"],[0.5555555555555556,\"#d8576b\"],[0.6666666666666666,\"#ed7953\"],[0.7777777777777778,\"#fb9f3a\"],[0.8888888888888888,\"#fdca26\"],[1.0,\"#f0f921\"]],\"type\":\"surface\"}],\"table\":[{\"cells\":{\"fill\":{\"color\":\"#506784\"},\"line\":{\"color\":\"rgb(17,17,17)\"}},\"header\":{\"fill\":{\"color\":\"#2a3f5f\"},\"line\":{\"color\":\"rgb(17,17,17)\"}},\"type\":\"table\"}]},\"layout\":{\"annotationdefaults\":{\"arrowcolor\":\"#f2f5fa\",\"arrowhead\":0,\"arrowwidth\":1,\"showarrow\":false},\"autotypenumbers\":\"strict\",\"coloraxis\":{\"colorbar\":{\"outlinewidth\":0,\"ticks\":\"\"}},\"colorscale\":{\"diverging\":[[0,\"#8e0152\"],[0.1,\"#c51b7d\"],[0.2,\"#de77ae\"],[0.3,\"#f1b6da\"],[0.4,\"#fde0ef\"],[0.5,\"#f7f7f7\"],[0.6,\"#e6f5d0\"],[0.7,\"#b8e186\"],[0.8,\"#7fbc41\"],[0.9,\"#4d9221\"],[1,\"#276419\"]],\"sequential\":[[0.0,\"#0d0887\"],[0.1111111111111111,\"#46039f\"],[0.2222222222222222,\"#7201a8\"],[0.3333333333333333,\"#9c179e\"],[0.4444444444444444,\"#bd3786\"],[0.5555555555555556,\"#d8576b\"],[0.6666666666666666,\"#ed7953\"],[0.7777777777777778,\"#fb9f3a\"],[0.8888888888888888,\"#fdca26\"],[1.0,\"#f0f921\"]],\"sequentialminus\":[[0.0,\"#0d0887\"],[0.1111111111111111,\"#46039f\"],[0.2222222222222222,\"#7201a8\"],[0.3333333333333333,\"#9c179e\"],[0.4444444444444444,\"#bd3786\"],[0.5555555555555556,\"#d8576b\"],[0.6666666666666666,\"#ed7953\"],[0.7777777777777778,\"#fb9f3a\"],[0.8888888888888888,\"#fdca26\"],[1.0,\"#f0f921\"]]},\"colorway\":[\"#ffed00\",\"#ef7d00\",\"#e4003a\",\"#c13246\",\"#822661\",\"#48277c\",\"#005ca9\",\"#00aaff\",\"#9b30d9\",\"#af005f\",\"#5f00af\",\"#af87ff\"],\"dragmode\":\"pan\",\"font\":{\"color\":\"#f2f5fa\",\"family\":\"Fira Code\",\"size\":18},\"geo\":{\"bgcolor\":\"rgb(17,17,17)\",\"lakecolor\":\"rgb(17,17,17)\",\"landcolor\":\"rgb(17,17,17)\",\"showlakes\":true,\"showland\":true,\"subunitcolor\":\"#506784\"},\"hoverlabel\":{\"align\":\"left\"},\"hovermode\":\"x\",\"legend\":{\"bgcolor\":\"rgba(0, 0, 0, 0)\",\"font\":{\"size\":15},\"x\":0.01,\"xanchor\":\"left\",\"y\":0.99,\"yanchor\":\"top\"},\"mapbox\":{\"style\":\"dark\"},\"paper_bgcolor\":\"#000000\",\"plot_bgcolor\":\"#000000\",\"polar\":{\"angularaxis\":{\"gridcolor\":\"#506784\",\"linecolor\":\"#506784\",\"ticks\":\"\"},\"bgcolor\":\"rgb(17,17,17)\",\"radialaxis\":{\"gridcolor\":\"#506784\",\"linecolor\":\"#506784\",\"ticks\":\"\"}},\"scene\":{\"xaxis\":{\"backgroundcolor\":\"rgb(17,17,17)\",\"gridcolor\":\"#506784\",\"gridwidth\":2,\"linecolor\":\"#506784\",\"showbackground\":true,\"ticks\":\"\",\"zerolinecolor\":\"#C8D4E3\"},\"yaxis\":{\"backgroundcolor\":\"rgb(17,17,17)\",\"gridcolor\":\"#506784\",\"gridwidth\":2,\"linecolor\":\"#506784\",\"showbackground\":true,\"ticks\":\"\",\"zerolinecolor\":\"#C8D4E3\"},\"zaxis\":{\"backgroundcolor\":\"rgb(17,17,17)\",\"gridcolor\":\"#506784\",\"gridwidth\":2,\"linecolor\":\"#506784\",\"showbackground\":true,\"ticks\":\"\",\"zerolinecolor\":\"#C8D4E3\"}},\"shapedefaults\":{\"line\":{\"color\":\"#f2f5fa\"}},\"sliderdefaults\":{\"bgcolor\":\"#C8D4E3\",\"bordercolor\":\"rgb(17,17,17)\",\"borderwidth\":1,\"tickwidth\":0},\"ternary\":{\"aaxis\":{\"gridcolor\":\"#506784\",\"linecolor\":\"#506784\",\"ticks\":\"\"},\"baxis\":{\"gridcolor\":\"#506784\",\"linecolor\":\"#506784\",\"ticks\":\"\"},\"bgcolor\":\"rgb(17,17,17)\",\"caxis\":{\"gridcolor\":\"#506784\",\"linecolor\":\"#506784\",\"ticks\":\"\"}},\"title\":{\"x\":0.05},\"updatemenudefaults\":{\"bgcolor\":\"#506784\",\"borderwidth\":0},\"xaxis\":{\"automargin\":true,\"autorange\":true,\"gridcolor\":\"#283442\",\"linecolor\":\"#F5EFF3\",\"mirror\":true,\"rangeslider\":{\"visible\":false},\"showgrid\":true,\"showline\":true,\"tick0\":1,\"tickfont\":{\"size\":14},\"ticks\":\"outside\",\"title\":{\"standoff\":20},\"zeroline\":false,\"zerolinecolor\":\"#283442\",\"zerolinewidth\":2},\"yaxis\":{\"anchor\":\"x\",\"automargin\":true,\"fixedrange\":false,\"gridcolor\":\"#283442\",\"linecolor\":\"#F5EFF3\",\"mirror\":true,\"showgrid\":true,\"showline\":true,\"side\":\"right\",\"tick0\":0.5,\"ticks\":\"outside\",\"title\":{\"standoff\":20},\"zeroline\":false,\"zerolinecolor\":\"#283442\",\"zerolinewidth\":2}}},\"title\":{\"font\":{\"color\":\"#D9D9D9\"}},\"xaxis\":{\"gridcolor\":\"#434343\",\"showgrid\":true,\"tickfont\":{\"color\":\"#C2C2C2\"},\"title\":{\"font\":{\"color\":\"#D9D9D9\"},\"text\":\"\"},\"zerolinecolor\":\"#666570\"},\"yaxis\":{\"gridcolor\":\"#434343\",\"showgrid\":true,\"tickfont\":{\"color\":\"#C2C2C2\"},\"title\":{\"font\":{\"color\":\"#D9D9D9\"},\"text\":\"\"},\"zerolinecolor\":\"#666570\"}},                        {\"showLink\": true, \"linkText\": \"Export to plot.ly\", \"plotlyServerURL\": \"https://plot.ly\", \"responsive\": true}                    ).then(function(){\n",
       "                            \n",
       "var gd = document.getElementById('071f98a8-6f78-49f1-9831-7b8f62612387');\n",
       "var x = new MutationObserver(function (mutations, observer) {{\n",
       "        var display = window.getComputedStyle(gd).display;\n",
       "        if (!display || display === 'none') {{\n",
       "            console.log([gd, 'removed!']);\n",
       "            Plotly.purge(gd);\n",
       "            observer.disconnect();\n",
       "        }}\n",
       "}});\n",
       "\n",
       "// Listen for the removal of the full notebook cells\n",
       "var notebookContainer = gd.closest('#notebook-container');\n",
       "if (notebookContainer) {{\n",
       "    x.observe(notebookContainer, {childList: true});\n",
       "}}\n",
       "\n",
       "// Listen for the clearing of the current output cell\n",
       "var outputEl = gd.closest('.output');\n",
       "if (outputEl) {{\n",
       "    x.observe(outputEl, {childList: true});\n",
       "}}\n",
       "\n",
       "                        })                };                });            </script>        </div>"
      ]
     },
     "metadata": {},
     "output_type": "display_data"
    }
   ],
   "source": [
    "TB_rate_df, TB_names= openbb.economy.fred(['DGS10', 'DGS2', 'DTB3', 'DFF'], start_date ='2020-01-01')\n",
    "temp = TB_rate_df.tail(240).T\n",
    "temp.index = [120*4, 24*4, 3*4, 1]\n",
    "temp.columns = [f\"D{n}\" for n in range(len(temp.columns), 0, -1)]\n",
    "temp.iplot()"
   ]
  },
  {
   "attachments": {},
   "cell_type": "markdown",
   "metadata": {},
   "source": [
    "### Stock"
   ]
  },
  {
   "cell_type": "code",
   "execution_count": 9,
   "metadata": {},
   "outputs": [
    {
     "data": {
      "text/plain": [
       "<Axes: ylabel=' '>"
      ]
     },
     "execution_count": 9,
     "metadata": {},
     "output_type": "execute_result"
    },
    {
     "data": {
      "image/png": "[encoded data removed]",
      "text/plain": [
       "<Figure size 500x300 with 1 Axes>"
      ]
     },
     "metadata": {},
     "output_type": "display_data"
    }
   ],
   "source": [
    "stocks = openbb.economy.indices().set_index(' ')\n",
    "stocks['%Chg'].astype(float).plot(kind = 'barh')"
   ]
  },
  {
   "cell_type": "code",
   "execution_count": 10,
   "metadata": {},
   "outputs": [
    {
     "data": {
      "text/html": [
       "<div>\n",
       "<style scoped>\n",
       "    .dataframe tbody tr th:only-of-type {\n",
       "        vertical-align: middle;\n",
       "    }\n",
       "\n",
       "    .dataframe tbody tr th {\n",
       "        vertical-align: top;\n",
       "    }\n",
       "\n",
       "    .dataframe thead th {\n",
       "        text-align: right;\n",
       "    }\n",
       "</style>\n",
       "<table border=\"1\" class=\"dataframe\">\n",
       "  <thead>\n",
       "    <tr style=\"text-align: right;\">\n",
       "      <th></th>\n",
       "      <th></th>\n",
       "      <th>Price</th>\n",
       "      <th>Chg</th>\n",
       "      <th>%Chg</th>\n",
       "    </tr>\n",
       "  </thead>\n",
       "  <tbody>\n",
       "    <tr>\n",
       "      <th>0</th>\n",
       "      <td>DJIA</td>\n",
       "      <td>33042.78</td>\n",
       "      <td>-50.56</td>\n",
       "      <td>-0.15</td>\n",
       "    </tr>\n",
       "    <tr>\n",
       "      <th>1</th>\n",
       "      <td>S&amp;P 500</td>\n",
       "      <td>4205.52</td>\n",
       "      <td>0.07</td>\n",
       "      <td>0.00</td>\n",
       "    </tr>\n",
       "    <tr>\n",
       "      <th>2</th>\n",
       "      <td>Nasdaq Composite</td>\n",
       "      <td>13017.43</td>\n",
       "      <td>41.74</td>\n",
       "      <td>0.32</td>\n",
       "    </tr>\n",
       "    <tr>\n",
       "      <th>3</th>\n",
       "      <td>Japan: Nikkei 225</td>\n",
       "      <td>30840.09</td>\n",
       "      <td>-488.07</td>\n",
       "      <td>-1.56</td>\n",
       "    </tr>\n",
       "    <tr>\n",
       "      <th>4</th>\n",
       "      <td>UK: FTSE 100</td>\n",
       "      <td>7522.07</td>\n",
       "      <td>-105.13</td>\n",
       "      <td>-1.38</td>\n",
       "    </tr>\n",
       "    <tr>\n",
       "      <th>5</th>\n",
       "      <td>Crude Oil Futures</td>\n",
       "      <td>69.20</td>\n",
       "      <td>-0.26</td>\n",
       "      <td>-0.37</td>\n",
       "    </tr>\n",
       "    <tr>\n",
       "      <th>6</th>\n",
       "      <td>Gold Futures</td>\n",
       "      <td>1977.70</td>\n",
       "      <td>0.60</td>\n",
       "      <td>0.03</td>\n",
       "    </tr>\n",
       "    <tr>\n",
       "      <th>7</th>\n",
       "      <td>Yen</td>\n",
       "      <td>139.64</td>\n",
       "      <td>-0.16</td>\n",
       "      <td>-0.11</td>\n",
       "    </tr>\n",
       "    <tr>\n",
       "      <th>8</th>\n",
       "      <td>Euro</td>\n",
       "      <td>1.0700</td>\n",
       "      <td>-0.0035</td>\n",
       "      <td>-0.33</td>\n",
       "    </tr>\n",
       "  </tbody>\n",
       "</table>\n",
       "</div>"
      ],
      "text/plain": [
       "                         Price      Chg   %Chg\n",
       "0               DJIA  33042.78   -50.56  -0.15\n",
       "1            S&P 500   4205.52     0.07   0.00\n",
       "2   Nasdaq Composite  13017.43    41.74   0.32\n",
       "3  Japan: Nikkei 225  30840.09  -488.07  -1.56\n",
       "4       UK: FTSE 100   7522.07  -105.13  -1.38\n",
       "5  Crude Oil Futures     69.20    -0.26  -0.37\n",
       "6       Gold Futures   1977.70     0.60   0.03\n",
       "7                Yen    139.64    -0.16  -0.11\n",
       "8               Euro    1.0700  -0.0035  -0.33"
      ]
     },
     "execution_count": 10,
     "metadata": {},
     "output_type": "execute_result"
    }
   ],
   "source": [
    "## openbb.economy.perfmap() ## market map\n",
    "openbb.economy.overview()"
   ]
  },
  {
   "cell_type": "code",
   "execution_count": 11,
   "metadata": {},
   "outputs": [],
   "source": [
    "econ_groups = openbb.economy.get_groups() ## 조회가능 그룹\n",
    "performance = openbb.economy.performance(group = 'sector')\n",
    "revenue = openbb.economy.revenue(countries = ['united_states'])"
   ]
  },
  {
   "cell_type": "code",
   "execution_count": 12,
   "metadata": {},
   "outputs": [
    {
     "data": {
      "text/html": [
       "<div>\n",
       "<style scoped>\n",
       "    .dataframe tbody tr th:only-of-type {\n",
       "        vertical-align: middle;\n",
       "    }\n",
       "\n",
       "    .dataframe tbody tr th {\n",
       "        vertical-align: top;\n",
       "    }\n",
       "\n",
       "    .dataframe thead th {\n",
       "        text-align: right;\n",
       "    }\n",
       "</style>\n",
       "<table border=\"1\" class=\"dataframe\">\n",
       "  <thead>\n",
       "    <tr style=\"text-align: right;\">\n",
       "      <th></th>\n",
       "      <th>Sector</th>\n",
       "      <th>% Chg</th>\n",
       "    </tr>\n",
       "  </thead>\n",
       "  <tbody>\n",
       "    <tr>\n",
       "      <th>0</th>\n",
       "      <td>Consumer Discretionary</td>\n",
       "      <td>0.76</td>\n",
       "    </tr>\n",
       "    <tr>\n",
       "      <th>1</th>\n",
       "      <td>Information Technology</td>\n",
       "      <td>0.63</td>\n",
       "    </tr>\n",
       "    <tr>\n",
       "      <th>2</th>\n",
       "      <td>Real Estate</td>\n",
       "      <td>0.27</td>\n",
       "    </tr>\n",
       "    <tr>\n",
       "      <th>3</th>\n",
       "      <td>Financials</td>\n",
       "      <td>0.00</td>\n",
       "    </tr>\n",
       "    <tr>\n",
       "      <th>4</th>\n",
       "      <td>Communication Services</td>\n",
       "      <td>-0.07</td>\n",
       "    </tr>\n",
       "    <tr>\n",
       "      <th>5</th>\n",
       "      <td>Industrials</td>\n",
       "      <td>-0.23</td>\n",
       "    </tr>\n",
       "    <tr>\n",
       "      <th>6</th>\n",
       "      <td>Utilities</td>\n",
       "      <td>-0.39</td>\n",
       "    </tr>\n",
       "    <tr>\n",
       "      <th>7</th>\n",
       "      <td>Materials</td>\n",
       "      <td>-0.59</td>\n",
       "    </tr>\n",
       "    <tr>\n",
       "      <th>8</th>\n",
       "      <td>Health Care</td>\n",
       "      <td>-0.67</td>\n",
       "    </tr>\n",
       "    <tr>\n",
       "      <th>9</th>\n",
       "      <td>Energy</td>\n",
       "      <td>-0.94</td>\n",
       "    </tr>\n",
       "    <tr>\n",
       "      <th>10</th>\n",
       "      <td>Consumer Staples</td>\n",
       "      <td>-1.08</td>\n",
       "    </tr>\n",
       "  </tbody>\n",
       "</table>\n",
       "</div>"
      ],
      "text/plain": [
       "                    Sector  % Chg\n",
       "0   Consumer Discretionary   0.76\n",
       "1   Information Technology   0.63\n",
       "2              Real Estate   0.27\n",
       "3               Financials   0.00\n",
       "4   Communication Services  -0.07\n",
       "5              Industrials  -0.23\n",
       "6                Utilities  -0.39\n",
       "7                Materials  -0.59\n",
       "8              Health Care  -0.67\n",
       "9                   Energy  -0.94\n",
       "10        Consumer Staples  -1.08"
      ]
     },
     "execution_count": 12,
     "metadata": {},
     "output_type": "execute_result"
    }
   ],
   "source": [
    "## openbb.economy.search_index(['nasdaq']) ## 종합주가지수 탐색\n",
    "openbb.economy.rtps()"
   ]
  },
  {
   "cell_type": "code",
   "execution_count": 13,
   "metadata": {},
   "outputs": [
    {
     "data": {
      "text/html": [
       "<div>\n",
       "<style scoped>\n",
       "    .dataframe tbody tr th:only-of-type {\n",
       "        vertical-align: middle;\n",
       "    }\n",
       "\n",
       "    .dataframe tbody tr th {\n",
       "        vertical-align: top;\n",
       "    }\n",
       "\n",
       "    .dataframe thead th {\n",
       "        text-align: right;\n",
       "    }\n",
       "</style>\n",
       "<table border=\"1\" class=\"dataframe\">\n",
       "  <thead>\n",
       "    <tr style=\"text-align: right;\">\n",
       "      <th></th>\n",
       "      <th>Name</th>\n",
       "      <th>MarketCap</th>\n",
       "      <th>P/E</th>\n",
       "      <th>FwdP/E</th>\n",
       "      <th>PEG</th>\n",
       "      <th>P/S</th>\n",
       "      <th>P/B</th>\n",
       "      <th>P/C</th>\n",
       "      <th>P/FCF</th>\n",
       "      <th>EPSpast5Y</th>\n",
       "      <th>EPSnext5Y</th>\n",
       "      <th>Salespast5Y</th>\n",
       "      <th>Change</th>\n",
       "      <th>Volume</th>\n",
       "    </tr>\n",
       "  </thead>\n",
       "  <tbody>\n",
       "    <tr>\n",
       "      <th>0</th>\n",
       "      <td>Basic Materials</td>\n",
       "      <td>1834.24B</td>\n",
       "      <td>11.15</td>\n",
       "      <td>15.69</td>\n",
       "      <td>1.91</td>\n",
       "      <td>1.28</td>\n",
       "      <td>1.72</td>\n",
       "      <td>11.32</td>\n",
       "      <td>33.83</td>\n",
       "      <td>0.1840</td>\n",
       "      <td>0.0584</td>\n",
       "      <td>0.1190</td>\n",
       "      <td>-0.0104</td>\n",
       "      <td>3.541300e+08</td>\n",
       "    </tr>\n",
       "    <tr>\n",
       "      <th>1</th>\n",
       "      <td>Communication Services</td>\n",
       "      <td>6051.03B</td>\n",
       "      <td>24.88</td>\n",
       "      <td>17.57</td>\n",
       "      <td>1.41</td>\n",
       "      <td>2.51</td>\n",
       "      <td>3.12</td>\n",
       "      <td>14.53</td>\n",
       "      <td>44.64</td>\n",
       "      <td>0.1498</td>\n",
       "      <td>0.1771</td>\n",
       "      <td>0.1599</td>\n",
       "      <td>-0.0041</td>\n",
       "      <td>6.259700e+08</td>\n",
       "    </tr>\n",
       "    <tr>\n",
       "      <th>2</th>\n",
       "      <td>Consumer Cyclical</td>\n",
       "      <td>5957.97B</td>\n",
       "      <td>19.69</td>\n",
       "      <td>20.44</td>\n",
       "      <td>1.58</td>\n",
       "      <td>1.39</td>\n",
       "      <td>3.77</td>\n",
       "      <td>9.17</td>\n",
       "      <td>51.89</td>\n",
       "      <td>0.1079</td>\n",
       "      <td>0.1246</td>\n",
       "      <td>0.1935</td>\n",
       "      <td>0.0016</td>\n",
       "      <td>1.410000e+09</td>\n",
       "    </tr>\n",
       "    <tr>\n",
       "      <th>3</th>\n",
       "      <td>Consumer Defensive</td>\n",
       "      <td>3609.44B</td>\n",
       "      <td>23.45</td>\n",
       "      <td>20.54</td>\n",
       "      <td>3.06</td>\n",
       "      <td>1.16</td>\n",
       "      <td>4.44</td>\n",
       "      <td>23.34</td>\n",
       "      <td>83.82</td>\n",
       "      <td>0.0663</td>\n",
       "      <td>0.0766</td>\n",
       "      <td>0.0585</td>\n",
       "      <td>-0.0123</td>\n",
       "      <td>3.564900e+08</td>\n",
       "    </tr>\n",
       "    <tr>\n",
       "      <th>4</th>\n",
       "      <td>Energy</td>\n",
       "      <td>3208.95B</td>\n",
       "      <td>5.58</td>\n",
       "      <td>8.20</td>\n",
       "      <td>8.92</td>\n",
       "      <td>0.68</td>\n",
       "      <td>1.37</td>\n",
       "      <td>9.03</td>\n",
       "      <td>10.18</td>\n",
       "      <td>0.3969</td>\n",
       "      <td>0.0063</td>\n",
       "      <td>0.1432</td>\n",
       "      <td>-0.0129</td>\n",
       "      <td>5.106600e+08</td>\n",
       "    </tr>\n",
       "    <tr>\n",
       "      <th>5</th>\n",
       "      <td>Financial</td>\n",
       "      <td>8376.34B</td>\n",
       "      <td>12.38</td>\n",
       "      <td>11.83</td>\n",
       "      <td>1.48</td>\n",
       "      <td>2.12</td>\n",
       "      <td>1.04</td>\n",
       "      <td>0.51</td>\n",
       "      <td>14.41</td>\n",
       "      <td>0.1048</td>\n",
       "      <td>0.0836</td>\n",
       "      <td>0.0839</td>\n",
       "      <td>-0.0002</td>\n",
       "      <td>9.487800e+08</td>\n",
       "    </tr>\n",
       "    <tr>\n",
       "      <th>6</th>\n",
       "      <td>Healthcare</td>\n",
       "      <td>7214.55B</td>\n",
       "      <td>27.04</td>\n",
       "      <td>16.75</td>\n",
       "      <td>3.18</td>\n",
       "      <td>1.89</td>\n",
       "      <td>3.99</td>\n",
       "      <td>11.74</td>\n",
       "      <td>32.84</td>\n",
       "      <td>0.1079</td>\n",
       "      <td>0.0851</td>\n",
       "      <td>0.1492</td>\n",
       "      <td>-0.0085</td>\n",
       "      <td>1.290000e+09</td>\n",
       "    </tr>\n",
       "    <tr>\n",
       "      <th>7</th>\n",
       "      <td>Industrials</td>\n",
       "      <td>4540.62B</td>\n",
       "      <td>18.92</td>\n",
       "      <td>16.07</td>\n",
       "      <td>1.70</td>\n",
       "      <td>1.62</td>\n",
       "      <td>3.73</td>\n",
       "      <td>15.03</td>\n",
       "      <td>39.81</td>\n",
       "      <td>0.1165</td>\n",
       "      <td>0.1114</td>\n",
       "      <td>0.0670</td>\n",
       "      <td>-0.0020</td>\n",
       "      <td>6.824500e+08</td>\n",
       "    </tr>\n",
       "    <tr>\n",
       "      <th>8</th>\n",
       "      <td>Real Estate</td>\n",
       "      <td>1344.38B</td>\n",
       "      <td>28.97</td>\n",
       "      <td>26.56</td>\n",
       "      <td>2.99</td>\n",
       "      <td>3.82</td>\n",
       "      <td>1.96</td>\n",
       "      <td>21.09</td>\n",
       "      <td>84.43</td>\n",
       "      <td>0.1373</td>\n",
       "      <td>0.0970</td>\n",
       "      <td>0.1247</td>\n",
       "      <td>0.0028</td>\n",
       "      <td>3.446900e+08</td>\n",
       "    </tr>\n",
       "    <tr>\n",
       "      <th>9</th>\n",
       "      <td>Technology</td>\n",
       "      <td>13462.35B</td>\n",
       "      <td>34.75</td>\n",
       "      <td>23.59</td>\n",
       "      <td>2.69</td>\n",
       "      <td>4.57</td>\n",
       "      <td>7.32</td>\n",
       "      <td>17.33</td>\n",
       "      <td>45.27</td>\n",
       "      <td>0.1814</td>\n",
       "      <td>0.1292</td>\n",
       "      <td>0.1560</td>\n",
       "      <td>0.0047</td>\n",
       "      <td>1.910000e+09</td>\n",
       "    </tr>\n",
       "    <tr>\n",
       "      <th>10</th>\n",
       "      <td>Utilities</td>\n",
       "      <td>1377.25B</td>\n",
       "      <td>21.72</td>\n",
       "      <td>2.92</td>\n",
       "      <td>2.83</td>\n",
       "      <td>1.51</td>\n",
       "      <td>0.83</td>\n",
       "      <td>36.22</td>\n",
       "      <td>347.41</td>\n",
       "      <td>0.0638</td>\n",
       "      <td>0.0769</td>\n",
       "      <td>0.0617</td>\n",
       "      <td>-0.0034</td>\n",
       "      <td>1.514900e+08</td>\n",
       "    </tr>\n",
       "  </tbody>\n",
       "</table>\n",
       "</div>"
      ],
      "text/plain": [
       "                      Name  MarketCap    P/E  FwdP/E   PEG   P/S   P/B    P/C  \\\n",
       "0          Basic Materials   1834.24B  11.15   15.69  1.91  1.28  1.72  11.32   \n",
       "1   Communication Services   6051.03B  24.88   17.57  1.41  2.51  3.12  14.53   \n",
       "2        Consumer Cyclical   5957.97B  19.69   20.44  1.58  1.39  3.77   9.17   \n",
       "3       Consumer Defensive   3609.44B  23.45   20.54  3.06  1.16  4.44  23.34   \n",
       "4                   Energy   3208.95B   5.58    8.20  8.92  0.68  1.37   9.03   \n",
       "5                Financial   8376.34B  12.38   11.83  1.48  2.12  1.04   0.51   \n",
       "6               Healthcare   7214.55B  27.04   16.75  3.18  1.89  3.99  11.74   \n",
       "7              Industrials   4540.62B  18.92   16.07  1.70  1.62  3.73  15.03   \n",
       "8              Real Estate   1344.38B  28.97   26.56  2.99  3.82  1.96  21.09   \n",
       "9               Technology  13462.35B  34.75   23.59  2.69  4.57  7.32  17.33   \n",
       "10               Utilities   1377.25B  21.72    2.92  2.83  1.51  0.83  36.22   \n",
       "\n",
       "     P/FCF  EPSpast5Y  EPSnext5Y  Salespast5Y  Change        Volume  \n",
       "0    33.83     0.1840     0.0584       0.1190 -0.0104  3.541300e+08  \n",
       "1    44.64     0.1498     0.1771       0.1599 -0.0041  6.259700e+08  \n",
       "2    51.89     0.1079     0.1246       0.1935  0.0016  1.410000e+09  \n",
       "3    83.82     0.0663     0.0766       0.0585 -0.0123  3.564900e+08  \n",
       "4    10.18     0.3969     0.0063       0.1432 -0.0129  5.106600e+08  \n",
       "5    14.41     0.1048     0.0836       0.0839 -0.0002  9.487800e+08  \n",
       "6    32.84     0.1079     0.0851       0.1492 -0.0085  1.290000e+09  \n",
       "7    39.81     0.1165     0.1114       0.0670 -0.0020  6.824500e+08  \n",
       "8    84.43     0.1373     0.0970       0.1247  0.0028  3.446900e+08  \n",
       "9    45.27     0.1814     0.1292       0.1560  0.0047  1.910000e+09  \n",
       "10  347.41     0.0638     0.0769       0.0617 -0.0034  1.514900e+08  "
      ]
     },
     "execution_count": 13,
     "metadata": {},
     "output_type": "execute_result"
    }
   ],
   "source": [
    "openbb.economy.valuation('sector')"
   ]
  },
  {
   "attachments": {},
   "cell_type": "markdown",
   "metadata": {},
   "source": [
    "### Futures"
   ]
  },
  {
   "cell_type": "code",
   "execution_count": 14,
   "metadata": {},
   "outputs": [
    {
     "data": {
      "text/plain": [
       "<Axes: ylabel=' '>"
      ]
     },
     "execution_count": 14,
     "metadata": {},
     "output_type": "execute_result"
    },
    {
     "data": {
      "image/png": "[encoded data removed]",
      "text/plain": [
       "<Figure size 500x300 with 1 Axes>"
      ]
     },
     "metadata": {},
     "output_type": "display_data"
    }
   ],
   "source": [
    "futures_summary = openbb.economy.futures('WSJ')\n",
    "futures_summary = futures_summary.set_index(' ')\n",
    "futures_summary['Chg'].astype(float).plot(kind = 'barh')"
   ]
  },
  {
   "cell_type": "code",
   "execution_count": 15,
   "metadata": {},
   "outputs": [
    {
     "data": {
      "text/plain": [
       "<Axes: ylabel='label'>"
      ]
     },
     "execution_count": 15,
     "metadata": {},
     "output_type": "execute_result"
    },
    {
     "data": {
      "image/png": "[encoded data removed]",
      "text/plain": [
       "<Figure size 500x300 with 1 Axes>"
      ]
     },
     "metadata": {},
     "output_type": "display_data"
    }
   ],
   "source": [
    "futures_index = openbb.economy.future('Indices')\n",
    "futures_index['change'].astype(float).plot(kind = 'barh')"
   ]
  },
  {
   "cell_type": "code",
   "execution_count": 16,
   "metadata": {},
   "outputs": [
    {
     "data": {
      "text/plain": [
       "<Axes: ylabel='label'>"
      ]
     },
     "execution_count": 16,
     "metadata": {},
     "output_type": "execute_result"
    },
    {
     "data": {
      "image/png": "[encoded data removed]",
      "text/plain": [
       "<Figure size 500x300 with 1 Axes>"
      ]
     },
     "metadata": {},
     "output_type": "display_data"
    }
   ],
   "source": [
    "futures_commodity = openbb.economy.future('Metals')\n",
    "futures_commodity['change'].astype(float).plot(kind = 'barh')"
   ]
  },
  {
   "cell_type": "code",
   "execution_count": 17,
   "metadata": {},
   "outputs": [
    {
     "data": {
      "text/plain": [
       "<Axes: ylabel='label'>"
      ]
     },
     "execution_count": 17,
     "metadata": {},
     "output_type": "execute_result"
    },
    {
     "data": {
      "image/png": "[encoded data removed]",
      "text/plain": [
       "<Figure size 500x300 with 1 Axes>"
      ]
     },
     "metadata": {},
     "output_type": "display_data"
    }
   ],
   "source": [
    "futures_meat = openbb.economy.future('Meats')\n",
    "futures_meat['change'].astype(float).plot(kind = 'barh')"
   ]
  },
  {
   "cell_type": "code",
   "execution_count": 18,
   "metadata": {},
   "outputs": [
    {
     "data": {
      "text/plain": [
       "<Axes: ylabel='label'>"
      ]
     },
     "execution_count": 18,
     "metadata": {},
     "output_type": "execute_result"
    },
    {
     "data": {
      "image/png": "[encoded data removed]",
      "text/plain": [
       "<Figure size 500x300 with 1 Axes>"
      ]
     },
     "metadata": {},
     "output_type": "display_data"
    }
   ],
   "source": [
    "futures_grains = openbb.economy.future('Grains')\n",
    "futures_grains['change'].astype(float).plot(kind = 'barh')"
   ]
  },
  {
   "cell_type": "code",
   "execution_count": 19,
   "metadata": {},
   "outputs": [
    {
     "data": {
      "text/plain": [
       "<Axes: ylabel='label'>"
      ]
     },
     "execution_count": 19,
     "metadata": {},
     "output_type": "execute_result"
    },
    {
     "data": {
      "image/png": "[encoded data removed]",
      "text/plain": [
       "<Figure size 500x300 with 1 Axes>"
      ]
     },
     "metadata": {},
     "output_type": "display_data"
    }
   ],
   "source": [
    "futures_softs = openbb.economy.future('Softs')\n",
    "futures_softs['change'].astype(float).plot(kind = 'barh')"
   ]
  },
  {
   "cell_type": "code",
   "execution_count": 20,
   "metadata": {},
   "outputs": [
    {
     "data": {
      "text/plain": [
       "<Axes: >"
      ]
     },
     "execution_count": 20,
     "metadata": {},
     "output_type": "execute_result"
    },
    {
     "data": {
      "image/png": "[encoded data removed]",
      "text/plain": [
       "<Figure size 500x300 with 1 Axes>"
      ]
     },
     "metadata": {},
     "output_type": "display_data"
    }
   ],
   "source": [
    "futures_bonds = openbb.economy.future('Bonds').reset_index()\n",
    "futures_bonds.index = [2, 10 , 5, 30]\n",
    "futures_bonds = futures_bonds.sort_index()\n",
    "futures_bonds['change'].astype(float).plot(kind = 'barh')"
   ]
  },
  {
   "cell_type": "code",
   "execution_count": 21,
   "metadata": {},
   "outputs": [
    {
     "data": {
      "text/plain": [
       "<Axes: ylabel='label'>"
      ]
     },
     "execution_count": 21,
     "metadata": {},
     "output_type": "execute_result"
    },
    {
     "data": {
      "image/png": "[encoded data removed]",
      "text/plain": [
       "<Figure size 500x300 with 1 Axes>"
      ]
     },
     "metadata": {},
     "output_type": "display_data"
    }
   ],
   "source": [
    "futures_currency = openbb.economy.future('Currencies')\n",
    "futures_currency['change'].astype(float).plot(kind = 'barh')"
   ]
  },
  {
   "attachments": {},
   "cell_type": "markdown",
   "metadata": {},
   "source": [
    "## Events"
   ]
  },
  {
   "cell_type": "code",
   "execution_count": 22,
   "metadata": {},
   "outputs": [
    {
     "data": {
      "text/html": [
       "<div>\n",
       "<style scoped>\n",
       "    .dataframe tbody tr th:only-of-type {\n",
       "        vertical-align: middle;\n",
       "    }\n",
       "\n",
       "    .dataframe tbody tr th {\n",
       "        vertical-align: top;\n",
       "    }\n",
       "\n",
       "    .dataframe thead th {\n",
       "        text-align: right;\n",
       "    }\n",
       "</style>\n",
       "<table border=\"1\" class=\"dataframe\">\n",
       "  <thead>\n",
       "    <tr style=\"text-align: right;\">\n",
       "      <th></th>\n",
       "      <th>Time (ET)</th>\n",
       "      <th>Country</th>\n",
       "      <th>Event</th>\n",
       "      <th>Actual</th>\n",
       "      <th>Consensus</th>\n",
       "      <th>Previous</th>\n",
       "      <th>Date</th>\n",
       "    </tr>\n",
       "  </thead>\n",
       "  <tbody>\n",
       "    <tr>\n",
       "      <th>0</th>\n",
       "      <td>All Day</td>\n",
       "      <td>United States</td>\n",
       "      <td>United States - Memorial Day</td>\n",
       "      <td>-</td>\n",
       "      <td>-</td>\n",
       "      <td>-</td>\n",
       "      <td>2023-05-29</td>\n",
       "    </tr>\n",
       "    <tr>\n",
       "      <th>1</th>\n",
       "      <td>09:00</td>\n",
       "      <td>United States</td>\n",
       "      <td>House Price Index</td>\n",
       "      <td>3.6%</td>\n",
       "      <td>2.4%</td>\n",
       "      <td>4.2%</td>\n",
       "      <td>2023-05-30</td>\n",
       "    </tr>\n",
       "    <tr>\n",
       "      <th>2</th>\n",
       "      <td>09:00</td>\n",
       "      <td>United States</td>\n",
       "      <td>House Price Index</td>\n",
       "      <td>0.6%</td>\n",
       "      <td>0.2%</td>\n",
       "      <td>0.7%</td>\n",
       "      <td>2023-05-30</td>\n",
       "    </tr>\n",
       "    <tr>\n",
       "      <th>3</th>\n",
       "      <td>09:00</td>\n",
       "      <td>United States</td>\n",
       "      <td>House Price Index</td>\n",
       "      <td>398.0</td>\n",
       "      <td>393.0</td>\n",
       "      <td>395.5</td>\n",
       "      <td>2023-05-30</td>\n",
       "    </tr>\n",
       "    <tr>\n",
       "      <th>4</th>\n",
       "      <td>09:00</td>\n",
       "      <td>United States</td>\n",
       "      <td>S&amp;P/CS HPI Composite - 20 s.a.</td>\n",
       "      <td>0.5%</td>\n",
       "      <td>-0.4%</td>\n",
       "      <td>-0.1%</td>\n",
       "      <td>2023-05-30</td>\n",
       "    </tr>\n",
       "    <tr>\n",
       "      <th>5</th>\n",
       "      <td>09:00</td>\n",
       "      <td>United States</td>\n",
       "      <td>S&amp;P/CS HPI Composite - 20 n.s.a.</td>\n",
       "      <td>1.5%</td>\n",
       "      <td>0.4%</td>\n",
       "      <td>0.3%</td>\n",
       "      <td>2023-05-30</td>\n",
       "    </tr>\n",
       "    <tr>\n",
       "      <th>6</th>\n",
       "      <td>09:00</td>\n",
       "      <td>United States</td>\n",
       "      <td>S&amp;P/CS HPI Composite - 20 n.s.a.</td>\n",
       "      <td>-1.1%</td>\n",
       "      <td>-1.6%</td>\n",
       "      <td>0.4%</td>\n",
       "      <td>2023-05-30</td>\n",
       "    </tr>\n",
       "    <tr>\n",
       "      <th>7</th>\n",
       "      <td>10:00</td>\n",
       "      <td>United States</td>\n",
       "      <td>CB Consumer Confidence</td>\n",
       "      <td>102.3</td>\n",
       "      <td>99.0</td>\n",
       "      <td>103.7</td>\n",
       "      <td>2023-05-30</td>\n",
       "    </tr>\n",
       "    <tr>\n",
       "      <th>8</th>\n",
       "      <td>10:30</td>\n",
       "      <td>United States</td>\n",
       "      <td>Dallas Fed Mfg Business Index</td>\n",
       "      <td>-29.1</td>\n",
       "      <td>-</td>\n",
       "      <td>-23.4</td>\n",
       "      <td>2023-05-30</td>\n",
       "    </tr>\n",
       "    <tr>\n",
       "      <th>9</th>\n",
       "      <td>11:30</td>\n",
       "      <td>United States</td>\n",
       "      <td>3-Month Bill Auction</td>\n",
       "      <td>5.300%</td>\n",
       "      <td>-</td>\n",
       "      <td>5.250%</td>\n",
       "      <td>2023-05-30</td>\n",
       "    </tr>\n",
       "    <tr>\n",
       "      <th>10</th>\n",
       "      <td>11:30</td>\n",
       "      <td>United States</td>\n",
       "      <td>6-Month Bill Auction</td>\n",
       "      <td>5.290%</td>\n",
       "      <td>-</td>\n",
       "      <td>5.170%</td>\n",
       "      <td>2023-05-30</td>\n",
       "    </tr>\n",
       "    <tr>\n",
       "      <th>11</th>\n",
       "      <td>07:00</td>\n",
       "      <td>United States</td>\n",
       "      <td>MBA 30-Year Mortgage Rate</td>\n",
       "      <td>-</td>\n",
       "      <td>-</td>\n",
       "      <td>6.69%</td>\n",
       "      <td>2023-05-31</td>\n",
       "    </tr>\n",
       "    <tr>\n",
       "      <th>12</th>\n",
       "      <td>07:00</td>\n",
       "      <td>United States</td>\n",
       "      <td>MBA Mortgage Applications</td>\n",
       "      <td>-</td>\n",
       "      <td>-</td>\n",
       "      <td>-4.6%</td>\n",
       "      <td>2023-05-31</td>\n",
       "    </tr>\n",
       "    <tr>\n",
       "      <th>13</th>\n",
       "      <td>07:00</td>\n",
       "      <td>United States</td>\n",
       "      <td>MBA Purchase Index</td>\n",
       "      <td>-</td>\n",
       "      <td>-</td>\n",
       "      <td>158.3</td>\n",
       "      <td>2023-05-31</td>\n",
       "    </tr>\n",
       "    <tr>\n",
       "      <th>14</th>\n",
       "      <td>07:00</td>\n",
       "      <td>United States</td>\n",
       "      <td>Mortgage Market Index</td>\n",
       "      <td>-</td>\n",
       "      <td>-</td>\n",
       "      <td>205.0</td>\n",
       "      <td>2023-05-31</td>\n",
       "    </tr>\n",
       "    <tr>\n",
       "      <th>15</th>\n",
       "      <td>07:00</td>\n",
       "      <td>United States</td>\n",
       "      <td>Mortgage Refinance Index</td>\n",
       "      <td>-</td>\n",
       "      <td>-</td>\n",
       "      <td>443.0</td>\n",
       "      <td>2023-05-31</td>\n",
       "    </tr>\n",
       "    <tr>\n",
       "      <th>16</th>\n",
       "      <td>08:50</td>\n",
       "      <td>United States</td>\n",
       "      <td>FOMC Member Bowman Speaks</td>\n",
       "      <td>-</td>\n",
       "      <td>-</td>\n",
       "      <td>-</td>\n",
       "      <td>2023-05-31</td>\n",
       "    </tr>\n",
       "    <tr>\n",
       "      <th>17</th>\n",
       "      <td>08:55</td>\n",
       "      <td>United States</td>\n",
       "      <td>Redbook</td>\n",
       "      <td>-</td>\n",
       "      <td>-</td>\n",
       "      <td>1.5%</td>\n",
       "      <td>2023-05-31</td>\n",
       "    </tr>\n",
       "    <tr>\n",
       "      <th>18</th>\n",
       "      <td>09:45</td>\n",
       "      <td>United States</td>\n",
       "      <td>Chicago PMI</td>\n",
       "      <td>-</td>\n",
       "      <td>47.0</td>\n",
       "      <td>48.6</td>\n",
       "      <td>2023-05-31</td>\n",
       "    </tr>\n",
       "    <tr>\n",
       "      <th>19</th>\n",
       "      <td>10:00</td>\n",
       "      <td>United States</td>\n",
       "      <td>JOLTs Job Openings</td>\n",
       "      <td>-</td>\n",
       "      <td>9.775M</td>\n",
       "      <td>9.590M</td>\n",
       "      <td>2023-05-31</td>\n",
       "    </tr>\n",
       "    <tr>\n",
       "      <th>20</th>\n",
       "      <td>10:30</td>\n",
       "      <td>United States</td>\n",
       "      <td>Dallas Fed Services Revenues</td>\n",
       "      <td>-</td>\n",
       "      <td>4.2</td>\n",
       "      <td>6.9</td>\n",
       "      <td>2023-05-31</td>\n",
       "    </tr>\n",
       "    <tr>\n",
       "      <th>21</th>\n",
       "      <td>10:30</td>\n",
       "      <td>United States</td>\n",
       "      <td>Texas Services Sector Outlook</td>\n",
       "      <td>-</td>\n",
       "      <td>-16.0</td>\n",
       "      <td>-14.4</td>\n",
       "      <td>2023-05-31</td>\n",
       "    </tr>\n",
       "    <tr>\n",
       "      <th>22</th>\n",
       "      <td>12:30</td>\n",
       "      <td>United States</td>\n",
       "      <td>FOMC Member Harker Speaks</td>\n",
       "      <td>-</td>\n",
       "      <td>-</td>\n",
       "      <td>-</td>\n",
       "      <td>2023-05-31</td>\n",
       "    </tr>\n",
       "    <tr>\n",
       "      <th>23</th>\n",
       "      <td>13:30</td>\n",
       "      <td>United States</td>\n",
       "      <td>Fed Governor Jefferson Speaks</td>\n",
       "      <td>-</td>\n",
       "      <td>-</td>\n",
       "      <td>-</td>\n",
       "      <td>2023-05-31</td>\n",
       "    </tr>\n",
       "    <tr>\n",
       "      <th>24</th>\n",
       "      <td>14:00</td>\n",
       "      <td>United States</td>\n",
       "      <td>Beige Book</td>\n",
       "      <td>-</td>\n",
       "      <td>-</td>\n",
       "      <td>-</td>\n",
       "      <td>2023-05-31</td>\n",
       "    </tr>\n",
       "    <tr>\n",
       "      <th>25</th>\n",
       "      <td>16:30</td>\n",
       "      <td>United States</td>\n",
       "      <td>API Weekly Crude Oil Stock</td>\n",
       "      <td>-</td>\n",
       "      <td>-</td>\n",
       "      <td>-6.799M</td>\n",
       "      <td>2023-05-31</td>\n",
       "    </tr>\n",
       "  </tbody>\n",
       "</table>\n",
       "</div>"
      ],
      "text/plain": [
       "   Time (ET)        Country                             Event  Actual  \\\n",
       "0    All Day  United States      United States - Memorial Day       -   \n",
       "1      09:00  United States                 House Price Index    3.6%   \n",
       "2      09:00  United States                 House Price Index    0.6%   \n",
       "3      09:00  United States                 House Price Index   398.0   \n",
       "4      09:00  United States    S&P/CS HPI Composite - 20 s.a.    0.5%   \n",
       "5      09:00  United States  S&P/CS HPI Composite - 20 n.s.a.    1.5%   \n",
       "6      09:00  United States  S&P/CS HPI Composite - 20 n.s.a.   -1.1%   \n",
       "7      10:00  United States            CB Consumer Confidence   102.3   \n",
       "8      10:30  United States     Dallas Fed Mfg Business Index   -29.1   \n",
       "9      11:30  United States              3-Month Bill Auction  5.300%   \n",
       "10     11:30  United States              6-Month Bill Auction  5.290%   \n",
       "11     07:00  United States         MBA 30-Year Mortgage Rate       -   \n",
       "12     07:00  United States         MBA Mortgage Applications       -   \n",
       "13     07:00  United States                MBA Purchase Index       -   \n",
       "14     07:00  United States             Mortgage Market Index       -   \n",
       "15     07:00  United States          Mortgage Refinance Index       -   \n",
       "16     08:50  United States         FOMC Member Bowman Speaks       -   \n",
       "17     08:55  United States                           Redbook       -   \n",
       "18     09:45  United States                       Chicago PMI       -   \n",
       "19     10:00  United States                JOLTs Job Openings       -   \n",
       "20     10:30  United States      Dallas Fed Services Revenues       -   \n",
       "21     10:30  United States     Texas Services Sector Outlook       -   \n",
       "22     12:30  United States         FOMC Member Harker Speaks       -   \n",
       "23     13:30  United States     Fed Governor Jefferson Speaks       -   \n",
       "24     14:00  United States                        Beige Book       -   \n",
       "25     16:30  United States        API Weekly Crude Oil Stock       -   \n",
       "\n",
       "   Consensus Previous        Date  \n",
       "0          -        -  2023-05-29  \n",
       "1       2.4%     4.2%  2023-05-30  \n",
       "2       0.2%     0.7%  2023-05-30  \n",
       "3      393.0    395.5  2023-05-30  \n",
       "4      -0.4%    -0.1%  2023-05-30  \n",
       "5       0.4%     0.3%  2023-05-30  \n",
       "6      -1.6%     0.4%  2023-05-30  \n",
       "7       99.0    103.7  2023-05-30  \n",
       "8          -    -23.4  2023-05-30  \n",
       "9          -   5.250%  2023-05-30  \n",
       "10         -   5.170%  2023-05-30  \n",
       "11         -    6.69%  2023-05-31  \n",
       "12         -    -4.6%  2023-05-31  \n",
       "13         -    158.3  2023-05-31  \n",
       "14         -    205.0  2023-05-31  \n",
       "15         -    443.0  2023-05-31  \n",
       "16         -        -  2023-05-31  \n",
       "17         -     1.5%  2023-05-31  \n",
       "18      47.0     48.6  2023-05-31  \n",
       "19    9.775M   9.590M  2023-05-31  \n",
       "20       4.2      6.9  2023-05-31  \n",
       "21     -16.0    -14.4  2023-05-31  \n",
       "22         -        -  2023-05-31  \n",
       "23         -        -  2023-05-31  \n",
       "24         -        -  2023-05-31  \n",
       "25         -  -6.799M  2023-05-31  "
      ]
     },
     "execution_count": 22,
     "metadata": {},
     "output_type": "execute_result"
    }
   ],
   "source": [
    "openbb.economy.events(countries ='united_states', start_date = (dt.now()  - relativedelta(days=3)).strftime('%Y-%m-%d'))"
   ]
  },
  {
   "cell_type": "code",
   "execution_count": null,
   "metadata": {},
   "outputs": [],
   "source": []
  }
 ],
 "metadata": {
  "kernelspec": {
   "display_name": "obb",
   "language": "python",
   "name": "python3"
  },
  "language_info": {
   "codemirror_mode": {
    "name": "ipython",
    "version": 3
   },
   "file_extension": ".py",
   "mimetype": "text/x-python",
   "name": "python",
   "nbconvert_exporter": "python",
   "pygments_lexer": "ipython3",
   "version": "3.9.13"
  },
  "orig_nbformat": 4
 },
 "nbformat": 4,
 "nbformat_minor": 2
}
